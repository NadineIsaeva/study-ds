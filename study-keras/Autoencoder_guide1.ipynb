{
 "cells": [
  {
   "cell_type": "code",
   "execution_count": 1,
   "metadata": {
    "colab": {
     "base_uri": "https://localhost:8080/",
     "height": 34
    },
    "colab_type": "code",
    "id": "C6EYRdQnZ-Y8",
    "outputId": "dd95caf1-30b8-4f2d-fae0-11762cd96079"
   },
   "outputs": [
    {
     "name": "stderr",
     "output_type": "stream",
     "text": [
      "Using TensorFlow backend.\n"
     ]
    }
   ],
   "source": [
    "from keras.layers import Dense, Input\n",
    "from keras.models import Model\n",
    "from keras.datasets import mnist\n",
    "from keras import regularizers\n",
    "import numpy as np\n",
    "import matplotlib.pyplot as plt\n",
    "import os\n",
    "os.environ['TF_CPP_MIN_LOG_LEVEL'] = '3'"
   ]
  },
  {
   "cell_type": "code",
   "execution_count": 0,
   "metadata": {
    "colab": {},
    "colab_type": "code",
    "id": "I9rO3dXuaMsz"
   },
   "outputs": [],
   "source": [
    "# Size of encoded representation\n",
    "encoding_dim = 32\n",
    "\n",
    "# Input placeholder\n",
    "input_img = Input(shape=(784,))\n",
    "\n",
    "# Encoded representation of input\n",
    "encoded = Dense(encoding_dim, activation='relu')(input_img)\n",
    "\n",
    "# Lossy reconstruction of input\n",
    "decoded = Dense(784, activation='sigmoid')(encoded)\n",
    "\n",
    "# Map input to its reconstruction\n",
    "autoencoder = Model(input_img, decoded)"
   ]
  },
  {
   "cell_type": "code",
   "execution_count": 0,
   "metadata": {
    "colab": {},
    "colab_type": "code",
    "id": "tSMlriGtbIeW"
   },
   "outputs": [],
   "source": [
    "# Map input to encoded representation\n",
    "encoder = Model(input_img, encoded)\n",
    "\n",
    "# Placeholder for encoded input\n",
    "encoded_input = Input(shape=(encoding_dim,))\n",
    "\n",
    "# Retrieve the last layer of autoencoder model\n",
    "decoder_layer = autoencoder.layers[-1]\n",
    "\n",
    "# Map encoded representation to reconstruction\n",
    "decoder = Model(encoded_input, decoder_layer(encoded_input))"
   ]
  },
  {
   "cell_type": "code",
   "execution_count": 0,
   "metadata": {
    "colab": {},
    "colab_type": "code",
    "id": "gQ9ojwo8d7hm"
   },
   "outputs": [],
   "source": [
    "# Specify loss function\n",
    "autoencoder.compile(optimizer='adadelta', loss='binary_crossentropy')"
   ]
  },
  {
   "cell_type": "code",
   "execution_count": 0,
   "metadata": {
    "colab": {},
    "colab_type": "code",
    "id": "STZdQakJeIGZ"
   },
   "outputs": [],
   "source": [
    "(x_train, _), (x_test, _) = mnist.load_data()"
   ]
  },
  {
   "cell_type": "code",
   "execution_count": 8,
   "metadata": {
    "colab": {
     "base_uri": "https://localhost:8080/",
     "height": 51
    },
    "colab_type": "code",
    "id": "sko5vjTeeYSO",
    "outputId": "2be873f5-0a6b-4e36-8a93-e36e7b120aed"
   },
   "outputs": [
    {
     "name": "stdout",
     "output_type": "stream",
     "text": [
      "(60000, 784)\n",
      "(10000, 784)\n"
     ]
    }
   ],
   "source": [
    "# Normalize values\n",
    "x_train = x_train.astype('float32') / 255.\n",
    "x_test = x_test.astype('float32') / 255.\n",
    "\n",
    "# Flatten into vectors\n",
    "x_train = x_train.reshape((len(x_train), np.prod(x_train.shape[1:])))\n",
    "x_test = x_test.reshape((len(x_test), np.prod(x_test.shape[1:])))\n",
    "print(x_train.shape)\n",
    "print(x_test.shape)"
   ]
  },
  {
   "cell_type": "code",
   "execution_count": 9,
   "metadata": {
    "colab": {
     "base_uri": "https://localhost:8080/",
     "height": 1000
    },
    "colab_type": "code",
    "id": "BEXtixpwerxD",
    "outputId": "6f97100d-9c25-48e3-d9a4-79b6ed427979"
   },
   "outputs": [
    {
     "name": "stderr",
     "output_type": "stream",
     "text": [
      "W0728 22:12:05.755203 139833110976384 deprecation_wrapper.py:119] From /usr/local/lib/python3.6/dist-packages/keras/backend/tensorflow_backend.py:986: The name tf.assign_add is deprecated. Please use tf.compat.v1.assign_add instead.\n",
      "\n"
     ]
    },
    {
     "name": "stdout",
     "output_type": "stream",
     "text": [
      "Train on 60000 samples, validate on 10000 samples\n",
      "Epoch 1/50\n",
      "60000/60000 [==============================] - 5s 81us/step - loss: 0.3564 - val_loss: 0.2705\n",
      "Epoch 2/50\n",
      "60000/60000 [==============================] - 5s 76us/step - loss: 0.2630 - val_loss: 0.2519\n",
      "Epoch 3/50\n",
      "60000/60000 [==============================] - 5s 76us/step - loss: 0.2417 - val_loss: 0.2291\n",
      "Epoch 4/50\n",
      "60000/60000 [==============================] - 5s 75us/step - loss: 0.2211 - val_loss: 0.2113\n",
      "Epoch 5/50\n",
      "60000/60000 [==============================] - 5s 76us/step - loss: 0.2064 - val_loss: 0.1990\n",
      "Epoch 6/50\n",
      "60000/60000 [==============================] - 4s 74us/step - loss: 0.1953 - val_loss: 0.1889\n",
      "Epoch 7/50\n",
      "60000/60000 [==============================] - 4s 75us/step - loss: 0.1863 - val_loss: 0.1809\n",
      "Epoch 8/50\n",
      "60000/60000 [==============================] - 5s 75us/step - loss: 0.1790 - val_loss: 0.1746\n",
      "Epoch 9/50\n",
      "60000/60000 [==============================] - 5s 75us/step - loss: 0.1732 - val_loss: 0.1692\n",
      "Epoch 10/50\n",
      "60000/60000 [==============================] - 4s 74us/step - loss: 0.1681 - val_loss: 0.1646\n",
      "Epoch 11/50\n",
      "60000/60000 [==============================] - 4s 73us/step - loss: 0.1636 - val_loss: 0.1601\n",
      "Epoch 12/50\n",
      "60000/60000 [==============================] - 4s 74us/step - loss: 0.1594 - val_loss: 0.1560\n",
      "Epoch 13/50\n",
      "60000/60000 [==============================] - 4s 73us/step - loss: 0.1555 - val_loss: 0.1523\n",
      "Epoch 14/50\n",
      "60000/60000 [==============================] - 4s 74us/step - loss: 0.1518 - val_loss: 0.1488\n",
      "Epoch 15/50\n",
      "60000/60000 [==============================] - 4s 73us/step - loss: 0.1484 - val_loss: 0.1455\n",
      "Epoch 16/50\n",
      "60000/60000 [==============================] - 4s 72us/step - loss: 0.1453 - val_loss: 0.1425\n",
      "Epoch 17/50\n",
      "60000/60000 [==============================] - 4s 73us/step - loss: 0.1424 - val_loss: 0.1397\n",
      "Epoch 18/50\n",
      "60000/60000 [==============================] - 4s 72us/step - loss: 0.1397 - val_loss: 0.1371\n",
      "Epoch 19/50\n",
      "60000/60000 [==============================] - 4s 73us/step - loss: 0.1372 - val_loss: 0.1347\n",
      "Epoch 20/50\n",
      "60000/60000 [==============================] - 4s 74us/step - loss: 0.1349 - val_loss: 0.1324\n",
      "Epoch 21/50\n",
      "60000/60000 [==============================] - 4s 74us/step - loss: 0.1326 - val_loss: 0.1302\n",
      "Epoch 22/50\n",
      "60000/60000 [==============================] - 5s 75us/step - loss: 0.1305 - val_loss: 0.1280\n",
      "Epoch 23/50\n",
      "60000/60000 [==============================] - 5s 75us/step - loss: 0.1284 - val_loss: 0.1260\n",
      "Epoch 24/50\n",
      "60000/60000 [==============================] - 4s 74us/step - loss: 0.1265 - val_loss: 0.1241\n",
      "Epoch 25/50\n",
      "60000/60000 [==============================] - 4s 74us/step - loss: 0.1246 - val_loss: 0.1223\n",
      "Epoch 26/50\n",
      "60000/60000 [==============================] - 4s 75us/step - loss: 0.1228 - val_loss: 0.1206\n",
      "Epoch 27/50\n",
      "60000/60000 [==============================] - 4s 74us/step - loss: 0.1212 - val_loss: 0.1189\n",
      "Epoch 28/50\n",
      "60000/60000 [==============================] - 4s 74us/step - loss: 0.1196 - val_loss: 0.1174\n",
      "Epoch 29/50\n",
      "60000/60000 [==============================] - 4s 73us/step - loss: 0.1181 - val_loss: 0.1159\n",
      "Epoch 30/50\n",
      "60000/60000 [==============================] - 4s 73us/step - loss: 0.1166 - val_loss: 0.1145\n",
      "Epoch 31/50\n",
      "60000/60000 [==============================] - 4s 73us/step - loss: 0.1153 - val_loss: 0.1132\n",
      "Epoch 32/50\n",
      "60000/60000 [==============================] - 4s 73us/step - loss: 0.1141 - val_loss: 0.1120\n",
      "Epoch 33/50\n",
      "60000/60000 [==============================] - 4s 75us/step - loss: 0.1129 - val_loss: 0.1109\n",
      "Epoch 34/50\n",
      "60000/60000 [==============================] - 4s 74us/step - loss: 0.1119 - val_loss: 0.1099\n",
      "Epoch 35/50\n",
      "60000/60000 [==============================] - 4s 73us/step - loss: 0.1109 - val_loss: 0.1089\n",
      "Epoch 36/50\n",
      "60000/60000 [==============================] - 4s 73us/step - loss: 0.1099 - val_loss: 0.1080\n",
      "Epoch 37/50\n",
      "60000/60000 [==============================] - 4s 74us/step - loss: 0.1090 - val_loss: 0.1071\n",
      "Epoch 38/50\n",
      "60000/60000 [==============================] - 4s 74us/step - loss: 0.1082 - val_loss: 0.1063\n",
      "Epoch 39/50\n",
      "60000/60000 [==============================] - 4s 74us/step - loss: 0.1075 - val_loss: 0.1056\n",
      "Epoch 40/50\n",
      "60000/60000 [==============================] - 4s 74us/step - loss: 0.1068 - val_loss: 0.1049\n",
      "Epoch 41/50\n",
      "60000/60000 [==============================] - 5s 75us/step - loss: 0.1061 - val_loss: 0.1043\n",
      "Epoch 42/50\n",
      "60000/60000 [==============================] - 5s 75us/step - loss: 0.1055 - val_loss: 0.1037\n",
      "Epoch 43/50\n",
      "60000/60000 [==============================] - 4s 73us/step - loss: 0.1049 - val_loss: 0.1032\n",
      "Epoch 44/50\n",
      "60000/60000 [==============================] - 4s 72us/step - loss: 0.1044 - val_loss: 0.1026\n",
      "Epoch 45/50\n",
      "60000/60000 [==============================] - 4s 72us/step - loss: 0.1039 - val_loss: 0.1022\n",
      "Epoch 46/50\n",
      "60000/60000 [==============================] - 4s 72us/step - loss: 0.1034 - val_loss: 0.1017\n",
      "Epoch 47/50\n",
      "60000/60000 [==============================] - 4s 72us/step - loss: 0.1030 - val_loss: 0.1013\n",
      "Epoch 48/50\n",
      "60000/60000 [==============================] - 4s 71us/step - loss: 0.1026 - val_loss: 0.1009\n",
      "Epoch 49/50\n",
      "60000/60000 [==============================] - 4s 72us/step - loss: 0.1022 - val_loss: 0.1006\n",
      "Epoch 50/50\n",
      "60000/60000 [==============================] - 4s 72us/step - loss: 0.1019 - val_loss: 0.1002\n"
     ]
    },
    {
     "data": {
      "text/plain": [
       "<keras.callbacks.History at 0x7f2d4bccc0f0>"
      ]
     },
     "execution_count": 9,
     "metadata": {
      "tags": []
     },
     "output_type": "execute_result"
    }
   ],
   "source": [
    "autoencoder.fit(x_train, x_train,\n",
    "                epochs=50,\n",
    "                batch_size=256, # numver of samples used in forward and back pass\n",
    "                shuffle=True,\n",
    "                validation_data=(x_test, x_test)) # data on which loss is estimated after each epoch"
   ]
  },
  {
   "cell_type": "code",
   "execution_count": 0,
   "metadata": {
    "colab": {},
    "colab_type": "code",
    "id": "v3J1_y4re_oR"
   },
   "outputs": [],
   "source": [
    "# Encode and decode images\n",
    "encoded_imgs = encoder.predict(x_test)\n",
    "decoded_imgs = decoder.predict(encoded_imgs)"
   ]
  },
  {
   "cell_type": "code",
   "execution_count": 11,
   "metadata": {
    "colab": {
     "base_uri": "https://localhost:8080/",
     "height": 244
    },
    "colab_type": "code",
    "id": "sKoEf2lAfSkE",
    "outputId": "fe827b5c-1723-49a5-c627-7b632d6480ba"
   },
   "outputs": [
    {
     "data": {
      "image/png": "[encoded data removed]",
      "text/plain": [
       "<Figure size 1440x288 with 20 Axes>"
      ]
     },
     "metadata": {
      "tags": []
     },
     "output_type": "display_data"
    }
   ],
   "source": [
    "n = 10\n",
    "plt.figure(figsize=(20, 4))\n",
    "for i in range(n):\n",
    "    # display original\n",
    "    ax = plt.subplot(2, n, i + 1)\n",
    "    plt.imshow(x_test[i].reshape(28, 28))\n",
    "    plt.gray()\n",
    "    ax.get_xaxis().set_visible(False)\n",
    "    ax.get_yaxis().set_visible(False)\n",
    "\n",
    "    # display reconstruction\n",
    "    ax = plt.subplot(2, n, i + 1 + n)\n",
    "    plt.imshow(decoded_imgs[i].reshape(28, 28))\n",
    "    plt.gray()\n",
    "    ax.get_xaxis().set_visible(False)\n",
    "    ax.get_yaxis().set_visible(False)"
   ]
  },
  {
   "cell_type": "code",
   "execution_count": 12,
   "metadata": {
    "colab": {
     "base_uri": "https://localhost:8080/",
     "height": 34
    },
    "colab_type": "code",
    "id": "m5WU7luhik9c",
    "outputId": "7c24c54e-37c2-466a-fcaa-02d1f4c30906"
   },
   "outputs": [
    {
     "data": {
      "text/plain": [
       "7.5999804"
      ]
     },
     "execution_count": 12,
     "metadata": {
      "tags": []
     },
     "output_type": "execute_result"
    }
   ],
   "source": [
    "encoded_imgs.mean()"
   ]
  }
 ],
 "metadata": {
  "colab": {
   "name": "Autoencoder_guide1.ipynb",
   "provenance": [],
   "version": "0.3.2"
  },
  "kernelspec": {
   "display_name": "Python 3",
   "language": "python",
   "name": "python3"
  },
  "language_info": {
   "codemirror_mode": {
    "name": "ipython",
    "version": 3
   },
   "file_extension": ".py",
   "mimetype": "text/x-python",
   "name": "python",
   "nbconvert_exporter": "python",
   "pygments_lexer": "ipython3",
   "version": "3.6.8"
  }
 },
 "nbformat": 4,
 "nbformat_minor": 1
}
