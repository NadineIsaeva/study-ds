{
 "cells": [
  {
   "cell_type": "markdown",
   "metadata": {},
   "source": [
    "Source 1: https://hackernoon.com/linear-programming-in-python-a-straight-forward-tutorial-a0d152618121\n",
    "\n",
    "Cost of computer model = 500&#36;\n",
    "\n",
    "+ Factory f0: 2000 per day at 450&#36; per unit\n",
    "+ Factory f1: 1500 per day at 420&#36; per unit\n",
    "+ Factory f2: 1000 per day at 400&#36; per unit\n",
    "\n",
    "Goal: 1 month to assemble 80 000 units\n",
    "\n",
    "Constraint: no factory is to produce more than double the units than any other factory\n",
    "\n",
    "Question: find optimal production allocation between the factories which maximizes the profit obtained from selling the computers under constraints"
   ]
  },
  {
   "cell_type": "code",
   "execution_count": 1,
   "metadata": {},
   "outputs": [
    {
     "data": {
      "text/plain": [
       "{0: factoryDays_0, 1: factoryDays_1, 2: factoryDays_2}"
      ]
     },
     "metadata": {},
     "output_type": "display_data"
    },
    {
     "data": {
      "text/plain": [
       "Production units allocation:\n",
       "MAXIMIZE\n",
       "-900000*factoryDays_0 + -630000*factoryDays_1 + -400000*factoryDays_2 + 0\n",
       "SUBJECT TO\n",
       "_C1: 1500 factoryDays_0 + 1500 factoryDays_1 + 1000 factoryDays_2 >= 80000\n",
       "\n",
       "_C2: 2000 factoryDays_0 - 3000 factoryDays_1 <= 0\n",
       "\n",
       "_C3: 2000 factoryDays_0 - 2000 factoryDays_2 <= 0\n",
       "\n",
       "_C4: 1500 factoryDays_1 - 2000 factoryDays_2 <= 0\n",
       "\n",
       "_C5: - 4000 factoryDays_0 + 1500 factoryDays_1 <= 0\n",
       "\n",
       "_C6: - 3000 factoryDays_1 + 1000 factoryDays_2 <= 0\n",
       "\n",
       "_C7: - 4000 factoryDays_0 + 1000 factoryDays_2 <= 0\n",
       "\n",
       "VARIABLES\n",
       "factoryDays_0 <= 30 Continuous\n",
       "factoryDays_1 <= 30 Continuous\n",
       "factoryDays_2 <= 30 Continuous"
      ]
     },
     "metadata": {},
     "output_type": "display_data"
    }
   ],
   "source": [
    "from pulp import *\n",
    "import pandas as pd\n",
    "\n",
    "problem = LpProblem('Production units allocation', LpMaximize)\n",
    "\n",
    "# factory cost per day\n",
    "cf0 = 450\n",
    "cf1 = 420\n",
    "cf2 = 400\n",
    "\n",
    "# number of units per day\n",
    "f0 = 2000\n",
    "f1 = 1500\n",
    "f2 = 1000\n",
    "\n",
    "# total units\n",
    "goal = 80000\n",
    "\n",
    "# time limit\n",
    "max_num_days = 30\n",
    "\n",
    "num_factories = 3\n",
    "\n",
    "# decision variable - number of days spent producing for each factory\n",
    "factory_days = LpVariable.dicts('factoryDays', list(range(num_factories)), 0, 30, cat='Continuous')\n",
    "display(factory_days)\n",
    "\n",
    "# goal constraint\n",
    "c1 = factory_days[0] * f1 + factory_days[1] * f1 + factory_days[2] * f2 >= goal\n",
    "\n",
    "# production constraints\n",
    "c2 = factory_days[0]*f0 <= 2*factory_days[1]*f1\n",
    "c3 = factory_days[0]*f0 <= 2*factory_days[2]*f2\n",
    "c4 = factory_days[1]*f1 <= 2*factory_days[2]*f2\n",
    "c5 = factory_days[1]*f1 <= 2*factory_days[0]*f0\n",
    "c6 = factory_days[2]*f2 <= 2*factory_days[1]*f1\n",
    "c7 = factory_days[2]*f2 <= 2*factory_days[0]*f0\n",
    "\n",
    "for c in [c1, c2, c3, c4, c5, c6, c7]:\n",
    "    problem += c\n",
    "    \n",
    "# objective function - minimizing the cost of assembling all of those computers\n",
    "# ~ maximizing the negative cost\n",
    "\n",
    "problem += -factory_days[0]*cf0*f0 - factory_days[1]*cf1*f1 - factory_days[2]*cf2*f2\n",
    "\n",
    "display(problem)"
   ]
  },
  {
   "cell_type": "code",
   "execution_count": 2,
   "metadata": {},
   "outputs": [
    {
     "name": "stdout",
     "output_type": "stream",
     "text": [
      "Optimal\n",
      "Factory 0: 9.0909091\n",
      "Factory 1: 24.242424\n",
      "Factory 2: 30.0\n"
     ]
    }
   ],
   "source": [
    "problem.solve()\n",
    "# 1 - solvable\n",
    "\n",
    "print(LpStatus[problem.solve()])\n",
    "\n",
    "# Results - optimal number of days for each factory \n",
    "for i in range(3):\n",
    "    print(f\"Factory {i}: {factory_days[i].varValue}\")\n",
    "    \n",
    "# print(value(problem.objective))"
   ]
  },
  {
   "cell_type": "markdown",
   "metadata": {},
   "source": [
    "Source 2: https://bit.ly/2MwMW3C\n",
    "\n",
    "**Objective Function:** The main aim of the problem, either to maximize of to minimize, is the objective function of linear programming.\n",
    "\n",
    "**Decision Variables:** The variables used to decide the output as decision variables. They are the unknowns of the mathematical programming model.\n",
    "\n",
    "**Constraints:** These are the restrictions on the decision variables.\n",
    "\n",
    "**Non – negativity restrictions:** In linear programming, the values for decision variables are always greater than or equal to 0."
   ]
  },
  {
   "cell_type": "code",
   "execution_count": 3,
   "metadata": {},
   "outputs": [
    {
     "data": {
      "text/plain": [
       "Problem:\n",
       "MINIMIZE\n",
       "3*x + 5*y + 0\n",
       "SUBJECT TO\n",
       "_C1: 2 x + 3 y >= 12\n",
       "\n",
       "_C2: - x + y <= 3\n",
       "\n",
       "_C3: x >= 4\n",
       "\n",
       "_C4: y <= 3\n",
       "\n",
       "VARIABLES\n",
       "x Continuous\n",
       "y Continuous"
      ]
     },
     "metadata": {},
     "output_type": "display_data"
    }
   ],
   "source": [
    "# Defining a problem\n",
    "problem = LpProblem('Problem', LpMinimize)\n",
    "\n",
    "# Define decision variables\n",
    "x = LpVariable('x', lowBound=0)\n",
    "y = LpVariable('y', lowBound=0)\n",
    "\n",
    "# Define objective function to minimize\n",
    "problem += 3 * x + 5 * y\n",
    "\n",
    "# Decision variable limitations\n",
    "problem += 2 * x + 3 * y >= 12\n",
    "problem += -x + y <= 3\n",
    "problem += x >= 4\n",
    "problem += y <= 3\n",
    "\n",
    "display(problem)"
   ]
  },
  {
   "cell_type": "code",
   "execution_count": 4,
   "metadata": {},
   "outputs": [
    {
     "data": {
      "text/plain": [
       "'Optimal'"
      ]
     },
     "metadata": {},
     "output_type": "display_data"
    },
    {
     "name": "stdout",
     "output_type": "stream",
     "text": [
      "x: 6.0, y: 0.0\n",
      "Minimum of objective function: 18.0\n"
     ]
    }
   ],
   "source": [
    "status = problem.solve()\n",
    "display(LpStatus[status])\n",
    "\n",
    "print(f'x: {value(x)}, y: {value(y)}\\nMinimum of objective function: {value(problem.objective)}')"
   ]
  },
  {
   "cell_type": "markdown",
   "metadata": {},
   "source": [
    "Source: https://itnext.io/introduction-to-linear-programming-with-python-1068778600ae\n",
    "\n",
    "Decision Variables:\n",
    "+ x - units of Medisine 1\n",
    "+ y - units of Medisine 2\n",
    "\n",
    "Objective: 25 * x + 10 * y (max)\n",
    "\n",
    "Constraints:\n",
    "+ Herb A : 3 * x + 4 * y <=25\n",
    "+ Herb B : 2 * x + y <= 10\n",
    "\n",
    "Non-neg.:\n",
    "+ x >= 0\n",
    "+ y >= 0"
   ]
  },
  {
   "cell_type": "code",
   "execution_count": 5,
   "metadata": {},
   "outputs": [
    {
     "name": "stdout",
     "output_type": "stream",
     "text": [
      "Status: Optimal\n",
      "Medicine_1_units = 3.0\n",
      "Medicine_2_units = 4.0\n",
      "Maximum health can be restored: 155.0\n"
     ]
    }
   ],
   "source": [
    "problem = LpProblem(\"Medicine\", LpMaximize)\n",
    "\n",
    "# Decision variables\n",
    "x = LpVariable('Medicine 1 units', 0, None, LpInteger)\n",
    "y = LpVariable('Medicine 2 units', 0, None, LpInteger)\n",
    "\n",
    "# Objective\n",
    "problem += 25 * x + 20 * y, 'Health restored; to be maximized'\n",
    "\n",
    "# Constraints\n",
    "problem += 3 * x + 4 * y <= 25, 'Herb A constraint'\n",
    "problem += 2 * x + y <= 10, 'Herb B constraint'\n",
    "\n",
    "# Write problem data to Lp file\n",
    "problem.writeLP('Medicine.lp')\n",
    "\n",
    "status = problem.solve()\n",
    "print(f'Status: {LpStatus[status]}')\n",
    "\n",
    "for var in problem.variables():\n",
    "    print(var.name, '=', var.varValue)\n",
    "    \n",
    "# Optimized objective\n",
    "print(f'Maximum health can be restored: {value(problem.objective)}')"
   ]
  },
  {
   "cell_type": "code",
   "execution_count": 6,
   "metadata": {},
   "outputs": [
    {
     "data": {
      "text/html": [
       "<div>\n",
       "<style scoped>\n",
       "    .dataframe tbody tr th:only-of-type {\n",
       "        vertical-align: middle;\n",
       "    }\n",
       "\n",
       "    .dataframe tbody tr th {\n",
       "        vertical-align: top;\n",
       "    }\n",
       "\n",
       "    .dataframe thead th {\n",
       "        text-align: right;\n",
       "    }\n",
       "</style>\n",
       "<table border=\"1\" class=\"dataframe\">\n",
       "  <thead>\n",
       "    <tr style=\"text-align: right;\">\n",
       "      <th></th>\n",
       "      <th>Foods</th>\n",
       "      <th>Price/Serving</th>\n",
       "      <th>Serving Size</th>\n",
       "      <th>Calories</th>\n",
       "      <th>Cholesterol (mg)</th>\n",
       "      <th>Total_Fat (g)</th>\n",
       "      <th>Sodium (mg)</th>\n",
       "      <th>Carbohydrates (g)</th>\n",
       "      <th>Dietary_Fiber (g)</th>\n",
       "      <th>Protein (g)</th>\n",
       "      <th>Vit_A (IU)</th>\n",
       "      <th>Vit_C (IU)</th>\n",
       "      <th>Calcium (mg)</th>\n",
       "      <th>Iron (mg)</th>\n",
       "    </tr>\n",
       "  </thead>\n",
       "  <tbody>\n",
       "    <tr>\n",
       "      <th>0</th>\n",
       "      <td>Frozen Broccoli</td>\n",
       "      <td>0.48</td>\n",
       "      <td>10 Oz Pkg</td>\n",
       "      <td>73.8</td>\n",
       "      <td>0.0</td>\n",
       "      <td>0.8</td>\n",
       "      <td>68.2</td>\n",
       "      <td>13.6</td>\n",
       "      <td>8.5</td>\n",
       "      <td>8.0</td>\n",
       "      <td>5867.4</td>\n",
       "      <td>160.2</td>\n",
       "      <td>159.0</td>\n",
       "      <td>2.3</td>\n",
       "    </tr>\n",
       "    <tr>\n",
       "      <th>1</th>\n",
       "      <td>Frozen Corn</td>\n",
       "      <td>0.54</td>\n",
       "      <td>1/2 Cup</td>\n",
       "      <td>72.2</td>\n",
       "      <td>0.0</td>\n",
       "      <td>0.6</td>\n",
       "      <td>2.5</td>\n",
       "      <td>17.1</td>\n",
       "      <td>2.0</td>\n",
       "      <td>2.5</td>\n",
       "      <td>106.6</td>\n",
       "      <td>5.2</td>\n",
       "      <td>3.3</td>\n",
       "      <td>0.3</td>\n",
       "    </tr>\n",
       "    <tr>\n",
       "      <th>2</th>\n",
       "      <td>Raw Lettuce Iceberg</td>\n",
       "      <td>0.06</td>\n",
       "      <td>1 Leaf</td>\n",
       "      <td>2.6</td>\n",
       "      <td>0.0</td>\n",
       "      <td>0.0</td>\n",
       "      <td>1.8</td>\n",
       "      <td>0.4</td>\n",
       "      <td>0.3</td>\n",
       "      <td>0.2</td>\n",
       "      <td>66.0</td>\n",
       "      <td>0.8</td>\n",
       "      <td>3.8</td>\n",
       "      <td>0.1</td>\n",
       "    </tr>\n",
       "    <tr>\n",
       "      <th>3</th>\n",
       "      <td>Baked Potatoes</td>\n",
       "      <td>0.18</td>\n",
       "      <td>1/2 Cup</td>\n",
       "      <td>171.5</td>\n",
       "      <td>0.0</td>\n",
       "      <td>0.2</td>\n",
       "      <td>15.2</td>\n",
       "      <td>39.9</td>\n",
       "      <td>3.2</td>\n",
       "      <td>3.7</td>\n",
       "      <td>0.0</td>\n",
       "      <td>15.6</td>\n",
       "      <td>22.7</td>\n",
       "      <td>4.3</td>\n",
       "    </tr>\n",
       "    <tr>\n",
       "      <th>4</th>\n",
       "      <td>Tofu</td>\n",
       "      <td>0.93</td>\n",
       "      <td>1/4 block</td>\n",
       "      <td>88.2</td>\n",
       "      <td>0.0</td>\n",
       "      <td>5.5</td>\n",
       "      <td>8.1</td>\n",
       "      <td>2.2</td>\n",
       "      <td>1.4</td>\n",
       "      <td>9.4</td>\n",
       "      <td>98.6</td>\n",
       "      <td>0.1</td>\n",
       "      <td>121.8</td>\n",
       "      <td>6.2</td>\n",
       "    </tr>\n",
       "  </tbody>\n",
       "</table>\n",
       "</div>"
      ],
      "text/plain": [
       "                 Foods  Price/Serving Serving Size  Calories  \\\n",
       "0      Frozen Broccoli           0.48    10 Oz Pkg      73.8   \n",
       "1          Frozen Corn           0.54      1/2 Cup      72.2   \n",
       "2  Raw Lettuce Iceberg           0.06       1 Leaf       2.6   \n",
       "3       Baked Potatoes           0.18      1/2 Cup     171.5   \n",
       "4                 Tofu           0.93    1/4 block      88.2   \n",
       "\n",
       "   Cholesterol (mg)  Total_Fat (g)  Sodium (mg)  Carbohydrates (g)  \\\n",
       "0               0.0            0.8         68.2               13.6   \n",
       "1               0.0            0.6          2.5               17.1   \n",
       "2               0.0            0.0          1.8                0.4   \n",
       "3               0.0            0.2         15.2               39.9   \n",
       "4               0.0            5.5          8.1                2.2   \n",
       "\n",
       "   Dietary_Fiber (g)  Protein (g)  Vit_A (IU)  Vit_C (IU)  Calcium (mg)  \\\n",
       "0                8.5          8.0      5867.4       160.2         159.0   \n",
       "1                2.0          2.5       106.6         5.2           3.3   \n",
       "2                0.3          0.2        66.0         0.8           3.8   \n",
       "3                3.2          3.7         0.0        15.6          22.7   \n",
       "4                1.4          9.4        98.6         0.1         121.8   \n",
       "\n",
       "   Iron (mg)  \n",
       "0        2.3  \n",
       "1        0.3  \n",
       "2        0.1  \n",
       "3        4.3  \n",
       "4        6.2  "
      ]
     },
     "metadata": {},
     "output_type": "display_data"
    }
   ],
   "source": [
    "# https://towardsdatascience.com/linear-programming-and-discrete-optimization-with-python-using-pulp-449f3c5f6e99\n",
    "\n",
    "problem = LpProblem('Diet Problem', LpMinimize)\n",
    "\n",
    "df = pd.read_excel('data/diet - medium.xls', nrows=17)\n",
    "display(df.head())"
   ]
  },
  {
   "attachments": {
    "data%20and%20constraints.png": {
     "image/png": "[encoded data removed]"
    }
   },
   "cell_type": "markdown",
   "metadata": {},
   "source": [
    "![data%20and%20constraints.png](attachment:data%20and%20constraints.png)"
   ]
  },
  {
   "cell_type": "code",
   "execution_count": 7,
   "metadata": {},
   "outputs": [
    {
     "name": "stdout",
     "output_type": "stream",
     "text": [
      "Frozen Broccoli : 0.48\n",
      "Frozen Corn : 0.54\n",
      "Raw Lettuce Iceberg : 0.06\n",
      "Optimal\n"
     ]
    }
   ],
   "source": [
    "# list of food items\n",
    "food_items = list(df['Foods'])\n",
    "\n",
    "# Dict food item: cost\n",
    "costs = dict(zip(food_items, df['Price/Serving']))\n",
    "for k, v in list(costs.items())[:3]:\n",
    "    print(k, ':', v)\n",
    "    \n",
    "# Dict food item : calories\n",
    "calories = dict(zip(food_items, df['Calories']))\n",
    "\n",
    "fat = dict(zip(food_items, df['Total_Fat (g)']))\n",
    "\n",
    "carbs = dict(zip(food_items, df['Carbohydrates (g)']))\n",
    "\n",
    "protein = dict(zip(food_items, df['Protein (g)']))\n",
    "\n",
    "fiber = dict(zip(food_items, df['Dietary_Fiber (g)']))\n",
    "\n",
    "vitA = dict(zip(food_items, df['Vit_A (IU)']))\n",
    "\n",
    "# Decision variables\n",
    "food_vars = LpVariable.dicts('Food', food_items, lowBound=0, cat='Integer')\n",
    "\n",
    "# Objective\n",
    "problem += lpSum([costs[i]*food_vars[i] for i in food_items])\n",
    "\n",
    "# Constrains\n",
    "problem += lpSum([calories[f] * food_vars[f] for f in food_items]) >= 800.0\n",
    "problem += lpSum([calories[f] * food_vars[f] for f in food_items]) <= 1300.0\n",
    "\n",
    "# Fat\n",
    "problem += lpSum([fat[f] * food_vars[f] for f in food_items]) >= 20.0, \"FatMinimum\"\n",
    "problem += lpSum([fat[f] * food_vars[f] for f in food_items]) <= 50.0, \"FatMaximum\"\n",
    "\n",
    "# Carbs\n",
    "problem += lpSum([carbs[f] * food_vars[f] for f in food_items]) >= 130, \"Carbs minimum\"\n",
    "problem += lpSum([carbs[f] * food_vars[f] for f in food_items]) <= 200, \"Carbs maximum\"\n",
    "\n",
    "# Protein\n",
    "problem += lpSum([protein[f] * food_vars[f] for f in food_items]) >= 100, \"Protein minimum\"\n",
    "problem += lpSum([protein[f] * food_vars[f] for f in food_items]) >= 150, \"Protein maximum\"\n",
    "\n",
    "# Fiber\n",
    "#problem += lpSum([fiber[f] * food_vars[f] for f in food_items]) >= 60, \"Fiber minimum\"\n",
    "#problem += lpSum([fiber[f] * food_vars[f] for f in food_items]) >= 125, \"Fiber maximum\"\n",
    "\n",
    "# Vitamin A\n",
    "problem += lpSum([vitA[f] * food_vars[f] for f in food_items]) >= 400, \"vitA minimum\"\n",
    "problem += lpSum([vitA[f] * food_vars[f] for f in food_items]) >= 5000, \"vitA maximum\"\n",
    "\n",
    "print(LpStatus[problem.solve()])"
   ]
  },
  {
   "cell_type": "code",
   "execution_count": 8,
   "metadata": {},
   "outputs": [
    {
     "name": "stdout",
     "output_type": "stream",
     "text": [
      "Food_Chocolate_Chip_Cookies = 1.0\n",
      "Food_Frozen_Broccoli = 8.0\n",
      "Food_Roasted_Chicken = 2.0\n",
      "Food_Wheat_Bread = 1.0\n"
     ]
    }
   ],
   "source": [
    "for var in problem.variables():\n",
    "    if var.varValue > 0:\n",
    "        print(var.name, '=', var.varValue)\n",
    "        \n",
    "# optimum?"
   ]
  },
  {
   "cell_type": "code",
   "execution_count": 9,
   "metadata": {},
   "outputs": [
    {
     "name": "stdout",
     "output_type": "stream",
     "text": [
      "Minimum cost of diet: 9.12\n"
     ]
    }
   ],
   "source": [
    "# Minimum of objective function\n",
    "print(f'Minimum cost of diet: {value(problem.objective)}')"
   ]
  }
 ],
 "metadata": {
  "kernelspec": {
   "display_name": "Python 3",
   "language": "python",
   "name": "python3"
  },
  "language_info": {
   "codemirror_mode": {
    "name": "ipython",
    "version": 3
   },
   "file_extension": ".py",
   "mimetype": "text/x-python",
   "name": "python",
   "nbconvert_exporter": "python",
   "pygments_lexer": "ipython3",
   "version": "3.6.8"
  }
 },
 "nbformat": 4,
 "nbformat_minor": 2
}
