{
 "cells": [
  {
   "cell_type": "code",
   "execution_count": 1,
   "metadata": {},
   "outputs": [],
   "source": [
    "# https://habr.com/ru/company/ods/blog/336168/ (2 часть - как работать с выбросами)\n",
    "\n",
    "import xgboost as xgb\n",
    "from sklearn.model_selection import cross_val_score, KFold, cross_val_predict, StratifiedKFold\n",
    "from sklearn.metrics import r2_score\n",
    "import pandas as pd\n",
    "import numpy as np\n",
    "import seaborn as sns\n",
    "from scipy.stats import ttest_rel"
   ]
  },
  {
   "cell_type": "code",
   "execution_count": 2,
   "metadata": {},
   "outputs": [
    {
     "data": {
      "text/plain": [
       "array([0.37630003, 0.43968909, 0.5886552 , 0.54800137, 0.55752035])"
      ]
     },
     "execution_count": 2,
     "metadata": {},
     "output_type": "execute_result"
    }
   ],
   "source": [
    "data = pd.read_csv('data/train.csv')\n",
    "y_train = data['y'].values\n",
    "X_train = data.drop('y', axis=1).select_dtypes(include=[np.number])\n",
    "cross_val_score(estimator=xgb.XGBRegressor(objective ='reg:squarederror'),\n",
    "                X=X_train, y=y_train,\n",
    "                cv=5, scoring='r2')\n",
    "\n",
    "# R2 coef - outliers dependant"
   ]
  },
  {
   "cell_type": "code",
   "execution_count": 3,
   "metadata": {},
   "outputs": [],
   "source": [
    "# 1 split into 5 folds --> 10 splits into 5 folds\n",
    "\n",
    "scores = np.array([])\n",
    "for i in range(10):\n",
    "    kf = KFold(n_splits=5, shuffle=True, random_state=i)\n",
    "    scores_on_this_split = cross_val_score(\n",
    "        estimator=xgb.XGBRegressor(objective ='reg:squarederror'),\n",
    "        X=X_train, y=y_train,\n",
    "        cv=kf, scoring='r2'\n",
    "    )\n",
    "    scores = np.append(scores, scores_on_this_split) # 50 scores"
   ]
  },
  {
   "cell_type": "markdown",
   "metadata": {},
   "source": [
    "1. Compare model results on each fold: score on nth fold ModelA - score on nth fold in ModelB\n",
    "2. Average differences: (1st fold diff + .. + nth fold diff) / n\n",
    "\n",
    "\n",
    "Check for significance of scores diffs of 2 models on 50 folds ==> \n",
    "\n",
    "t-критерий Стьюдента для связанных выборок:\n",
    "+ https://www.youtube.com/watch?v=HT3QpRp2ewA&feature=youtu.be)\n",
    "+ https://www.coursera.org/learn/stats-for-data-analysis/home/welcome\n",
    "+ https://docs.scipy.org/doc/scipy-0.14.0/reference/generated/scipy.stats.ttest_rel.html"
   ]
  },
  {
   "cell_type": "markdown",
   "metadata": {},
   "source": [
    "$$T(X_1^n,X_2^n) = \\frac{E(X_1)-E(X_2)}{S/\\sqrt{n}},$$"
   ]
  },
  {
   "cell_type": "markdown",
   "metadata": {},
   "source": [
    "где $X_1^n,X_2^n$ списки значений метрики по тестовым фолдам для первой и второй модели соответственно, S – дисперсия попарных разностей, n – число фолдов\n",
    "\n",
    "H0 - обе модели дают одинаковые результаты"
   ]
  },
  {
   "cell_type": "code",
   "execution_count": 4,
   "metadata": {},
   "outputs": [
    {
     "data": {
      "text/plain": [
       "Ttest_relResult(statistic=5.863392177631244, pvalue=3.797169194072895e-07)"
      ]
     },
     "execution_count": 4,
     "metadata": {},
     "output_type": "execute_result"
    }
   ],
   "source": [
    "y_train = data['y'].values\n",
    "X_train = data.drop('y', axis=1).select_dtypes(include=[np.number])\n",
    "scores_100_trees = np.array([])\n",
    "scores_110_trees = np.array([])\n",
    "\n",
    "for i in range(10):\n",
    "    kf = KFold(n_splits=5, shuffle=True, random_state=i)\n",
    "    \n",
    "    # get scores for folds in split with 100 trees\n",
    "    scores_100_trees_on_this_split = cross_val_score(\n",
    "        estimator=xgb.XGBRegressor(objective ='reg:squarederror', n_estimators=100),\n",
    "        X=X_train, y=y_train,\n",
    "        cv=kf, scoring='r2'\n",
    "    )\n",
    "    scores_100_trees = np.append(scores_100_trees, scores_100_trees_on_this_split)\n",
    "    \n",
    "    # get scores for folds in split with 110 trees\n",
    "    scores_110_trees_on_this_split = cross_val_score(\n",
    "        estimator=xgb.XGBRegressor(objective ='reg:squarederror', n_estimators=110),\n",
    "        X=X_train, y=y_train,\n",
    "        cv=kf, scoring='r2'\n",
    "    )\n",
    "    scores_110_trees = np.append(scores_110_trees, scores_110_trees_on_this_split)\n",
    "    \n",
    "ttest_rel(scores_100_trees, scores_110_trees) # 2 ndarrays of r2-scores "
   ]
  },
  {
   "cell_type": "code",
   "execution_count": 5,
   "metadata": {},
   "outputs": [
    {
     "data": {
      "text/html": [
       "<div>\n",
       "<style scoped>\n",
       "    .dataframe tbody tr th:only-of-type {\n",
       "        vertical-align: middle;\n",
       "    }\n",
       "\n",
       "    .dataframe tbody tr th {\n",
       "        vertical-align: top;\n",
       "    }\n",
       "\n",
       "    .dataframe thead th {\n",
       "        text-align: right;\n",
       "    }\n",
       "</style>\n",
       "<table border=\"1\" class=\"dataframe\">\n",
       "  <thead>\n",
       "    <tr style=\"text-align: right;\">\n",
       "      <th></th>\n",
       "      <th>mean</th>\n",
       "      <th>std</th>\n",
       "    </tr>\n",
       "  </thead>\n",
       "  <tbody>\n",
       "    <tr>\n",
       "      <th>100 trees</th>\n",
       "      <td>0.569014</td>\n",
       "      <td>0.053216</td>\n",
       "    </tr>\n",
       "    <tr>\n",
       "      <th>110 trees</th>\n",
       "      <td>0.568195</td>\n",
       "      <td>0.053259</td>\n",
       "    </tr>\n",
       "  </tbody>\n",
       "</table>\n",
       "</div>"
      ],
      "text/plain": [
       "               mean       std\n",
       "100 trees  0.569014  0.053216\n",
       "110 trees  0.568195  0.053259"
      ]
     },
     "metadata": {},
     "output_type": "display_data"
    }
   ],
   "source": [
    "# Reject the H0 (models are different)\n",
    "\n",
    "# сравнение средних\n",
    "display(pd.DataFrame({\n",
    "    'mean': [np.mean(scores_100_trees),  np.mean(scores_110_trees)],\n",
    "    'std': [np.std(scores_100_trees), np.std(scores_110_trees)]\n",
    "}, index=['100 trees', '110 trees']))"
   ]
  },
  {
   "cell_type": "code",
   "execution_count": 6,
   "metadata": {},
   "outputs": [
    {
     "name": "stdout",
     "output_type": "stream",
     "text": [
      "Populating the interactive namespace from numpy and matplotlib\n"
     ]
    },
    {
     "data": {
      "text/plain": [
       "Text(0, 0.5, 't-statistic')"
      ]
     },
     "execution_count": 6,
     "metadata": {},
     "output_type": "execute_result"
    },
    {
     "data": {
      "image/png": "[encoded data removed]",
      "text/plain": [
       "<Figure size 432x288 with 1 Axes>"
      ]
     },
     "metadata": {
      "needs_background": "light"
     },
     "output_type": "display_data"
    }
   ],
   "source": [
    "# Altrenatives to GridSearch: optimize important hyperparameters one by one\n",
    "\n",
    "# Optimize n_estimators\n",
    "%pylab inline\n",
    "\n",
    "t_stats = []\n",
    "n_trees = []\n",
    "# for each number of estimators\n",
    "for j in range(50, 100):\n",
    "    current_score = np.array([])\n",
    "    # 10 times\n",
    "    for i in range(10):\n",
    "        # make 5 splits\n",
    "        kf = KFold(n_splits=5, shuffle=True, random_state=i)\n",
    "        # calculate r2 score on each fold as test fold\n",
    "        scores_on_this_split = cross_val_score(\n",
    "                                      estimator=xgb.XGBRegressor(objective ='reg:squarederror',\n",
    "                                                                 n_estimators=j),\n",
    "                                      X=X_train, y=y_train,\n",
    "                                      cv=kf, scoring='r2')\n",
    "        current_score = np.append(current_score,\n",
    "                                  scores_on_this_split)\n",
    "        # check significance of diffference with baseline(100 trees)\n",
    "    t_stat, p_value = ttest_rel(current_score, scores_100_trees)\n",
    "    t_stats.append(t_stat)\n",
    "    n_trees.append(j)\n",
    "plt.plot(n_trees, t_stats)\n",
    "plt.xlabel('n_estimators')\n",
    "plt.ylabel('t-statistic')"
   ]
  },
  {
   "cell_type": "markdown",
   "metadata": {},
   "source": [
    "Отложенная выборка:\n",
    "1. Посчитали, какой результат дает бейзлайн на отложенной выборке\n",
    "2. Model hyperparameters tuning \n",
    "3. Посчитать результат модели на отложенной выборке\n"
   ]
  },
  {
   "cell_type": "code",
   "execution_count": 7,
   "metadata": {},
   "outputs": [
    {
     "data": {
      "image/png": "[encoded data removed]",
      "text/plain": [
       "<Figure size 432x288 with 1 Axes>"
      ]
     },
     "metadata": {
      "needs_background": "light"
     },
     "output_type": "display_data"
    },
    {
     "data": {
      "text/plain": [
       "<matplotlib.collections.PathCollection at 0x7f0dfc850160>"
      ]
     },
     "execution_count": 7,
     "metadata": {},
     "output_type": "execute_result"
    },
    {
     "data": {
      "image/png": "[encoded data removed]",
      "text/plain": [
       "<Figure size 432x288 with 1 Axes>"
      ]
     },
     "metadata": {
      "needs_background": "light"
     },
     "output_type": "display_data"
    }
   ],
   "source": [
    "np.random.seed(3)\n",
    "X = 8 * 3.1415 * np.random.random_sample(size=2000) # (2000,)\n",
    "y = np.sin(X) + np.random.normal(size=X.size, scale=0.3) # (2000,)\n",
    "outliers_1 = np.random.randint(low=0, high=X.shape[0], size=int(X.shape[0] * 0.15)) # (300,) [0, 2000]\n",
    "y[outliers_1] += np.random.normal(size=outliers_1.size, scale=1) # (300,)\n",
    "outliers_2 = np.random.randint(low=0, high=X.shape[0], size=int(X.shape[0] * 0.04)) # (80,)\n",
    "y[outliers_2] += np.random.normal(size=outliers_2.size, scale=3)\n",
    "sns.boxplot(y)\n",
    "plt.show()\n",
    "plt.scatter(x=X, y=y)"
   ]
  },
  {
   "cell_type": "code",
   "execution_count": 8,
   "metadata": {},
   "outputs": [],
   "source": [
    "thr = int(X.shape[0]/2)\n",
    "X_train = X[:thr].reshape(-1,1)\n",
    "y_train = y[:thr]\n",
    "X_test = X[thr:].reshape(-1,1)\n",
    "y_test = y[thr:]\n",
    "\n",
    "base_scores_train = np.array([])\n",
    "\n",
    "# get baseline scores on cv\n",
    "for i in range(10):\n",
    "    kf = KFold(n_splits=5, shuffle=True, random_state=i)\n",
    "    scores_on_this_split = cross_val_score(\n",
    "        estimator=xgb.XGBRegressor(objective ='reg:squarederror',\n",
    "                                   min_child_weight=2),\n",
    "        X=X_train, y=y_train,\n",
    "        cv=kf, scoring='r2'\n",
    "    )\n",
    "    base_scores_train = np.append(base_scores_train, scores_on_this_split)"
   ]
  },
  {
   "cell_type": "code",
   "execution_count": 9,
   "metadata": {},
   "outputs": [
    {
     "data": {
      "text/plain": [
       "Text(0, 0.5, 't-statistic')"
      ]
     },
     "execution_count": 9,
     "metadata": {},
     "output_type": "execute_result"
    },
    {
     "data": {
      "image/png": "[encoded data removed]",
      "text/plain": [
       "<Figure size 432x288 with 1 Axes>"
      ]
     },
     "metadata": {
      "needs_background": "light"
     },
     "output_type": "display_data"
    }
   ],
   "source": [
    "# Compare models (with fewer trees) with baseline\n",
    "\n",
    "t_stats_train = []\n",
    "\n",
    "for j in range(30, 100):\n",
    "    scores_train = np.array([])\n",
    "    for i in range(10):\n",
    "        kf = KFold(n_splits=5, shuffle=True, random_state=i)\n",
    "        scores_on_this_split = cross_val_score(\n",
    "            estimator=xgb.XGBRegressor(objective ='reg:squarederror',\n",
    "                                       n_estimators=j,\n",
    "                                       min_child_weight=2),\n",
    "            X=X_train, y=y_train,\n",
    "            cv=kf, scoring='r2')\n",
    "        \n",
    "        scores_train = np.append(scores_train, scores_on_this_split)\n",
    "    t_stat, p_value = ttest_rel(scores_train, base_scores_train)\n",
    "    t_stats_train.append(t_stat)\n",
    "plt.plot(range(30, 100), t_stats_train)\n",
    "plt.xlabel('n_estimators')\n",
    "plt.ylabel('t-statistic')\n",
    "\n",
    "# 85 trees - greatest difference"
   ]
  },
  {
   "cell_type": "code",
   "execution_count": 10,
   "metadata": {},
   "outputs": [
    {
     "data": {
      "text/plain": [
       "Text(0, 0.5, 'r2_score_test')"
      ]
     },
     "execution_count": 10,
     "metadata": {},
     "output_type": "execute_result"
    },
    {
     "data": {
      "image/png": "[encoded data removed]",
      "text/plain": [
       "<Figure size 432x288 with 1 Axes>"
      ]
     },
     "metadata": {
      "needs_background": "light"
     },
     "output_type": "display_data"
    }
   ],
   "source": [
    "# Check performance on unseen data\n",
    "\n",
    "scores_test = []\n",
    "for i in range(30,101):\n",
    "    est = xgb.XGBRegressor(objective ='reg:squarederror',\n",
    "                           n_estimators=i,\n",
    "                           min_child_weight=2)\n",
    "    est.fit(X_train,y_train)\n",
    "    scores_test.append(r2_score(y_test, est.predict(X_test)))\n",
    "plt.plot(range(30, 101), scores_test)\n",
    "plt.xlabel('n_estimators')\n",
    "plt.ylabel('r2_score_test')\n",
    "\n",
    "# 85 trees - not best score (reason - outliers)"
   ]
  },
  {
   "cell_type": "code",
   "execution_count": 11,
   "metadata": {},
   "outputs": [
    {
     "name": "stdout",
     "output_type": "stream",
     "text": [
      "Outliers fraction in train = 0.045\n"
     ]
    }
   ],
   "source": [
    "# подход:\n",
    "# Не будем ничего удалять из обучающей выборки, но при валидации (при вычислении\n",
    "# значения метрики на тестовых фолдах) не будем учитывать выбросы\n",
    "\n",
    "# определяем выбросы\n",
    "base_estimator = xgb.XGBRegressor(objective ='reg:squarederror', min_child_weight=2)\n",
    "# get prediction for each element when it was in test set\n",
    "pred_train = cross_val_predict(estimator=base_estimator, X=X_train, y=y_train, cv=5)\n",
    "abs_train_error = np.absolute(y_train - pred_train)\n",
    "outlier_mask = (abs_train_error > 1.5)\n",
    "print(f'Outliers fraction in train = {float(y_train[outlier_mask].shape[0]) / y_train.shape[0]}')\n",
    "\n",
    "# 4.5% outliers"
   ]
  },
  {
   "cell_type": "code",
   "execution_count": 12,
   "metadata": {},
   "outputs": [],
   "source": [
    "# https://github.com/Danila89/cross_validation_custom/blob/master/cross_val_custom.py\n",
    "\n",
    "def cross_validation_score_statement(estimator, X, y, scoring, n_splits=5, statement=None, random_state=0):\n",
    "    \"\"\"\n",
    "    Evaluate a score by cross-validation. \n",
    "    The fit method will be performed on the entire train subset at each iteration,\n",
    "    the predict method and scoring will be performed only for objects from test subset where statement is True\n",
    "    \n",
    "    Parameters\n",
    "    ----------\n",
    "    estimator : estimator object implementing 'fit' and 'predict'\n",
    "        The object to use to fit the data.\n",
    "    X : pandas.DataFrame\n",
    "        The data to fit.\n",
    "    y : pandas.Series\n",
    "        The target variable to try to predict.\n",
    "    scoring : callable \n",
    "        The scoring function of signature scoring(y_true, y_pred).\n",
    "    statement : boolean numpy.array of shape equal to y.shape\n",
    "        The mask showing the objects we want to evaluate estimator on.\n",
    "    n_splits : int\n",
    "        Number of folds for cross-validation\n",
    "    random_state : int\n",
    "        Random_state for KFold and StratifiedKFold    \n",
    "    \n",
    "    Returns\n",
    "    -----------\n",
    "    scores : array of float, shape=(n_splits,)\n",
    "    \n",
    "    \"\"\"\n",
    "    if statement is None:\n",
    "        cv = KFold(n_splits=n_splits, shuffle=True, random_state=random_state)\n",
    "        cv_iter = list(cv.split(X, y)) # indices to split data into train/test\n",
    "    else:\n",
    "        cv = StratifiedKFold(n_splits=n_splits, shuffle=True, random_state=random_state)\n",
    "        cv_iter = list(cv.split(X, statement))\n",
    "    scores = []\n",
    "    \n",
    "    for train, test in cv_iter:\n",
    "        estimator.fit(X.iloc[train,:].values, y.iloc[train].values)\n",
    "        if statement is not None:\n",
    "            y_statement = y.iloc[test].loc[statement[test]]\n",
    "            pred_statement = estimator.predict(X.iloc[test,:].loc[statement[test]].values)\n",
    "        else:\n",
    "            y_statement = y.iloc[test]\n",
    "            pred_statement = estimator.predict(X.iloc[test,:].values)\n",
    "        scores.append(scoring(y_statement,pred_statement))\n",
    "    return np.array(scores)"
   ]
  },
  {
   "cell_type": "code",
   "execution_count": 13,
   "metadata": {},
   "outputs": [
    {
     "data": {
      "text/plain": [
       "Text(0, 0.5, 't-statistic')"
      ]
     },
     "execution_count": 13,
     "metadata": {},
     "output_type": "execute_result"
    },
    {
     "data": {
      "image/png": "[encoded data removed]",
      "text/plain": [
       "<Figure size 432x288 with 1 Axes>"
      ]
     },
     "metadata": {
      "needs_background": "light"
     },
     "output_type": "display_data"
    }
   ],
   "source": [
    "# Calculate scores for baseline (dont consider outliers)\n",
    "base_scores_train_v2 = np.array([])\n",
    "\n",
    "for i in range(10):\n",
    "    scores_on_this_split = cross_validation_score_statement(\n",
    "        estimator=xgb.XGBRegressor(objective ='reg:squarederror',\n",
    "                                   min_child_weight=2),\n",
    "        X=pd.DataFrame(X_train),\n",
    "        y=pd.Series(y_train),\n",
    "        scoring=r2_score, n_splits=5,\n",
    "        random_state=i, \n",
    "        statement=~outlier_mask)\n",
    "    \n",
    "    base_scores_train_v2 = np.append(base_scores_train_v2, scores_on_this_split)\n",
    "\n",
    "# Calculate scores for xgb with different n_estimators without outliers\n",
    "t_stats_train_v2 = []\n",
    "\n",
    "for j in range(30, 100):\n",
    "    scores_train_v2 = np.array([])\n",
    "    for i in range(10):\n",
    "        fold = KFold(n_splits=5, shuffle=True, random_state=i)\n",
    "        \n",
    "        scores_on_this_split = cross_validation_score_statement(\n",
    "            estimator=xgb.XGBRegressor(objective ='reg:squarederror',\n",
    "                                       n_estimators=j,\n",
    "                                       min_child_weight=2),\n",
    "            X=pd.DataFrame(X_train),\n",
    "            y=pd.Series(y_train),\n",
    "            scoring=r2_score, n_splits=5,\n",
    "            random_state=i, \n",
    "            statement=~outlier_mask)\n",
    "        \n",
    "        scores_train_v2 = np.append(scores_train_v2, scores_on_this_split)\n",
    "        \n",
    "    t_stat, p_value = ttest_rel(scores_train_v2, base_scores_train_v2)\n",
    "    t_stats_train_v2.append(t_stat)\n",
    "plt.plot(range(30,100), t_stats_train_v2)\n",
    "plt.xlabel('n_estimators')\n",
    "plt.ylabel('t-statistic')"
   ]
  }
 ],
 "metadata": {
  "kernelspec": {
   "display_name": "Python 3",
   "language": "python",
   "name": "python3"
  },
  "language_info": {
   "codemirror_mode": {
    "name": "ipython",
    "version": 3
   },
   "file_extension": ".py",
   "mimetype": "text/x-python",
   "name": "python",
   "nbconvert_exporter": "python",
   "pygments_lexer": "ipython3",
   "version": "3.6.8"
  }
 },
 "nbformat": 4,
 "nbformat_minor": 2
}
