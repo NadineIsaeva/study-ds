{
 "cells": [
  {
   "cell_type": "code",
   "execution_count": 1,
   "metadata": {},
   "outputs": [],
   "source": [
    "import numpy as np\n",
    "import pandas as pd\n",
    "import time"
   ]
  },
  {
   "cell_type": "code",
   "execution_count": 2,
   "metadata": {},
   "outputs": [],
   "source": [
    "# https://towardsdatascience.com/different-ways-to-iterate-over-rows-in-a-pandas-dataframe-performance-comparison-dc0d5dcef8fe\n",
    "\n",
    "def my_compute(x):\n",
    "    return x + 1\n",
    "\n",
    "def timeit(method):\n",
    "    def timed(*args, **kw):\n",
    "        ts = time.time()\n",
    "        result = method(*args, **kw)\n",
    "        te = time.time()\n",
    "        kw['log_time'].append(int((te - ts) * 1000))\n",
    "        return result\n",
    "    return timed"
   ]
  },
  {
   "cell_type": "code",
   "execution_count": 3,
   "metadata": {},
   "outputs": [],
   "source": [
    "# 1 - pandas column operation\n",
    "\n",
    "@timeit\n",
    "def use_column(dataset, col1, col2, **kw):\n",
    "    dataset[col2] = dataset[col1] + 1"
   ]
  },
  {
   "cell_type": "code",
   "execution_count": 4,
   "metadata": {},
   "outputs": [],
   "source": [
    "# 2 - pandas apply\n",
    "\n",
    "@timeit\n",
    "def use_apply(dataset, col1, col2, **kw):\n",
    "    dataset[col2] = dataset.apply(my_compute)"
   ]
  },
  {
   "cell_type": "code",
   "execution_count": 5,
   "metadata": {},
   "outputs": [],
   "source": [
    "# 3 - use loc indexing\n",
    "\n",
    "@timeit\n",
    "def use_loc(dataset, col1, col2, **kw):\n",
    "    dataset[col2] = np.nan\n",
    "    for i in range(len(dataset)):\n",
    "        dataset.loc[i, col2] = my_compute(dataset.loc[i, col1])"
   ]
  },
  {
   "cell_type": "code",
   "execution_count": 6,
   "metadata": {},
   "outputs": [],
   "source": [
    "# 4 - use at indexing - accessing single value\n",
    "\n",
    "@timeit\n",
    "def use_at(dataset, col1, col2, **kw):\n",
    "    dataset[col2] = np.nan\n",
    "    for i in range(len(dataset)):\n",
    "        dataset.at[i, col2] = my_compute(dataset.at[i, col1])"
   ]
  },
  {
   "cell_type": "code",
   "execution_count": 7,
   "metadata": {},
   "outputs": [],
   "source": [
    "# 5 - use iat indexing - accessing single value\n",
    "\n",
    "@timeit\n",
    "def use_iat(dataset, col1, col2, **kw):\n",
    "    dataset[col2] = np.nan\n",
    "    for i in range(len(dataset)):\n",
    "        dataset.iat[i, dataset.columns.get_loc(col2)] = my_compute(dataset.iat[i, dataset.columns.get_loc(col1)])"
   ]
  },
  {
   "cell_type": "code",
   "execution_count": 8,
   "metadata": {},
   "outputs": [],
   "source": [
    "# 6 - use numpy for loop\n",
    "\n",
    "@timeit\n",
    "def use_numpy_for_loop(dataset, col1, col2, **kw):\n",
    "    temp = np.empty(len(dataset))\n",
    "    # get numpy array from a column\n",
    "    original = dataset[col1]\n",
    "    # iterate and compute values\n",
    "    for i in range(len(dataset)):\n",
    "        temp[i] = my_compute(original[i])\n",
    "    # assign values as new column to df\n",
    "    dataset[col2] = temp"
   ]
  },
  {
   "cell_type": "code",
   "execution_count": 9,
   "metadata": {},
   "outputs": [],
   "source": [
    "# 7 - use pandas iterrows\n",
    "\n",
    "@timeit\n",
    "def use_iterrows(dataset, col1, col2, **kw):\n",
    "    temp = np.empty(len(dataset))\n",
    "    # generator object to iterate\n",
    "    for index, row in dataset.iterrows():\n",
    "        temp = my_compute(row[col1])\n",
    "    dataset[col2] = temp"
   ]
  },
  {
   "cell_type": "code",
   "execution_count": 10,
   "metadata": {},
   "outputs": [],
   "source": [
    "# 8 - use zip\n",
    "\n",
    "@timeit\n",
    "def use_zip(dataset, col1, col2, **kw):\n",
    "    temp = np.empty(len(dataset))\n",
    "    for i, (x) in enumerate(zip(dataset[col1])):\n",
    "        temp[i] = my_compute(x[0])\n",
    "    dataset[col2] = temp"
   ]
  },
  {
   "cell_type": "code",
   "execution_count": 11,
   "metadata": {},
   "outputs": [],
   "source": [
    "def time_this(func, method_name, N=1000):\n",
    "    \"\"\" Execute the given function 100 times and measure the execution time for each run.\n",
    "        Returns a dictionary containing the statistics based on the execution times\n",
    "    \"\"\"\n",
    "    repeats = 100\n",
    "    a = np.repeat(1000, N)\n",
    "    pd_dataset = pd.DataFrame({'a': a})\n",
    "\n",
    "    timing = []\n",
    "    for i in range(repeats):\n",
    "        func(pd_dataset.copy(), 'a', 'b', log_time=timing)\n",
    "    return {'method': method_name, 'average': np.average(timing), 'min': np.min(timing), 'max': np.max(timing)}"
   ]
  },
  {
   "cell_type": "code",
   "execution_count": 12,
   "metadata": {},
   "outputs": [
    {
     "name": "stdout",
     "output_type": "stream",
     "text": [
      "                method  average  min  max\n",
      "0           use_column     0.61    0    7\n",
      "0     use_pandas_apply     2.19    2    6\n",
      "0     use_for_loop_loc   652.28  618  825\n",
      "0      use_for_loop_at    29.82   29   32\n",
      "0     use_for_loop_iat    38.67   38   41\n",
      "0   use_numpy_for_loop    21.26   21   23\n",
      "0  use_pandas_iterrows   146.14  139  216\n",
      "0              use_zip     1.00    1    1\n"
     ]
    }
   ],
   "source": [
    "def measure_time(dataset_size):\n",
    "    all_timing = pd.DataFrame()\n",
    "    all_timing = all_timing.append([time_this(use_column,'use_column')])\n",
    "    all_timing = all_timing.append([time_this(use_apply,'use_pandas_apply')])\n",
    "\n",
    "    all_timing = all_timing.append([time_this(use_loc,'use_for_loop_loc')])\n",
    "    all_timing = all_timing.append([time_this(use_at,'use_for_loop_at')])\n",
    "    all_timing = all_timing.append([time_this(use_iat,'use_for_loop_iat')])\n",
    "    all_timing = all_timing.append([time_this(use_numpy_for_loop,'use_numpy_for_loop')])\n",
    "    all_timing = all_timing.append([time_this(use_iterrows,'use_pandas_iterrows')])\n",
    "    all_timing = all_timing.append([time_this(use_zip,'use_zip')])\n",
    "    print(all_timing[['method', 'average', 'min', 'max']])\n",
    "    \n",
    "    \n",
    "measure_time(1000)"
   ]
  },
  {
   "cell_type": "markdown",
   "metadata": {},
   "source": [
    "1. Column operation and apply are both relatively fast.\n",
    "2. Select using at() and iat() is faster than loc().\n",
    "3. Location-based indexing on numpy array is faster than locating-based indexing on a pandas dataframe.\n",
    "\n",
    "**Avoid using loc() for updating or accessing single value, use iat() and at() instead**\n",
    "\n",
    "**Extract values as a numpy array then perform the processing/analysing**\n",
    "\n",
    "**zip() Faster than iterrows()**"
   ]
  },
  {
   "cell_type": "markdown",
   "metadata": {},
   "source": [
    "*https://www.tutorialspoint.com/python_pandas/python_pandas_iteration.htm*\n",
    "\n",
    "Basic iteration (for i in object) produces:\n",
    "1. Series - values\n",
    "2. Dataframe - columns labels\n",
    "3. Panel - item labels"
   ]
  },
  {
   "cell_type": "code",
   "execution_count": 13,
   "metadata": {},
   "outputs": [
    {
     "name": "stdout",
     "output_type": "stream",
     "text": [
      "A\n",
      "x\n",
      "y\n",
      "C\n",
      "B\n"
     ]
    },
    {
     "data": {
      "text/html": [
       "<div>\n",
       "<style scoped>\n",
       "    .dataframe tbody tr th:only-of-type {\n",
       "        vertical-align: middle;\n",
       "    }\n",
       "\n",
       "    .dataframe tbody tr th {\n",
       "        vertical-align: top;\n",
       "    }\n",
       "\n",
       "    .dataframe thead th {\n",
       "        text-align: right;\n",
       "    }\n",
       "</style>\n",
       "<table border=\"1\" class=\"dataframe\">\n",
       "  <thead>\n",
       "    <tr style=\"text-align: right;\">\n",
       "      <th></th>\n",
       "      <th>A</th>\n",
       "      <th>x</th>\n",
       "      <th>y</th>\n",
       "      <th>C</th>\n",
       "      <th>B</th>\n",
       "    </tr>\n",
       "  </thead>\n",
       "  <tbody>\n",
       "    <tr>\n",
       "      <th>0</th>\n",
       "      <td>2016-01-01</td>\n",
       "      <td>0.0</td>\n",
       "      <td>0.280728</td>\n",
       "      <td>Low</td>\n",
       "      <td>94.781248</td>\n",
       "    </tr>\n",
       "    <tr>\n",
       "      <th>1</th>\n",
       "      <td>2016-01-02</td>\n",
       "      <td>1.0</td>\n",
       "      <td>0.453214</td>\n",
       "      <td>Medium</td>\n",
       "      <td>90.575415</td>\n",
       "    </tr>\n",
       "    <tr>\n",
       "      <th>2</th>\n",
       "      <td>2016-01-03</td>\n",
       "      <td>2.0</td>\n",
       "      <td>0.201301</td>\n",
       "      <td>Low</td>\n",
       "      <td>87.349228</td>\n",
       "    </tr>\n",
       "    <tr>\n",
       "      <th>3</th>\n",
       "      <td>2016-01-04</td>\n",
       "      <td>3.0</td>\n",
       "      <td>0.595245</td>\n",
       "      <td>Medium</td>\n",
       "      <td>88.583258</td>\n",
       "    </tr>\n",
       "    <tr>\n",
       "      <th>4</th>\n",
       "      <td>2016-01-05</td>\n",
       "      <td>4.0</td>\n",
       "      <td>0.089842</td>\n",
       "      <td>Medium</td>\n",
       "      <td>100.939415</td>\n",
       "    </tr>\n",
       "  </tbody>\n",
       "</table>\n",
       "</div>"
      ],
      "text/plain": [
       "           A    x         y       C           B\n",
       "0 2016-01-01  0.0  0.280728     Low   94.781248\n",
       "1 2016-01-02  1.0  0.453214  Medium   90.575415\n",
       "2 2016-01-03  2.0  0.201301     Low   87.349228\n",
       "3 2016-01-04  3.0  0.595245  Medium   88.583258\n",
       "4 2016-01-05  4.0  0.089842  Medium  100.939415"
      ]
     },
     "metadata": {},
     "output_type": "display_data"
    }
   ],
   "source": [
    "N = 20\n",
    "df = pd.DataFrame({\n",
    "    'A': pd.date_range(start='2016-01-01',periods=N,freq='D'),\n",
    "    'x': np.linspace(start=0, stop=N-1, num=N),\n",
    "    'y': np.random.rand(N),\n",
    "    'C': np.random.choice(['Low', 'Medium', 'High'], N).tolist(),\n",
    "    'B': np.random.normal(100, 10, size=(N)).tolist()\n",
    "})\n",
    "\n",
    "for col in df:\n",
    "    print(col)\n",
    "    \n",
    "display(df.head())"
   ]
  },
  {
   "cell_type": "markdown",
   "metadata": {},
   "source": [
    "To iterate over rows in DataFrame:\n",
    "1. iterrows() - iterate over (index, series) pairs (slow)\n",
    "2. iteritems() - iterate over each column as (key, value) pairs - key:label, value: Series\n",
    "3. itertuples() - iterate over rows as namedtuples"
   ]
  },
  {
   "cell_type": "code",
   "execution_count": null,
   "metadata": {},
   "outputs": [],
   "source": [
    "for idx, series in df.iterrows():\n",
    "    print(f'Index:{idx}\\nSeries:\\n{series}')\n",
    "    print(f'Index type: {type(idx)}, row type: {type(row)}\\n')\n",
    "    \n",
    "\"\"\"\n",
    "Index:0\n",
    "Series:\n",
    "A    2016-01-01 00:00:00\n",
    "x                      0\n",
    "y               0.620163\n",
    "C                    Low\n",
    "B                 98.594\n",
    "Name: 0, dtype: object\n",
    "Index type: <class 'int'>, row type: <class 'pandas.core.series.Series'>\n",
    "\n",
    "Index:1\n",
    "Series:\n",
    "A    2016-01-02 00:00:00\n",
    "x                      1\n",
    "y               0.899402\n",
    "C                 Medium\n",
    "B                80.3832\n",
    "Name: 1, dtype: object\n",
    "Index type: <class 'int'>, row type: <class 'pandas.core.series.Series'>\n",
    "\"\"\"\n",
    "\n",
    "for key, value in df.iteritems():\n",
    "    print(f'Key: {key}\\nValue:\\n{value}')\n",
    "    print(f'Key type: {type(key)}, value type: {type(value)}')\n",
    "\n",
    "\"\"\"\n",
    "Key: A\n",
    "Value:\n",
    "0    2016-01-01\n",
    "1    2016-01-02\n",
    "2    2016-01-03\n",
    "3    2016-01-04\n",
    "4    2016-01-05\n",
    "5    2016-01-06\n",
    "6    2016-01-07\n",
    "7    2016-01-08\n",
    "8    2016-01-09\n",
    "9    2016-01-10\n",
    "10   2016-01-11\n",
    "11   2016-01-12\n",
    "12   2016-01-13\n",
    "13   2016-01-14\n",
    "14   2016-01-15\n",
    "15   2016-01-16\n",
    "16   2016-01-17\n",
    "17   2016-01-18\n",
    "18   2016-01-19\n",
    "19   2016-01-20\n",
    "Name: A, dtype: datetime64[ns]\n",
    "Key type: <class 'str'>, value type: <class 'pandas.core.series.Series'>\n",
    "\"\"\"\n",
    "\n",
    "for row in df.itertuples():\n",
    "    print(f'Row: {row}\\nType:{type(row)}\\n')\n",
    "    \n",
    "\"\"\"\n",
    "Row: Pandas(Index=0, A=Timestamp('2016-01-01 00:00:00'), x=0.0, y=0.6201632475317321, C='Low', B=98.59404442587926)\n",
    "Type:<class 'pandas.core.frame.Pandas'>\n",
    "\"\"\""
   ]
  }
 ],
 "metadata": {
  "kernelspec": {
   "display_name": "Python 3",
   "language": "python",
   "name": "python3"
  },
  "language_info": {
   "codemirror_mode": {
    "name": "ipython",
    "version": 3
   },
   "file_extension": ".py",
   "mimetype": "text/x-python",
   "name": "python",
   "nbconvert_exporter": "python",
   "pygments_lexer": "ipython3",
   "version": "3.6.8"
  }
 },
 "nbformat": 4,
 "nbformat_minor": 2
}
