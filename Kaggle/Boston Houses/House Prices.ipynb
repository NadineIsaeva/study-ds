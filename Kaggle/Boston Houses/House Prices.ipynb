{
 "cells": [
  {
   "cell_type": "code",
   "execution_count": 1,
   "metadata": {},
   "outputs": [],
   "source": [
    "import pandas as pd\n",
    "import seaborn as sns\n",
    "from sklearn import preprocessing\n",
    "from sklearn.impute import SimpleImputer\n",
    "from sklearn.model_selection import train_test_split\n",
    "from sklearn.preprocessing import StandardScaler\n",
    "from sklearn.linear_model import LinearRegression, Lasso\n",
    "from sklearn.metrics import mean_squared_error, r2_score\n",
    "import numpy as np\n",
    "from scipy.stats import skew\n",
    "import matplotlib.pyplot as plt"
   ]
  },
  {
   "cell_type": "markdown",
   "metadata": {},
   "source": [
    "Load datasets:"
   ]
  },
  {
   "cell_type": "code",
   "execution_count": 2,
   "metadata": {},
   "outputs": [
    {
     "name": "stdout",
     "output_type": "stream",
     "text": [
      "Train data shape: (1460, 81) \n",
      "Test data shape: (1459, 80) \n"
     ]
    }
   ],
   "source": [
    "train_df = pd.read_csv('train.csv')\n",
    "test_df = pd.read_csv('test.csv')\n",
    "print(\"Train data shape: {} \".format(train_df.shape))\n",
    "print(\"Test data shape: {} \".format(test_df.shape))"
   ]
  },
  {
   "cell_type": "code",
   "execution_count": 3,
   "metadata": {},
   "outputs": [
    {
     "data": {
      "text/html": [
       "<div>\n",
       "<style scoped>\n",
       "    .dataframe tbody tr th:only-of-type {\n",
       "        vertical-align: middle;\n",
       "    }\n",
       "\n",
       "    .dataframe tbody tr th {\n",
       "        vertical-align: top;\n",
       "    }\n",
       "\n",
       "    .dataframe thead th {\n",
       "        text-align: right;\n",
       "    }\n",
       "</style>\n",
       "<table border=\"1\" class=\"dataframe\">\n",
       "  <thead>\n",
       "    <tr style=\"text-align: right;\">\n",
       "      <th></th>\n",
       "      <th>Id</th>\n",
       "      <th>MSSubClass</th>\n",
       "      <th>MSZoning</th>\n",
       "      <th>LotFrontage</th>\n",
       "      <th>LotArea</th>\n",
       "      <th>Street</th>\n",
       "      <th>Alley</th>\n",
       "      <th>LotShape</th>\n",
       "      <th>LandContour</th>\n",
       "      <th>Utilities</th>\n",
       "      <th>...</th>\n",
       "      <th>PoolArea</th>\n",
       "      <th>PoolQC</th>\n",
       "      <th>Fence</th>\n",
       "      <th>MiscFeature</th>\n",
       "      <th>MiscVal</th>\n",
       "      <th>MoSold</th>\n",
       "      <th>YrSold</th>\n",
       "      <th>SaleType</th>\n",
       "      <th>SaleCondition</th>\n",
       "      <th>SalePrice</th>\n",
       "    </tr>\n",
       "  </thead>\n",
       "  <tbody>\n",
       "    <tr>\n",
       "      <th>0</th>\n",
       "      <td>1</td>\n",
       "      <td>60</td>\n",
       "      <td>RL</td>\n",
       "      <td>65.0</td>\n",
       "      <td>8450</td>\n",
       "      <td>Pave</td>\n",
       "      <td>NaN</td>\n",
       "      <td>Reg</td>\n",
       "      <td>Lvl</td>\n",
       "      <td>AllPub</td>\n",
       "      <td>...</td>\n",
       "      <td>0</td>\n",
       "      <td>NaN</td>\n",
       "      <td>NaN</td>\n",
       "      <td>NaN</td>\n",
       "      <td>0</td>\n",
       "      <td>2</td>\n",
       "      <td>2008</td>\n",
       "      <td>WD</td>\n",
       "      <td>Normal</td>\n",
       "      <td>208500</td>\n",
       "    </tr>\n",
       "    <tr>\n",
       "      <th>1</th>\n",
       "      <td>2</td>\n",
       "      <td>20</td>\n",
       "      <td>RL</td>\n",
       "      <td>80.0</td>\n",
       "      <td>9600</td>\n",
       "      <td>Pave</td>\n",
       "      <td>NaN</td>\n",
       "      <td>Reg</td>\n",
       "      <td>Lvl</td>\n",
       "      <td>AllPub</td>\n",
       "      <td>...</td>\n",
       "      <td>0</td>\n",
       "      <td>NaN</td>\n",
       "      <td>NaN</td>\n",
       "      <td>NaN</td>\n",
       "      <td>0</td>\n",
       "      <td>5</td>\n",
       "      <td>2007</td>\n",
       "      <td>WD</td>\n",
       "      <td>Normal</td>\n",
       "      <td>181500</td>\n",
       "    </tr>\n",
       "    <tr>\n",
       "      <th>2</th>\n",
       "      <td>3</td>\n",
       "      <td>60</td>\n",
       "      <td>RL</td>\n",
       "      <td>68.0</td>\n",
       "      <td>11250</td>\n",
       "      <td>Pave</td>\n",
       "      <td>NaN</td>\n",
       "      <td>IR1</td>\n",
       "      <td>Lvl</td>\n",
       "      <td>AllPub</td>\n",
       "      <td>...</td>\n",
       "      <td>0</td>\n",
       "      <td>NaN</td>\n",
       "      <td>NaN</td>\n",
       "      <td>NaN</td>\n",
       "      <td>0</td>\n",
       "      <td>9</td>\n",
       "      <td>2008</td>\n",
       "      <td>WD</td>\n",
       "      <td>Normal</td>\n",
       "      <td>223500</td>\n",
       "    </tr>\n",
       "    <tr>\n",
       "      <th>3</th>\n",
       "      <td>4</td>\n",
       "      <td>70</td>\n",
       "      <td>RL</td>\n",
       "      <td>60.0</td>\n",
       "      <td>9550</td>\n",
       "      <td>Pave</td>\n",
       "      <td>NaN</td>\n",
       "      <td>IR1</td>\n",
       "      <td>Lvl</td>\n",
       "      <td>AllPub</td>\n",
       "      <td>...</td>\n",
       "      <td>0</td>\n",
       "      <td>NaN</td>\n",
       "      <td>NaN</td>\n",
       "      <td>NaN</td>\n",
       "      <td>0</td>\n",
       "      <td>2</td>\n",
       "      <td>2006</td>\n",
       "      <td>WD</td>\n",
       "      <td>Abnorml</td>\n",
       "      <td>140000</td>\n",
       "    </tr>\n",
       "    <tr>\n",
       "      <th>4</th>\n",
       "      <td>5</td>\n",
       "      <td>60</td>\n",
       "      <td>RL</td>\n",
       "      <td>84.0</td>\n",
       "      <td>14260</td>\n",
       "      <td>Pave</td>\n",
       "      <td>NaN</td>\n",
       "      <td>IR1</td>\n",
       "      <td>Lvl</td>\n",
       "      <td>AllPub</td>\n",
       "      <td>...</td>\n",
       "      <td>0</td>\n",
       "      <td>NaN</td>\n",
       "      <td>NaN</td>\n",
       "      <td>NaN</td>\n",
       "      <td>0</td>\n",
       "      <td>12</td>\n",
       "      <td>2008</td>\n",
       "      <td>WD</td>\n",
       "      <td>Normal</td>\n",
       "      <td>250000</td>\n",
       "    </tr>\n",
       "  </tbody>\n",
       "</table>\n",
       "<p>5 rows × 81 columns</p>\n",
       "</div>"
      ],
      "text/plain": [
       "   Id  MSSubClass MSZoning  LotFrontage  LotArea Street Alley LotShape  \\\n",
       "0   1          60       RL         65.0     8450   Pave   NaN      Reg   \n",
       "1   2          20       RL         80.0     9600   Pave   NaN      Reg   \n",
       "2   3          60       RL         68.0    11250   Pave   NaN      IR1   \n",
       "3   4          70       RL         60.0     9550   Pave   NaN      IR1   \n",
       "4   5          60       RL         84.0    14260   Pave   NaN      IR1   \n",
       "\n",
       "  LandContour Utilities  ... PoolArea PoolQC Fence MiscFeature MiscVal MoSold  \\\n",
       "0         Lvl    AllPub  ...        0    NaN   NaN         NaN       0      2   \n",
       "1         Lvl    AllPub  ...        0    NaN   NaN         NaN       0      5   \n",
       "2         Lvl    AllPub  ...        0    NaN   NaN         NaN       0      9   \n",
       "3         Lvl    AllPub  ...        0    NaN   NaN         NaN       0      2   \n",
       "4         Lvl    AllPub  ...        0    NaN   NaN         NaN       0     12   \n",
       "\n",
       "  YrSold  SaleType  SaleCondition  SalePrice  \n",
       "0   2008        WD         Normal     208500  \n",
       "1   2007        WD         Normal     181500  \n",
       "2   2008        WD         Normal     223500  \n",
       "3   2006        WD        Abnorml     140000  \n",
       "4   2008        WD         Normal     250000  \n",
       "\n",
       "[5 rows x 81 columns]"
      ]
     },
     "execution_count": 3,
     "metadata": {},
     "output_type": "execute_result"
    }
   ],
   "source": [
    "train_df.head()\n",
    "#test_df.head()"
   ]
  },
  {
   "cell_type": "markdown",
   "metadata": {},
   "source": [
    "Save Ids for future purposes and SalePrice for fitting models:"
   ]
  },
  {
   "cell_type": "code",
   "execution_count": 4,
   "metadata": {},
   "outputs": [],
   "source": [
    "train_id = train_df['Id']\n",
    "test_id = test_df['Id']\n",
    "target = train_df['SalePrice']"
   ]
  },
  {
   "cell_type": "markdown",
   "metadata": {},
   "source": [
    "Remove Ids and SalePrice:"
   ]
  },
  {
   "cell_type": "code",
   "execution_count": 5,
   "metadata": {},
   "outputs": [
    {
     "name": "stdout",
     "output_type": "stream",
     "text": [
      "Train data shape: (1460, 79) \n",
      "Test data shape: (1459, 79) \n"
     ]
    }
   ],
   "source": [
    "train_df.drop(columns=['Id', 'SalePrice'], inplace=True)\n",
    "test_df.drop('Id', axis=1, inplace=True)\n",
    "print(\"Train data shape: {} \".format(train_df.shape))\n",
    "print(\"Test data shape: {} \".format(test_df.shape))"
   ]
  },
  {
   "cell_type": "markdown",
   "metadata": {},
   "source": [
    "Concatenate train and test data for cleaning:"
   ]
  },
  {
   "cell_type": "code",
   "execution_count": 6,
   "metadata": {},
   "outputs": [
    {
     "name": "stdout",
     "output_type": "stream",
     "text": [
      "Data shape: (2919, 79) \n"
     ]
    }
   ],
   "source": [
    "data = pd.concat([train_df, test_df])\n",
    "print(\"Data shape: {} \".format(data.shape))"
   ]
  },
  {
   "cell_type": "markdown",
   "metadata": {},
   "source": [
    "See types presented in data: "
   ]
  },
  {
   "cell_type": "code",
   "execution_count": 7,
   "metadata": {},
   "outputs": [
    {
     "name": "stdout",
     "output_type": "stream",
     "text": [
      "<class 'pandas.core.frame.DataFrame'>\n",
      "Int64Index: 2919 entries, 0 to 1458\n",
      "Data columns (total 79 columns):\n",
      "MSSubClass       2919 non-null int64\n",
      "MSZoning         2915 non-null object\n",
      "LotFrontage      2433 non-null float64\n",
      "LotArea          2919 non-null int64\n",
      "Street           2919 non-null object\n",
      "Alley            198 non-null object\n",
      "LotShape         2919 non-null object\n",
      "LandContour      2919 non-null object\n",
      "Utilities        2917 non-null object\n",
      "LotConfig        2919 non-null object\n",
      "LandSlope        2919 non-null object\n",
      "Neighborhood     2919 non-null object\n",
      "Condition1       2919 non-null object\n",
      "Condition2       2919 non-null object\n",
      "BldgType         2919 non-null object\n",
      "HouseStyle       2919 non-null object\n",
      "OverallQual      2919 non-null int64\n",
      "OverallCond      2919 non-null int64\n",
      "YearBuilt        2919 non-null int64\n",
      "YearRemodAdd     2919 non-null int64\n",
      "RoofStyle        2919 non-null object\n",
      "RoofMatl         2919 non-null object\n",
      "Exterior1st      2918 non-null object\n",
      "Exterior2nd      2918 non-null object\n",
      "MasVnrType       2895 non-null object\n",
      "MasVnrArea       2896 non-null float64\n",
      "ExterQual        2919 non-null object\n",
      "ExterCond        2919 non-null object\n",
      "Foundation       2919 non-null object\n",
      "BsmtQual         2838 non-null object\n",
      "BsmtCond         2837 non-null object\n",
      "BsmtExposure     2837 non-null object\n",
      "BsmtFinType1     2840 non-null object\n",
      "BsmtFinSF1       2918 non-null float64\n",
      "BsmtFinType2     2839 non-null object\n",
      "BsmtFinSF2       2918 non-null float64\n",
      "BsmtUnfSF        2918 non-null float64\n",
      "TotalBsmtSF      2918 non-null float64\n",
      "Heating          2919 non-null object\n",
      "HeatingQC        2919 non-null object\n",
      "CentralAir       2919 non-null object\n",
      "Electrical       2918 non-null object\n",
      "1stFlrSF         2919 non-null int64\n",
      "2ndFlrSF         2919 non-null int64\n",
      "LowQualFinSF     2919 non-null int64\n",
      "GrLivArea        2919 non-null int64\n",
      "BsmtFullBath     2917 non-null float64\n",
      "BsmtHalfBath     2917 non-null float64\n",
      "FullBath         2919 non-null int64\n",
      "HalfBath         2919 non-null int64\n",
      "BedroomAbvGr     2919 non-null int64\n",
      "KitchenAbvGr     2919 non-null int64\n",
      "KitchenQual      2918 non-null object\n",
      "TotRmsAbvGrd     2919 non-null int64\n",
      "Functional       2917 non-null object\n",
      "Fireplaces       2919 non-null int64\n",
      "FireplaceQu      1499 non-null object\n",
      "GarageType       2762 non-null object\n",
      "GarageYrBlt      2760 non-null float64\n",
      "GarageFinish     2760 non-null object\n",
      "GarageCars       2918 non-null float64\n",
      "GarageArea       2918 non-null float64\n",
      "GarageQual       2760 non-null object\n",
      "GarageCond       2760 non-null object\n",
      "PavedDrive       2919 non-null object\n",
      "WoodDeckSF       2919 non-null int64\n",
      "OpenPorchSF      2919 non-null int64\n",
      "EnclosedPorch    2919 non-null int64\n",
      "3SsnPorch        2919 non-null int64\n",
      "ScreenPorch      2919 non-null int64\n",
      "PoolArea         2919 non-null int64\n",
      "PoolQC           10 non-null object\n",
      "Fence            571 non-null object\n",
      "MiscFeature      105 non-null object\n",
      "MiscVal          2919 non-null int64\n",
      "MoSold           2919 non-null int64\n",
      "YrSold           2919 non-null int64\n",
      "SaleType         2918 non-null object\n",
      "SaleCondition    2919 non-null object\n",
      "dtypes: float64(11), int64(25), object(43)\n",
      "memory usage: 1.3+ MB\n"
     ]
    }
   ],
   "source": [
    "data.info()"
   ]
  },
  {
   "cell_type": "markdown",
   "metadata": {},
   "source": [
    "Separate categorical and numerical features for cleaning: "
   ]
  },
  {
   "cell_type": "code",
   "execution_count": 8,
   "metadata": {},
   "outputs": [
    {
     "name": "stdout",
     "output_type": "stream",
     "text": [
      "General number of features: 79\n",
      "Number of categorical features: 43\n",
      "Index(['MSZoning', 'Street', 'Alley', 'LotShape', 'LandContour', 'Utilities',\n",
      "       'LotConfig', 'LandSlope', 'Neighborhood', 'Condition1', 'Condition2',\n",
      "       'BldgType', 'HouseStyle', 'RoofStyle', 'RoofMatl', 'Exterior1st',\n",
      "       'Exterior2nd', 'MasVnrType', 'ExterQual', 'ExterCond', 'Foundation',\n",
      "       'BsmtQual', 'BsmtCond', 'BsmtExposure', 'BsmtFinType1', 'BsmtFinType2',\n",
      "       'Heating', 'HeatingQC', 'CentralAir', 'Electrical', 'KitchenQual',\n",
      "       'Functional', 'FireplaceQu', 'GarageType', 'GarageFinish', 'GarageQual',\n",
      "       'GarageCond', 'PavedDrive', 'PoolQC', 'Fence', 'MiscFeature',\n",
      "       'SaleType', 'SaleCondition'],\n",
      "      dtype='object')\n",
      "Number of numerical features: 36\n",
      "Index(['MSSubClass', 'LotFrontage', 'LotArea', 'OverallQual', 'OverallCond',\n",
      "       'YearBuilt', 'YearRemodAdd', 'MasVnrArea', 'BsmtFinSF1', 'BsmtFinSF2',\n",
      "       'BsmtUnfSF', 'TotalBsmtSF', '1stFlrSF', '2ndFlrSF', 'LowQualFinSF',\n",
      "       'GrLivArea', 'BsmtFullBath', 'BsmtHalfBath', 'FullBath', 'HalfBath',\n",
      "       'BedroomAbvGr', 'KitchenAbvGr', 'TotRmsAbvGrd', 'Fireplaces',\n",
      "       'GarageYrBlt', 'GarageCars', 'GarageArea', 'WoodDeckSF', 'OpenPorchSF',\n",
      "       'EnclosedPorch', '3SsnPorch', 'ScreenPorch', 'PoolArea', 'MiscVal',\n",
      "       'MoSold', 'YrSold'],\n",
      "      dtype='object')\n"
     ]
    }
   ],
   "source": [
    "print('General number of features: {}'.format(data.shape[1]))\n",
    "categorical = data.select_dtypes(include='object')\n",
    "numerical = data.select_dtypes(exclude='object')\n",
    "print('Number of categorical features: {}'.format(categorical.shape[1]))\n",
    "print(categorical.columns)\n",
    "print('Number of numerical features: {}'.format(numerical.shape[1]))\n",
    "print(numerical.columns)"
   ]
  },
  {
   "cell_type": "markdown",
   "metadata": {},
   "source": [
    "Start exploring categorical features: "
   ]
  },
  {
   "cell_type": "code",
   "execution_count": 9,
   "metadata": {},
   "outputs": [
    {
     "data": {
      "text/plain": [
       "PoolQC           2909\n",
       "MiscFeature      2814\n",
       "Alley            2721\n",
       "Fence            2348\n",
       "FireplaceQu      1420\n",
       "GarageCond        159\n",
       "GarageQual        159\n",
       "GarageFinish      159\n",
       "GarageType        157\n",
       "BsmtCond           82\n",
       "BsmtExposure       82\n",
       "BsmtQual           81\n",
       "BsmtFinType2       80\n",
       "BsmtFinType1       79\n",
       "MasVnrType         24\n",
       "MSZoning            4\n",
       "Functional          2\n",
       "Utilities           2\n",
       "Electrical          1\n",
       "KitchenQual         1\n",
       "SaleType            1\n",
       "Exterior2nd         1\n",
       "Exterior1st         1\n",
       "Heating             0\n",
       "Condition1          0\n",
       "Street              0\n",
       "PavedDrive          0\n",
       "LotShape            0\n",
       "LandContour         0\n",
       "LotConfig           0\n",
       "LandSlope           0\n",
       "Neighborhood        0\n",
       "RoofStyle           0\n",
       "Condition2          0\n",
       "BldgType            0\n",
       "HouseStyle          0\n",
       "HeatingQC           0\n",
       "RoofMatl            0\n",
       "ExterQual           0\n",
       "ExterCond           0\n",
       "Foundation          0\n",
       "CentralAir          0\n",
       "SaleCondition       0\n",
       "dtype: int64"
      ]
     },
     "execution_count": 9,
     "metadata": {},
     "output_type": "execute_result"
    }
   ],
   "source": [
    "categorical.isnull().sum().sort_values(ascending=False)"
   ]
  },
  {
   "cell_type": "code",
   "execution_count": 10,
   "metadata": {},
   "outputs": [
    {
     "name": "stderr",
     "output_type": "stream",
     "text": [
      "c:\\users\\nadine\\appdata\\local\\programs\\python\\python37-32\\lib\\site-packages\\pandas\\core\\indexing.py:635: SettingWithCopyWarning: \n",
      "A value is trying to be set on a copy of a slice from a DataFrame.\n",
      "Try using .loc[row_indexer,col_indexer] = value instead\n",
      "\n",
      "See the caveats in the documentation: http://pandas.pydata.org/pandas-docs/stable/indexing.html#indexing-view-versus-copy\n",
      "  self.obj[item_labels[indexer[info_axis]]] = value\n"
     ]
    }
   ],
   "source": [
    "# Fill with None missing values where NAN means absence of feature\n",
    "categorical.loc[:, 'PoolQC'] = categorical.loc[:,'PoolQC'].fillna('None')\n",
    "categorical.loc[:, 'MiscFeature'] = categorical.loc[:,'MiscFeature'].fillna('None')\n",
    "categorical.loc[:, 'Alley'] = categorical.loc[:,'Alley'].fillna('None')\n",
    "categorical.loc[:, 'Fence'] = categorical.loc[:,'Fence'].fillna('None')\n",
    "categorical.loc[:, 'FireplaceQu'] = categorical.loc[:,'FireplaceQu'].fillna('None')\n",
    "categorical.loc[:, 'GarageCond'] = categorical.loc[:,'GarageCond'].fillna('None')\n",
    "categorical.loc[:, 'GarageQual'] = categorical.loc[:,'GarageQual'].fillna('None')\n",
    "categorical.loc[:, 'GarageFinish'] = categorical.loc[:,'GarageFinish'].fillna('None')\n",
    "categorical.loc[:, 'GarageType'] = categorical.loc[:,'GarageType'].fillna('None')\n",
    "categorical.loc[:, 'BsmtCond'] = categorical.loc[:,'BsmtCond'].fillna('None')\n",
    "categorical.loc[:, 'BsmtExposure'] = categorical.loc[:,'BsmtExposure'].fillna('None')\n",
    "categorical.loc[:, 'BsmtQual'] = categorical.loc[:,'BsmtQual'].fillna('None')\n",
    "categorical.loc[:, 'BsmtFinType2'] = categorical.loc[:,'BsmtFinType2'].fillna('None')\n",
    "categorical.loc[:, 'BsmtFinType1'] = categorical.loc[:,'BsmtFinType1'].fillna('None')\n",
    "categorical.loc[:, 'MasVnrType'] = categorical.loc[:,'MasVnrType'].fillna('None')\n",
    "\n",
    "#fill with the most frequent feature value\n",
    "categorical.loc[:, 'MSZoning'] = categorical.loc[:,'MSZoning'].fillna('RL')\n",
    "categorical.loc[:, 'Functional'] = categorical.loc[:,'Functional'].fillna('Typ')\n",
    "categorical.loc[:, 'Utilities'] = categorical.loc[:,'Utilities'].fillna('AllPub')\n",
    "categorical.loc[:, 'Electrical'] = categorical.loc[:,'Electrical'].fillna('SBrkr')\n",
    "categorical.loc[:, 'KitchenQual'] = categorical.loc[:,'KitchenQual'].fillna('TA')\n",
    "categorical.loc[:, 'SaleType'] = categorical.loc[:,'SaleType'].fillna('WD')\n",
    "categorical.loc[:, 'Exterior2nd'] = categorical.loc[:,'Exterior2nd'].fillna('VinylSd')\n",
    "categorical.loc[:, 'Exterior1st'] = categorical.loc[:,'Exterior1st'].fillna('VinylSd')"
   ]
  },
  {
   "cell_type": "code",
   "execution_count": 11,
   "metadata": {},
   "outputs": [
    {
     "data": {
      "text/plain": [
       "VinylSd    1025\n",
       "MetalSd     450\n",
       "HdBoard     442\n",
       "Wd Sdng     411\n",
       "Plywood     221\n",
       "CemntBd     126\n",
       "BrkFace      87\n",
       "WdShing      56\n",
       "AsbShng      44\n",
       "Stucco       43\n",
       "BrkComm       6\n",
       "CBlock        2\n",
       "AsphShn       2\n",
       "Stone         2\n",
       "ImStucc       1\n",
       "Name: Exterior1st, dtype: int64"
      ]
     },
     "execution_count": 11,
     "metadata": {},
     "output_type": "execute_result"
    }
   ],
   "source": [
    "#obtain most frequent feature value\n",
    "data['MSZoning'].value_counts() \n",
    "data['Functional'].value_counts()\n",
    "data['Utilities'].value_counts()\n",
    "data['Electrical'].value_counts()\n",
    "data['KitchenQual'].value_counts()\n",
    "data['SaleType'].value_counts()\n",
    "data['Exterior2nd'].value_counts()\n",
    "data['Exterior1st'].value_counts()"
   ]
  },
  {
   "cell_type": "code",
   "execution_count": 12,
   "metadata": {},
   "outputs": [
    {
     "name": "stderr",
     "output_type": "stream",
     "text": [
      "c:\\users\\nadine\\appdata\\local\\programs\\python\\python37-32\\lib\\site-packages\\pandas\\core\\indexing.py:362: SettingWithCopyWarning: \n",
      "A value is trying to be set on a copy of a slice from a DataFrame.\n",
      "Try using .loc[row_indexer,col_indexer] = value instead\n",
      "\n",
      "See the caveats in the documentation: http://pandas.pydata.org/pandas-docs/stable/indexing.html#indexing-view-versus-copy\n",
      "  self.obj[key] = _infer_fill_value(value)\n",
      "c:\\users\\nadine\\appdata\\local\\programs\\python\\python37-32\\lib\\site-packages\\pandas\\core\\indexing.py:543: SettingWithCopyWarning: \n",
      "A value is trying to be set on a copy of a slice from a DataFrame.\n",
      "Try using .loc[row_indexer,col_indexer] = value instead\n",
      "\n",
      "See the caveats in the documentation: http://pandas.pydata.org/pandas-docs/stable/indexing.html#indexing-view-versus-copy\n",
      "  self.obj[item] = s\n"
     ]
    }
   ],
   "source": [
    "# Add some new binary features\n",
    "categorical.loc[:, 'HasPool'] = categorical.loc[:, 'PoolQC'] != 'None'\n",
    "categorical.loc[:, 'HasMiscFeature'] = categorical.loc[:, 'MiscFeature'] != 'None'\n",
    "categorical.loc[:, 'HasAlley'] = categorical.loc[:, 'Alley'] != 'None'\n",
    "categorical.loc[:, 'HasFence'] = categorical.loc[:, 'Fence'] != 'None'\n",
    "categorical.loc[:, 'HasFireplace'] = categorical.loc[:, 'FireplaceQu'] != 'None'\n",
    "categorical.loc[:, 'HasGarage'] = categorical.loc[:, 'GarageCond'] != 'None'\n",
    "categorical.loc[:, 'HasBasement'] = categorical.loc[:, 'BsmtCond'] != 'None'\n",
    "categorical.loc[:, 'HasMasVnr'] = categorical.loc[:, 'MasVnrType'] != 'None'"
   ]
  },
  {
   "cell_type": "code",
   "execution_count": 13,
   "metadata": {},
   "outputs": [
    {
     "data": {
      "text/plain": [
       "(2919, 51)"
      ]
     },
     "execution_count": 13,
     "metadata": {},
     "output_type": "execute_result"
    }
   ],
   "source": [
    "categorical.shape"
   ]
  },
  {
   "cell_type": "code",
   "execution_count": 14,
   "metadata": {},
   "outputs": [
    {
     "data": {
      "text/plain": [
       "MSZoning          0\n",
       "Street            0\n",
       "Alley             0\n",
       "LotShape          0\n",
       "LandContour       0\n",
       "Utilities         0\n",
       "LotConfig         0\n",
       "LandSlope         0\n",
       "Neighborhood      0\n",
       "Condition1        0\n",
       "Condition2        0\n",
       "BldgType          0\n",
       "HouseStyle        0\n",
       "RoofStyle         0\n",
       "RoofMatl          0\n",
       "Exterior1st       0\n",
       "Exterior2nd       0\n",
       "MasVnrType        0\n",
       "ExterQual         0\n",
       "ExterCond         0\n",
       "Foundation        0\n",
       "BsmtQual          0\n",
       "BsmtCond          0\n",
       "BsmtExposure      0\n",
       "BsmtFinType1      0\n",
       "BsmtFinType2      0\n",
       "Heating           0\n",
       "HeatingQC         0\n",
       "CentralAir        0\n",
       "Electrical        0\n",
       "KitchenQual       0\n",
       "Functional        0\n",
       "FireplaceQu       0\n",
       "GarageType        0\n",
       "GarageFinish      0\n",
       "GarageQual        0\n",
       "GarageCond        0\n",
       "PavedDrive        0\n",
       "PoolQC            0\n",
       "Fence             0\n",
       "MiscFeature       0\n",
       "SaleType          0\n",
       "SaleCondition     0\n",
       "HasPool           0\n",
       "HasMiscFeature    0\n",
       "HasAlley          0\n",
       "HasFence          0\n",
       "HasFireplace      0\n",
       "HasGarage         0\n",
       "HasBasement       0\n",
       "HasMasVnr         0\n",
       "dtype: int64"
      ]
     },
     "execution_count": 14,
     "metadata": {},
     "output_type": "execute_result"
    }
   ],
   "source": [
    "categorical.isnull().sum()"
   ]
  },
  {
   "cell_type": "code",
   "execution_count": 15,
   "metadata": {},
   "outputs": [
    {
     "data": {
      "text/plain": [
       "LotFrontage      486\n",
       "GarageYrBlt      159\n",
       "MasVnrArea        23\n",
       "BsmtHalfBath       2\n",
       "BsmtFullBath       2\n",
       "GarageArea         1\n",
       "BsmtFinSF1         1\n",
       "BsmtFinSF2         1\n",
       "BsmtUnfSF          1\n",
       "TotalBsmtSF        1\n",
       "GarageCars         1\n",
       "OverallCond        0\n",
       "YearBuilt          0\n",
       "YearRemodAdd       0\n",
       "OverallQual        0\n",
       "GrLivArea          0\n",
       "LotArea            0\n",
       "1stFlrSF           0\n",
       "2ndFlrSF           0\n",
       "LowQualFinSF       0\n",
       "YrSold             0\n",
       "MoSold             0\n",
       "FullBath           0\n",
       "HalfBath           0\n",
       "BedroomAbvGr       0\n",
       "KitchenAbvGr       0\n",
       "TotRmsAbvGrd       0\n",
       "Fireplaces         0\n",
       "WoodDeckSF         0\n",
       "OpenPorchSF        0\n",
       "EnclosedPorch      0\n",
       "3SsnPorch          0\n",
       "ScreenPorch        0\n",
       "PoolArea           0\n",
       "MiscVal            0\n",
       "MSSubClass         0\n",
       "dtype: int64"
      ]
     },
     "execution_count": 15,
     "metadata": {},
     "output_type": "execute_result"
    }
   ],
   "source": [
    "numerical.isnull().sum().sort_values(ascending=False)"
   ]
  },
  {
   "cell_type": "code",
   "execution_count": 16,
   "metadata": {},
   "outputs": [],
   "source": [
    "# fill missing values in numerical features\n",
    "numerical.loc[:, 'LotFrontage'] = numerical.loc[:,'LotFrontage'].fillna(numerical.loc[:,'LotFrontage'].mean())\n",
    "numerical.loc[:, 'GarageYrBlt'] = numerical.loc[:,'GarageYrBlt'].fillna(0)\n",
    "numerical.loc[:, 'MasVnrArea'] = numerical.loc[:,'MasVnrArea'].fillna(0)\n",
    "numerical.loc[:, 'BsmtHalfBath'] = numerical.loc[:,'BsmtHalfBath'].fillna(0)\n",
    "numerical.loc[:, 'BsmtFullBath'] = numerical.loc[:,'BsmtFullBath'].fillna(0)\n",
    "\n",
    "numerical.loc[:, 'GarageArea'] = numerical.loc[:,'GarageArea'].fillna(0)\n",
    "numerical.loc[:, 'BsmtFinSF1'] = numerical.loc[:,'BsmtFinSF1'].fillna(0)\n",
    "numerical.loc[:, 'BsmtFinSF2'] = numerical.loc[:,'BsmtFinSF2'].fillna(0)\n",
    "numerical.loc[:, 'BsmtUnfSF'] = numerical.loc[:,'BsmtUnfSF'].fillna(0)\n",
    "numerical.loc[:, 'TotalBsmtSF'] = numerical.loc[:,'TotalBsmtSF'].fillna(0)\n",
    "numerical.loc[:, 'GarageCars'] = numerical.loc[:,'GarageCars'].fillna(0)"
   ]
  },
  {
   "cell_type": "code",
   "execution_count": 17,
   "metadata": {},
   "outputs": [
    {
     "data": {
      "text/plain": [
       "YrSold           0\n",
       "MoSold           0\n",
       "GrLivArea        0\n",
       "LowQualFinSF     0\n",
       "2ndFlrSF         0\n",
       "1stFlrSF         0\n",
       "TotalBsmtSF      0\n",
       "BsmtUnfSF        0\n",
       "BsmtFinSF2       0\n",
       "BsmtFinSF1       0\n",
       "MasVnrArea       0\n",
       "YearRemodAdd     0\n",
       "YearBuilt        0\n",
       "OverallCond      0\n",
       "OverallQual      0\n",
       "LotArea          0\n",
       "LotFrontage      0\n",
       "BsmtFullBath     0\n",
       "BsmtHalfBath     0\n",
       "FullBath         0\n",
       "WoodDeckSF       0\n",
       "MiscVal          0\n",
       "PoolArea         0\n",
       "ScreenPorch      0\n",
       "3SsnPorch        0\n",
       "EnclosedPorch    0\n",
       "OpenPorchSF      0\n",
       "GarageArea       0\n",
       "HalfBath         0\n",
       "GarageCars       0\n",
       "GarageYrBlt      0\n",
       "Fireplaces       0\n",
       "TotRmsAbvGrd     0\n",
       "KitchenAbvGr     0\n",
       "BedroomAbvGr     0\n",
       "MSSubClass       0\n",
       "dtype: int64"
      ]
     },
     "execution_count": 17,
     "metadata": {},
     "output_type": "execute_result"
    }
   ],
   "source": [
    "numerical.isnull().sum().sort_values(ascending=False)"
   ]
  },
  {
   "cell_type": "code",
   "execution_count": 18,
   "metadata": {},
   "outputs": [],
   "source": [
    "# Add new feature, showing whether or not house had reconstruction:\n",
    "categorical.loc[:, 'HadRec'] = numerical.loc[:, 'YearBuilt'] == numerical.loc[:, 'YearRemodAdd']\n",
    "\n",
    "# Add new feature, showing whether or not house had 2nd floor:\n",
    "categorical.loc[:, 'Has2Floor'] = numerical.loc[:, '2ndFlrSF'] == 0\n",
    "\n",
    "# Add new feature, overall porch area:\n",
    "numerical.loc[:, 'PorchArea'] =  (numerical.loc[:, 'WoodDeckSF'] + numerical.loc[:, 'OpenPorchSF'] + \n",
    "                            numerical.loc[:, 'EnclosedPorch'] + numerical.loc[:,'3SsnPorch'] +\n",
    "                            numerical.loc[:, 'ScreenPorch'])\n",
    "# Add new feature, all baths:\n",
    "numerical.loc[:, 'AllBath'] = (numerical.loc[:, 'BsmtFullBath'] + numerical.loc[:, 'BsmtHalfBath'] + \n",
    "                            numerical.loc[:, 'FullBath'] + numerical.loc[:,'HalfBath'])"
   ]
  },
  {
   "cell_type": "markdown",
   "metadata": {},
   "source": [
    "Features that have numerical values but actually are categorical: \n",
    "1. YrSold\n",
    "2. MoSold\n",
    "3. MSSubClass\n",
    "4. OverallCond\n",
    "5. OverallQual\n",
    "\n",
    "Should be casted to categorical.dtypes.mode() and transferred to categorical dataframe. "
   ]
  },
  {
   "cell_type": "code",
   "execution_count": 19,
   "metadata": {},
   "outputs": [],
   "source": [
    "act_cat = numerical.loc[:, ['YrSold', 'MoSold', 'MSSubClass', 'OverallCond', 'OverallQual']]\n",
    "act_cat = act_cat.astype('object')\n",
    "categorical = pd.concat([categorical, act_cat], axis=1)"
   ]
  },
  {
   "cell_type": "code",
   "execution_count": 20,
   "metadata": {},
   "outputs": [],
   "source": [
    "categorical = categorical.astype({'HasPool': 'object', 'HasMiscFeature': 'object', 'HasAlley': 'object',\n",
    "                                 'HasFence': 'object', 'HasFireplace': 'object', 'HasGarage': 'object',\n",
    "                                 'HasBasement': 'object', 'HasMasVnr': 'object', 'HadRec': 'object',\n",
    "                                 'Has2Floor': 'object'})"
   ]
  },
  {
   "cell_type": "code",
   "execution_count": 21,
   "metadata": {},
   "outputs": [
    {
     "data": {
      "text/plain": [
       "array([dtype('O')], dtype=object)"
      ]
     },
     "execution_count": 21,
     "metadata": {},
     "output_type": "execute_result"
    }
   ],
   "source": [
    "categorical.dtypes.unique()"
   ]
  },
  {
   "cell_type": "code",
   "execution_count": 22,
   "metadata": {},
   "outputs": [
    {
     "name": "stderr",
     "output_type": "stream",
     "text": [
      "c:\\users\\nadine\\appdata\\local\\programs\\python\\python37-32\\lib\\site-packages\\pandas\\core\\frame.py:3940: SettingWithCopyWarning: \n",
      "A value is trying to be set on a copy of a slice from a DataFrame\n",
      "\n",
      "See the caveats in the documentation: http://pandas.pydata.org/pandas-docs/stable/indexing.html#indexing-view-versus-copy\n",
      "  errors=errors)\n"
     ]
    }
   ],
   "source": [
    "numerical.drop(columns=act_cat, inplace=True, axis=1)"
   ]
  },
  {
   "cell_type": "code",
   "execution_count": 23,
   "metadata": {},
   "outputs": [],
   "source": [
    "def le_fit_transform(feature_name):\n",
    "    le = preprocessing.LabelEncoder()\n",
    "    le.fit(categorical[feature_name])\n",
    "    print('Labels: {}' .format(le.classes_))\n",
    "    categorical[feature_name] = le.transform(categorical[feature_name])"
   ]
  },
  {
   "cell_type": "code",
   "execution_count": 24,
   "metadata": {},
   "outputs": [
    {
     "name": "stdout",
     "output_type": "stream",
     "text": [
      "Labels: ['C (all)' 'FV' 'RH' 'RL' 'RM']\n",
      "Labels: ['Grvl' 'Pave']\n",
      "Labels: ['Grvl' 'None' 'Pave']\n",
      "Labels: ['IR1' 'IR2' 'IR3' 'Reg']\n",
      "Labels: ['Bnk' 'HLS' 'Low' 'Lvl']\n",
      "Labels: ['AllPub' 'NoSeWa']\n",
      "Labels: ['Corner' 'CulDSac' 'FR2' 'FR3' 'Inside']\n",
      "Labels: ['Gtl' 'Mod' 'Sev']\n",
      "Labels: ['Blmngtn' 'Blueste' 'BrDale' 'BrkSide' 'ClearCr' 'CollgCr' 'Crawfor'\n",
      " 'Edwards' 'Gilbert' 'IDOTRR' 'MeadowV' 'Mitchel' 'NAmes' 'NPkVill'\n",
      " 'NWAmes' 'NoRidge' 'NridgHt' 'OldTown' 'SWISU' 'Sawyer' 'SawyerW'\n",
      " 'Somerst' 'StoneBr' 'Timber' 'Veenker']\n",
      "Labels: ['Artery' 'Feedr' 'Norm' 'PosA' 'PosN' 'RRAe' 'RRAn' 'RRNe' 'RRNn']\n",
      "Labels: ['Artery' 'Feedr' 'Norm' 'PosA' 'PosN' 'RRAe' 'RRAn' 'RRNn']\n",
      "Labels: ['1Fam' '2fmCon' 'Duplex' 'Twnhs' 'TwnhsE']\n",
      "Labels: ['1.5Fin' '1.5Unf' '1Story' '2.5Fin' '2.5Unf' '2Story' 'SFoyer' 'SLvl']\n",
      "Labels: ['Flat' 'Gable' 'Gambrel' 'Hip' 'Mansard' 'Shed']\n",
      "Labels: ['ClyTile' 'CompShg' 'Membran' 'Metal' 'Roll' 'Tar&Grv' 'WdShake'\n",
      " 'WdShngl']\n",
      "Labels: ['AsbShng' 'AsphShn' 'BrkComm' 'BrkFace' 'CBlock' 'CemntBd' 'HdBoard'\n",
      " 'ImStucc' 'MetalSd' 'Plywood' 'Stone' 'Stucco' 'VinylSd' 'Wd Sdng'\n",
      " 'WdShing']\n",
      "Labels: ['AsbShng' 'AsphShn' 'Brk Cmn' 'BrkFace' 'CBlock' 'CmentBd' 'HdBoard'\n",
      " 'ImStucc' 'MetalSd' 'Other' 'Plywood' 'Stone' 'Stucco' 'VinylSd'\n",
      " 'Wd Sdng' 'Wd Shng']\n",
      "Labels: ['BrkCmn' 'BrkFace' 'None' 'Stone']\n",
      "Labels: ['Ex' 'Fa' 'Gd' 'TA']\n",
      "Labels: ['Ex' 'Fa' 'Gd' 'Po' 'TA']\n",
      "Labels: ['BrkTil' 'CBlock' 'PConc' 'Slab' 'Stone' 'Wood']\n",
      "Labels: ['Ex' 'Fa' 'Gd' 'None' 'TA']\n",
      "Labels: ['Fa' 'Gd' 'None' 'Po' 'TA']\n",
      "Labels: ['Av' 'Gd' 'Mn' 'No' 'None']\n",
      "Labels: ['ALQ' 'BLQ' 'GLQ' 'LwQ' 'None' 'Rec' 'Unf']\n",
      "Labels: ['ALQ' 'BLQ' 'GLQ' 'LwQ' 'None' 'Rec' 'Unf']\n",
      "Labels: ['Floor' 'GasA' 'GasW' 'Grav' 'OthW' 'Wall']\n",
      "Labels: ['Ex' 'Fa' 'Gd' 'Po' 'TA']\n",
      "Labels: ['N' 'Y']\n",
      "Labels: ['FuseA' 'FuseF' 'FuseP' 'Mix' 'SBrkr']\n",
      "Labels: ['Ex' 'Fa' 'Gd' 'TA']\n",
      "Labels: ['Maj1' 'Maj2' 'Min1' 'Min2' 'Mod' 'Sev' 'Typ']\n",
      "Labels: ['Ex' 'Fa' 'Gd' 'None' 'Po' 'TA']\n",
      "Labels: ['2Types' 'Attchd' 'Basment' 'BuiltIn' 'CarPort' 'Detchd' 'None']\n",
      "Labels: ['Fin' 'None' 'RFn' 'Unf']\n",
      "Labels: ['Ex' 'Fa' 'Gd' 'None' 'Po' 'TA']\n",
      "Labels: ['Ex' 'Fa' 'Gd' 'None' 'Po' 'TA']\n",
      "Labels: ['N' 'P' 'Y']\n",
      "Labels: ['Ex' 'Fa' 'Gd' 'None']\n",
      "Labels: ['GdPrv' 'GdWo' 'MnPrv' 'MnWw' 'None']\n",
      "Labels: ['Gar2' 'None' 'Othr' 'Shed' 'TenC']\n",
      "Labels: ['COD' 'CWD' 'Con' 'ConLD' 'ConLI' 'ConLw' 'New' 'Oth' 'WD']\n",
      "Labels: ['Abnorml' 'AdjLand' 'Alloca' 'Family' 'Normal' 'Partial']\n",
      "Labels: [False True]\n",
      "Labels: [False True]\n",
      "Labels: [False True]\n",
      "Labels: [False True]\n",
      "Labels: [False True]\n",
      "Labels: [False True]\n",
      "Labels: [False True]\n",
      "Labels: [False True]\n",
      "Labels: [False True]\n",
      "Labels: [False True]\n",
      "Labels: [2006 2007 2008 2009 2010]\n",
      "Labels: [1 2 3 4 5 6 7 8 9 10 11 12]\n",
      "Labels: [20 30 40 45 50 60 70 75 80 85 90 120 150 160 180 190]\n",
      "Labels: [1 2 3 4 5 6 7 8 9]\n",
      "Labels: [1 2 3 4 5 6 7 8 9 10]\n"
     ]
    }
   ],
   "source": [
    "list_categorical = categorical.columns.values\n",
    "for feat in list_categorical: \n",
    "    le_fit_transform(feat)"
   ]
  },
  {
   "cell_type": "code",
   "execution_count": 25,
   "metadata": {},
   "outputs": [],
   "source": [
    "# Add new feature: (quality * present condition) of exterior material\n",
    "numerical.loc[:, 'ExterQC'] = categorical['ExterQual']*categorical['ExterCond']\n",
    "\n",
    "# Add new feature: (quality * condition) of basement:\n",
    "numerical.loc[:, 'BasementQC'] = categorical['BsmtQual'] * categorical['BsmtCond']\n",
    "\n",
    "# Add new feature: (quality * condition) of house:\n",
    "numerical.loc[:, 'HouseQC'] = categorical['OverallQual'] * categorical['OverallCond']"
   ]
  },
  {
   "cell_type": "code",
   "execution_count": 26,
   "metadata": {},
   "outputs": [],
   "source": [
    "# find and delete highly correlated features\n",
    "\n",
    "# add polynolials for features highly correlated with target\n",
    "\n",
    "\n",
    "\n"
   ]
  },
  {
   "cell_type": "markdown",
   "metadata": {},
   "source": [
    "Find and delete outliers:"
   ]
  },
  {
   "cell_type": "code",
   "execution_count": 27,
   "metadata": {},
   "outputs": [],
   "source": [
    "#train_LF = numerical['LotFrontage'].iloc[:train_id.shape[0]]\n",
    "#fig, ax = plt.subplots()\n",
    "#plt.scatter(x=train_LF, y=target)\n",
    "#plt.ylabel('SalePrice')\n",
    "#plt.xlabel('LotFrontage')"
   ]
  },
  {
   "cell_type": "code",
   "execution_count": 28,
   "metadata": {},
   "outputs": [],
   "source": [
    "# Remove samples with large LotFrontage but low SalePrice:\n",
    "\n",
    "#outliers = numerical[numerical['LotFrontage'] > 300].index\n",
    "#numerical.drop(outliers.values, inplace=True)\n",
    "#categorical.drop(outliers.values, inplace=True) "
   ]
  },
  {
   "cell_type": "code",
   "execution_count": 29,
   "metadata": {},
   "outputs": [],
   "source": [
    "#train_BsmtFinSF1 = numerical['BsmtFinSF1'].iloc[:train_id.shape[0]]\n",
    "\n",
    "#fig, ax = plt.subplots()\n",
    "#plt.scatter(x=train_BsmtFinSF1, y=target)\n",
    "#plt.ylabel('SalePrice')\n",
    "#plt.xlabel('BsmtFinSF1')"
   ]
  },
  {
   "cell_type": "code",
   "execution_count": 30,
   "metadata": {},
   "outputs": [],
   "source": [
    "#outliers = numerical[numerical['BsmtFinSF1'] > 2500].index\n",
    "#numerical.drop(outliers.values, inplace=True)\n",
    "#categorical.drop(outliers.values, inplace=True)"
   ]
  },
  {
   "cell_type": "code",
   "execution_count": 31,
   "metadata": {},
   "outputs": [],
   "source": [
    "#train_GrLivArea = numerical['GrLivArea'].iloc[:train_id.shape[0]]\n",
    "#fig, ax = plt.subplots()\n",
    "#plt.scatter(x=train_GrLivArea, y = target)\n",
    "#plt.ylabel('SalePrice')\n",
    "#plt.xlabel('GrLivArea')"
   ]
  },
  {
   "cell_type": "code",
   "execution_count": 32,
   "metadata": {},
   "outputs": [],
   "source": [
    "#outliers = numerical[numerical['GrLivArea'] > 4000].index\n",
    "#numerical.drop(outliers.values, inplace=True)\n",
    "#categorical.drop(outliers.values, inplace=True)"
   ]
  },
  {
   "cell_type": "code",
   "execution_count": 33,
   "metadata": {},
   "outputs": [],
   "source": [
    "# How numerical features are distributed:\n",
    "\n",
    "#plt.rcParams.update({'figure.max_open_warning': 0})\n",
    "\n",
    "#num_features = numerical.columns.values\n",
    "\n",
    "#for feat in num_features:\n",
    "#    plt.figure()\n",
    "#    sns.distplot(numerical[feat], hist=True, kde=False, \n",
    "#             bins=20, color = 'blue',\n",
    "#             hist_kws={'edgecolor':'black'})"
   ]
  },
  {
   "cell_type": "code",
   "execution_count": 34,
   "metadata": {},
   "outputs": [],
   "source": [
    "# Features to change representation: BsmtFinSF2, LowQualFinSF\n",
    "\n",
    "#categorical['AreaFinished'] = numerical['BsmtFinSF2'] == 0\n",
    "#categorical['IsLowQuality'] = numerical['LowQualFinSF'] == 0\n",
    "#categorical = categorical.astype({'AreaFinished': 'object', 'IsLowQuality': 'object'})\n",
    "#le_fit_transform('AreaFinished')\n",
    "#le_fit_transform('IsLowQuality')"
   ]
  },
  {
   "cell_type": "code",
   "execution_count": 35,
   "metadata": {},
   "outputs": [],
   "source": [
    "#categorical.dtypes.unique()"
   ]
  },
  {
   "cell_type": "code",
   "execution_count": 36,
   "metadata": {},
   "outputs": [],
   "source": [
    "#numerical.drop(columns=['BsmtFinSF2', 'LowQualFinSF'], axis=1, inplace=True)"
   ]
  },
  {
   "cell_type": "markdown",
   "metadata": {},
   "source": [
    "BasementQC and ExterQC seem to add none value for prediction.\n",
    "Delete them both with PoolArea."
   ]
  },
  {
   "cell_type": "code",
   "execution_count": 37,
   "metadata": {},
   "outputs": [],
   "source": [
    "#numerical.drop(columns=['BasementQC', 'ExterQC', 'PoolArea'], axis=1, inplace=True)"
   ]
  },
  {
   "cell_type": "markdown",
   "metadata": {},
   "source": [
    "Some features are right/left skewed as shown from the plots. Reduce this effect with log tranformation. "
   ]
  },
  {
   "cell_type": "code",
   "execution_count": 38,
   "metadata": {},
   "outputs": [
    {
     "name": "stdout",
     "output_type": "stream",
     "text": [
      "['LotFrontage' 'LotArea' 'YearBuilt' 'MasVnrArea' 'BsmtFinSF1'\n",
      " 'BsmtFinSF2' 'BsmtUnfSF' 'TotalBsmtSF' '1stFlrSF' '2ndFlrSF'\n",
      " 'LowQualFinSF' 'GrLivArea' 'BsmtFullBath' 'BsmtHalfBath' 'HalfBath'\n",
      " 'KitchenAbvGr' 'TotRmsAbvGrd' 'Fireplaces' 'GarageYrBlt' 'WoodDeckSF'\n",
      " 'OpenPorchSF' 'EnclosedPorch' '3SsnPorch' 'ScreenPorch' 'PoolArea'\n",
      " 'MiscVal' 'PorchArea' 'ExterQC']\n"
     ]
    }
   ],
   "source": [
    "skewness = numerical.apply(lambda x: skew(x))\n",
    "skewness = skewness[abs(skewness) > 0.5]\n",
    "skewed_features = skewness.index\n",
    "print(skewed_features.values)\n",
    "numerical.loc[:, skewed_features] = np.log1p(numerical.loc[:, skewed_features])"
   ]
  },
  {
   "cell_type": "code",
   "execution_count": 39,
   "metadata": {},
   "outputs": [
    {
     "name": "stdout",
     "output_type": "stream",
     "text": [
      "Number of categorical features: 58\n",
      "Index(['MSZoning', 'Street', 'Alley', 'LotShape', 'LandContour', 'Utilities',\n",
      "       'LotConfig', 'LandSlope', 'Neighborhood', 'Condition1', 'Condition2',\n",
      "       'BldgType', 'HouseStyle', 'RoofStyle', 'RoofMatl', 'Exterior1st',\n",
      "       'Exterior2nd', 'MasVnrType', 'ExterQual', 'ExterCond', 'Foundation',\n",
      "       'BsmtQual', 'BsmtCond', 'BsmtExposure', 'BsmtFinType1', 'BsmtFinType2',\n",
      "       'Heating', 'HeatingQC', 'CentralAir', 'Electrical', 'KitchenQual',\n",
      "       'Functional', 'FireplaceQu', 'GarageType', 'GarageFinish', 'GarageQual',\n",
      "       'GarageCond', 'PavedDrive', 'PoolQC', 'Fence', 'MiscFeature',\n",
      "       'SaleType', 'SaleCondition', 'HasPool', 'HasMiscFeature', 'HasAlley',\n",
      "       'HasFence', 'HasFireplace', 'HasGarage', 'HasBasement', 'HasMasVnr',\n",
      "       'HadRec', 'Has2Floor', 'YrSold', 'MoSold', 'MSSubClass', 'OverallCond',\n",
      "       'OverallQual'],\n",
      "      dtype='object')\n"
     ]
    }
   ],
   "source": [
    "print('Number of categorical features: {}'.format(categorical.shape[1]))\n",
    "print(categorical.columns)"
   ]
  },
  {
   "cell_type": "code",
   "execution_count": 40,
   "metadata": {},
   "outputs": [],
   "source": [
    "#todo: find unuseful categorical features and remove\n",
    "categorical['Utilities'].value_counts()\n",
    "categorical.drop('Utilities', axis=1, inplace=True)"
   ]
  },
  {
   "cell_type": "code",
   "execution_count": 41,
   "metadata": {},
   "outputs": [
    {
     "data": {
      "text/plain": [
       "(2919, 57)"
      ]
     },
     "execution_count": 41,
     "metadata": {},
     "output_type": "execute_result"
    }
   ],
   "source": [
    "categorical.shape"
   ]
  },
  {
   "cell_type": "code",
   "execution_count": 42,
   "metadata": {},
   "outputs": [],
   "source": [
    "categorical = pd.get_dummies(categorical)"
   ]
  },
  {
   "cell_type": "code",
   "execution_count": 43,
   "metadata": {},
   "outputs": [
    {
     "data": {
      "text/plain": [
       "(2919, 36)"
      ]
     },
     "execution_count": 43,
     "metadata": {},
     "output_type": "execute_result"
    }
   ],
   "source": [
    "numerical.shape"
   ]
  },
  {
   "cell_type": "code",
   "execution_count": 44,
   "metadata": {},
   "outputs": [
    {
     "data": {
      "text/plain": [
       "(2919, 57)"
      ]
     },
     "execution_count": 44,
     "metadata": {},
     "output_type": "execute_result"
    }
   ],
   "source": [
    "categorical.shape"
   ]
  },
  {
   "cell_type": "code",
   "execution_count": 45,
   "metadata": {},
   "outputs": [],
   "source": [
    "data = pd.concat([numerical, categorical], sort=False, axis=1)"
   ]
  },
  {
   "cell_type": "code",
   "execution_count": 46,
   "metadata": {},
   "outputs": [
    {
     "data": {
      "text/plain": [
       "LotFrontage       0\n",
       "LotArea           0\n",
       "YearBuilt         0\n",
       "YearRemodAdd      0\n",
       "MasVnrArea        0\n",
       "BsmtFinSF1        0\n",
       "BsmtFinSF2        0\n",
       "BsmtUnfSF         0\n",
       "TotalBsmtSF       0\n",
       "1stFlrSF          0\n",
       "2ndFlrSF          0\n",
       "LowQualFinSF      0\n",
       "GrLivArea         0\n",
       "BsmtFullBath      0\n",
       "BsmtHalfBath      0\n",
       "FullBath          0\n",
       "HalfBath          0\n",
       "BedroomAbvGr      0\n",
       "KitchenAbvGr      0\n",
       "TotRmsAbvGrd      0\n",
       "Fireplaces        0\n",
       "GarageYrBlt       0\n",
       "GarageCars        0\n",
       "GarageArea        0\n",
       "WoodDeckSF        0\n",
       "OpenPorchSF       0\n",
       "EnclosedPorch     0\n",
       "3SsnPorch         0\n",
       "ScreenPorch       0\n",
       "PoolArea          0\n",
       "                 ..\n",
       "CentralAir        0\n",
       "Electrical        0\n",
       "KitchenQual       0\n",
       "Functional        0\n",
       "FireplaceQu       0\n",
       "GarageType        0\n",
       "GarageFinish      0\n",
       "GarageQual        0\n",
       "GarageCond        0\n",
       "PavedDrive        0\n",
       "PoolQC            0\n",
       "Fence             0\n",
       "MiscFeature       0\n",
       "SaleType          0\n",
       "SaleCondition     0\n",
       "HasPool           0\n",
       "HasMiscFeature    0\n",
       "HasAlley          0\n",
       "HasFence          0\n",
       "HasFireplace      0\n",
       "HasGarage         0\n",
       "HasBasement       0\n",
       "HasMasVnr         0\n",
       "HadRec            0\n",
       "Has2Floor         0\n",
       "YrSold            0\n",
       "MoSold            0\n",
       "MSSubClass        0\n",
       "OverallCond       0\n",
       "OverallQual       0\n",
       "Length: 93, dtype: int64"
      ]
     },
     "execution_count": 46,
     "metadata": {},
     "output_type": "execute_result"
    }
   ],
   "source": [
    "data.isnull().sum()"
   ]
  },
  {
   "cell_type": "code",
   "execution_count": 47,
   "metadata": {},
   "outputs": [
    {
     "data": {
      "text/plain": [
       "(2919, 93)"
      ]
     },
     "execution_count": 47,
     "metadata": {},
     "output_type": "execute_result"
    }
   ],
   "source": [
    "data.shape"
   ]
  },
  {
   "cell_type": "code",
   "execution_count": 48,
   "metadata": {},
   "outputs": [
    {
     "data": {
      "text/plain": [
       "<matplotlib.axes._subplots.AxesSubplot at 0xb490410>"
      ]
     },
     "execution_count": 48,
     "metadata": {},
     "output_type": "execute_result"
    },
    {
     "data": {
      "image/png": "[encoded data removed]",
      "text/plain": [
       "<Figure size 432x288 with 1 Axes>"
      ]
     },
     "metadata": {
      "needs_background": "light"
     },
     "output_type": "display_data"
    }
   ],
   "source": [
    "# How SalePrice is distributed:\n",
    "sns.distplot(target, hist=True, kde=False, \n",
    "             bins=20, color = 'blue',\n",
    "             hist_kws={'edgecolor':'black'})"
   ]
  },
  {
   "cell_type": "code",
   "execution_count": 49,
   "metadata": {},
   "outputs": [],
   "source": [
    "# Log transformation to make errors for houses with different prices have the same impact\n",
    "# Maybe FunctionTransformer from sklearn.preprocessing should be used\n",
    "target = np.log1p(target)"
   ]
  },
  {
   "cell_type": "code",
   "execution_count": 50,
   "metadata": {},
   "outputs": [
    {
     "data": {
      "text/plain": [
       "<matplotlib.axes._subplots.AxesSubplot at 0x11e8650>"
      ]
     },
     "execution_count": 50,
     "metadata": {},
     "output_type": "execute_result"
    },
    {
     "data": {
      "image/png": "[encoded data removed]",
      "text/plain": [
       "<Figure size 432x288 with 1 Axes>"
      ]
     },
     "metadata": {
      "needs_background": "light"
     },
     "output_type": "display_data"
    }
   ],
   "source": [
    "# How SalePrice is distributed after log transformation:\n",
    "sns.distplot(target, hist=True, kde=False, \n",
    "             bins=20, color = 'blue',\n",
    "             hist_kws={'edgecolor':'black'})"
   ]
  },
  {
   "cell_type": "code",
   "execution_count": 51,
   "metadata": {},
   "outputs": [
    {
     "name": "stdout",
     "output_type": "stream",
     "text": [
      "X: (1460, 93)\n",
      "y: (1460,)\n"
     ]
    }
   ],
   "source": [
    "X = data[:train_id.shape[0]]\n",
    "y = target\n",
    "print('X: {}'.format(X.shape))\n",
    "print('y: {}'.format(y.shape))"
   ]
  },
  {
   "cell_type": "code",
   "execution_count": 52,
   "metadata": {},
   "outputs": [
    {
     "name": "stdout",
     "output_type": "stream",
     "text": [
      "X_train: (1095, 93)\n",
      "y_train: (1095,)\n",
      "X_test: (365, 93)\n",
      "y_test: (365,)\n"
     ]
    }
   ],
   "source": [
    "X_train, X_test, y_train, y_test = train_test_split(X, y, random_state=42)\n",
    "print('X_train: {}'.format(X_train.shape))\n",
    "print('y_train: {}'.format(y_train.shape))\n",
    "print('X_test: {}'.format(X_test.shape))\n",
    "print('y_test: {}'.format(y_test.shape))"
   ]
  },
  {
   "cell_type": "code",
   "execution_count": 53,
   "metadata": {},
   "outputs": [],
   "source": [
    "# scale numerical features\n",
    "\n",
    "#scaler = StandardScaler().fit(X_train)\n",
    "#X_train = scaler.transform(X_train)\n",
    "#X_test = scaler.transform(X_test)"
   ]
  },
  {
   "cell_type": "code",
   "execution_count": 54,
   "metadata": {},
   "outputs": [
    {
     "data": {
      "text/plain": [
       "LinearRegression(copy_X=True, fit_intercept=True, n_jobs=None,\n",
       "         normalize=False)"
      ]
     },
     "execution_count": 54,
     "metadata": {},
     "output_type": "execute_result"
    }
   ],
   "source": [
    "lr = LinearRegression()\n",
    "lr.fit(X_train, y_train)"
   ]
  },
  {
   "cell_type": "code",
   "execution_count": 55,
   "metadata": {},
   "outputs": [
    {
     "data": {
      "text/plain": [
       "0.9178512711515279"
      ]
     },
     "execution_count": 55,
     "metadata": {},
     "output_type": "execute_result"
    }
   ],
   "source": [
    "lr.score(X_train, y_train)"
   ]
  },
  {
   "cell_type": "code",
   "execution_count": 56,
   "metadata": {},
   "outputs": [
    {
     "data": {
      "text/plain": [
       "0.8610917137193645"
      ]
     },
     "execution_count": 56,
     "metadata": {},
     "output_type": "execute_result"
    }
   ],
   "source": [
    "lr.score(X_test, y_test)"
   ]
  }
 ],
 "metadata": {
  "kernelspec": {
   "display_name": "Python 3",
   "language": "python",
   "name": "python3"
  },
  "language_info": {
   "codemirror_mode": {
    "name": "ipython",
    "version": 3
   },
   "file_extension": ".py",
   "mimetype": "text/x-python",
   "name": "python",
   "nbconvert_exporter": "python",
   "pygments_lexer": "ipython3",
   "version": "3.7.2"
  }
 },
 "nbformat": 4,
 "nbformat_minor": 2
}
