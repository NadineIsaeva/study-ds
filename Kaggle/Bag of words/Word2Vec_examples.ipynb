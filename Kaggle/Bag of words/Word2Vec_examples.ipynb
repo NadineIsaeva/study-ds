{
 "cells": [
  {
   "cell_type": "code",
   "execution_count": 0,
   "metadata": {
    "colab": {},
    "colab_type": "code",
    "id": "JPgIgUkumoFE"
   },
   "outputs": [],
   "source": [
    "import pandas as pd\n",
    "import numpy as np\n",
    "from bs4 import BeautifulSoup\n",
    "import re\n",
    "from nltk.corpus import stopwords\n",
    "import nltk.data\n",
    "import warnings\n",
    "import logging\n",
    "from gensim.models import word2vec\n",
    "from gensim.models import Word2Vec\n",
    "from sklearn.ensemble import RandomForestClassifier\n",
    "from sklearn.cluster import KMeans\n",
    "import time"
   ]
  },
  {
   "cell_type": "code",
   "execution_count": 0,
   "metadata": {
    "colab": {},
    "colab_type": "code",
    "id": "luat6wC2nbMU"
   },
   "outputs": [],
   "source": [
    "train = pd.read_csv('labeledTrainData.tsv',\n",
    "                    header=0,\n",
    "                    delimiter='\\t',\n",
    "                    quoting=3)\n",
    "\n",
    "test = pd.read_csv('testData.tsv',\n",
    "                   header=0,\n",
    "                   delimiter='\\t',\n",
    "                   quoting=3)\n",
    "\n",
    "unlabeled_train = pd.read_csv('unlabeledTrainData.tsv',\n",
    "                              header=0,\n",
    "                              delimiter='\\t',\n",
    "                              quoting=3)"
   ]
  },
  {
   "cell_type": "code",
   "execution_count": 3,
   "metadata": {
    "colab": {
     "base_uri": "https://localhost:8080/",
     "height": 68
    },
    "colab_type": "code",
    "id": "RVcDhCbJn1BJ",
    "outputId": "337bd7f6-c90e-4e86-af3c-868ceaae9908"
   },
   "outputs": [
    {
     "name": "stdout",
     "output_type": "stream",
     "text": [
      "Train reviews 25000\n",
      "Test reviews 25000\n",
      "Unlabeled train reviews 50000\n"
     ]
    }
   ],
   "source": [
    "print('Train reviews {}'.format(train['review'].size))\n",
    "print('Test reviews {}'.format(test['review'].size))\n",
    "print('Unlabeled train reviews {}'.format(unlabeled_train['review'].size))"
   ]
  },
  {
   "cell_type": "code",
   "execution_count": 0,
   "metadata": {
    "colab": {},
    "colab_type": "code",
    "id": "x3i5jhyypyH6"
   },
   "outputs": [],
   "source": [
    "def review_to_wordlist(review, remove_stopwords=False):\n",
    "    '''Convert review to a string of words'''\n",
    "  \n",
    "    review_text = BeautifulSoup(review).get_text()\n",
    "    review_text = re.sub('[^a-zA-Z]', ' ', review_text)\n",
    "    words = review_text.lower().split()\n",
    "  \n",
    "    if remove_stopwords:\n",
    "        stops = set(stopwords.words('english'))\n",
    "        words = [w for w in words if not w in stops]\n",
    "  \n",
    "    return(words)"
   ]
  },
  {
   "cell_type": "code",
   "execution_count": 5,
   "metadata": {
    "colab": {
     "base_uri": "https://localhost:8080/",
     "height": 68
    },
    "colab_type": "code",
    "id": "DO2zLYJY0HkP",
    "outputId": "76555e99-e259-4ca8-891b-abf52c2a335d"
   },
   "outputs": [
    {
     "name": "stdout",
     "output_type": "stream",
     "text": [
      "[nltk_data] Downloading package punkt to /root/nltk_data...\n",
      "[nltk_data]   Package punkt is already up-to-date!\n"
     ]
    },
    {
     "data": {
      "text/plain": [
       "True"
      ]
     },
     "execution_count": 5,
     "metadata": {
      "tags": []
     },
     "output_type": "execute_result"
    }
   ],
   "source": [
    "# Punkt tokenizer for sentence splitting\n",
    "nltk.download('punkt')"
   ]
  },
  {
   "cell_type": "code",
   "execution_count": 6,
   "metadata": {
    "colab": {
     "base_uri": "https://localhost:8080/",
     "height": 68
    },
    "colab_type": "code",
    "id": "99zzZwzxBHo4",
    "outputId": "8427f612-03b9-467e-f25c-b72c3f88284a"
   },
   "outputs": [
    {
     "name": "stdout",
     "output_type": "stream",
     "text": [
      "[nltk_data] Downloading package stopwords to /root/nltk_data...\n",
      "[nltk_data]   Package stopwords is already up-to-date!\n"
     ]
    },
    {
     "data": {
      "text/plain": [
       "True"
      ]
     },
     "execution_count": 6,
     "metadata": {
      "tags": []
     },
     "output_type": "execute_result"
    }
   ],
   "source": [
    "nltk.download('stopwords')"
   ]
  },
  {
   "cell_type": "code",
   "execution_count": 0,
   "metadata": {
    "colab": {},
    "colab_type": "code",
    "id": "Kh-JZacc0aS6"
   },
   "outputs": [],
   "source": [
    "# Load the punkt tokenizer\n",
    "tokenizer = nltk.data.load('tokenizers/punkt/english.pickle')"
   ]
  },
  {
   "cell_type": "code",
   "execution_count": 0,
   "metadata": {
    "colab": {},
    "colab_type": "code",
    "id": "qzWIPwmE0c_C"
   },
   "outputs": [],
   "source": [
    "def review_to_sentences(review, tokenizer, remove_stopwords=False):\n",
    "    '''Split review into sentences, where sentence is a list of words'''\n",
    "  \n",
    "    # split review into list of sentences\n",
    "    raw_sentences = tokenizer.tokenize(review.strip()) # and remove blank spaces\n",
    "  \n",
    "    sentences = []\n",
    "    for raw_sentence in raw_sentences:\n",
    "        if len(raw_sentence) > 0:\n",
    "        # make a list of words from each sentence\n",
    "        sentences.append(review_to_wordlist(raw_sentence, remove_stopwords))\n",
    "      \n",
    "    # list of lists\n",
    "    return sentences"
   ]
  },
  {
   "cell_type": "code",
   "execution_count": 9,
   "metadata": {
    "colab": {
     "base_uri": "https://localhost:8080/",
     "height": 51
    },
    "colab_type": "code",
    "id": "miK7-U7I2Jvf",
    "outputId": "449b116d-9669-4153-cebf-01d528a8392e"
   },
   "outputs": [
    {
     "name": "stdout",
     "output_type": "stream",
     "text": [
      "Parsing sentences from training set\n",
      "Parsing sentences from unlabeled set\n"
     ]
    }
   ],
   "source": [
    "# Supress bs warnings when review contains links\n",
    "warnings.filterwarnings(\"ignore\", category=UserWarning, module='bs4')\n",
    "\n",
    "# Prepare data for input for word2vec\n",
    "sentences = []\n",
    "\n",
    "print('Parsing sentences from training set')\n",
    "for review in train['review']:\n",
    "    sentences += review_to_sentences(review, tokenizer)\n",
    "    \n",
    "print('Parsing sentences from unlabeled set')\n",
    "for review in unlabeled_train['review']:\n",
    "    sentences += review_to_sentences(review, tokenizer)"
   ]
  },
  {
   "cell_type": "code",
   "execution_count": 10,
   "metadata": {
    "colab": {
     "base_uri": "https://localhost:8080/",
     "height": 71
    },
    "colab_type": "code",
    "id": "YvsUkvMH28-l",
    "outputId": "f52fad04-1d88-42da-d5c6-1b9e82eb405d"
   },
   "outputs": [
    {
     "name": "stdout",
     "output_type": "stream",
     "text": [
      "795538\n",
      "['with', 'all', 'this', 'stuff', 'going', 'down', 'at', 'the', 'moment', 'with', 'mj', 'i', 've', 'started', 'listening', 'to', 'his', 'music', 'watching', 'the', 'odd', 'documentary', 'here', 'and', 'there', 'watched', 'the', 'wiz', 'and', 'watched', 'moonwalker', 'again']\n"
     ]
    }
   ],
   "source": [
    "print(len(sentences))\n",
    "print(sentences[0])"
   ]
  },
  {
   "cell_type": "code",
   "execution_count": 0,
   "metadata": {
    "colab": {},
    "colab_type": "code",
    "id": "nS0h8c7a3BCs"
   },
   "outputs": [],
   "source": [
    "logging.basicConfig(format='%(asctime)s : %(levelname)s : %(message)s', level=logging.INFO)"
   ]
  },
  {
   "cell_type": "code",
   "execution_count": 0,
   "metadata": {
    "colab": {},
    "colab_type": "code",
    "id": "JXUovkEP37xS"
   },
   "outputs": [],
   "source": [
    "# Model parameters\n",
    "num_features = 300    # Word vector dimensionality\n",
    "min_word_count = 40   # Minimum word count\n",
    "num_workers = 4       # Number of threads to run in parallel\n",
    "context = 10          # Context window size\n",
    "downsampling = 1e-3   # Downsample setting for frequent words"
   ]
  },
  {
   "cell_type": "code",
   "execution_count": 13,
   "metadata": {
    "colab": {
     "base_uri": "https://localhost:8080/",
     "height": 1000
    },
    "colab_type": "code",
    "id": "Mj-MchGL4DXs",
    "outputId": "afd9813f-b992-4fab-a785-3311d19eaa49"
   },
   "outputs": [
    {
     "name": "stderr",
     "output_type": "stream",
     "text": [
      "2019-07-28 17:03:11,994 : INFO : collecting all words and their counts\n",
      "2019-07-28 17:03:11,996 : INFO : PROGRESS: at sentence #0, processed 0 words, keeping 0 word types\n",
      "2019-07-28 17:03:12,065 : INFO : PROGRESS: at sentence #10000, processed 225803 words, keeping 17776 word types\n",
      "2019-07-28 17:03:12,128 : INFO : PROGRESS: at sentence #20000, processed 451892 words, keeping 24948 word types\n"
     ]
    },
    {
     "name": "stdout",
     "output_type": "stream",
     "text": [
      "Training model...\n"
     ]
    },
    {
     "name": "stderr",
     "output_type": "stream",
     "text": [
      "2019-07-28 17:03:12,194 : INFO : PROGRESS: at sentence #30000, processed 671315 words, keeping 30034 word types\n",
      "2019-07-28 17:03:12,265 : INFO : PROGRESS: at sentence #40000, processed 897815 words, keeping 34348 word types\n",
      "2019-07-28 17:03:12,330 : INFO : PROGRESS: at sentence #50000, processed 1116963 words, keeping 37761 word types\n",
      "2019-07-28 17:03:12,400 : INFO : PROGRESS: at sentence #60000, processed 1338404 words, keeping 40723 word types\n",
      "2019-07-28 17:03:12,470 : INFO : PROGRESS: at sentence #70000, processed 1561580 words, keeping 43333 word types\n",
      "2019-07-28 17:03:12,535 : INFO : PROGRESS: at sentence #80000, processed 1780887 words, keeping 45714 word types\n",
      "2019-07-28 17:03:12,609 : INFO : PROGRESS: at sentence #90000, processed 2004996 words, keeping 48135 word types\n",
      "2019-07-28 17:03:12,675 : INFO : PROGRESS: at sentence #100000, processed 2226966 words, keeping 50207 word types\n",
      "2019-07-28 17:03:12,740 : INFO : PROGRESS: at sentence #110000, processed 2446580 words, keeping 52081 word types\n",
      "2019-07-28 17:03:12,808 : INFO : PROGRESS: at sentence #120000, processed 2668775 words, keeping 54119 word types\n",
      "2019-07-28 17:03:12,877 : INFO : PROGRESS: at sentence #130000, processed 2894303 words, keeping 55847 word types\n",
      "2019-07-28 17:03:12,940 : INFO : PROGRESS: at sentence #140000, processed 3107005 words, keeping 57346 word types\n",
      "2019-07-28 17:03:13,010 : INFO : PROGRESS: at sentence #150000, processed 3332627 words, keeping 59055 word types\n",
      "2019-07-28 17:03:13,075 : INFO : PROGRESS: at sentence #160000, processed 3555315 words, keeping 60617 word types\n",
      "2019-07-28 17:03:13,141 : INFO : PROGRESS: at sentence #170000, processed 3778655 words, keeping 62077 word types\n",
      "2019-07-28 17:03:13,211 : INFO : PROGRESS: at sentence #180000, processed 3999236 words, keeping 63496 word types\n",
      "2019-07-28 17:03:13,280 : INFO : PROGRESS: at sentence #190000, processed 4224449 words, keeping 64794 word types\n",
      "2019-07-28 17:03:13,348 : INFO : PROGRESS: at sentence #200000, processed 4448603 words, keeping 66087 word types\n",
      "2019-07-28 17:03:13,416 : INFO : PROGRESS: at sentence #210000, processed 4669967 words, keeping 67390 word types\n",
      "2019-07-28 17:03:13,486 : INFO : PROGRESS: at sentence #220000, processed 4894968 words, keeping 68697 word types\n",
      "2019-07-28 17:03:13,551 : INFO : PROGRESS: at sentence #230000, processed 5117545 words, keeping 69958 word types\n",
      "2019-07-28 17:03:13,618 : INFO : PROGRESS: at sentence #240000, processed 5345050 words, keeping 71167 word types\n",
      "2019-07-28 17:03:13,687 : INFO : PROGRESS: at sentence #250000, processed 5559165 words, keeping 72351 word types\n",
      "2019-07-28 17:03:13,753 : INFO : PROGRESS: at sentence #260000, processed 5779146 words, keeping 73478 word types\n",
      "2019-07-28 17:03:13,820 : INFO : PROGRESS: at sentence #270000, processed 6000435 words, keeping 74767 word types\n",
      "2019-07-28 17:03:13,890 : INFO : PROGRESS: at sentence #280000, processed 6226314 words, keeping 76369 word types\n",
      "2019-07-28 17:03:13,961 : INFO : PROGRESS: at sentence #290000, processed 6449474 words, keeping 77839 word types\n",
      "2019-07-28 17:03:14,034 : INFO : PROGRESS: at sentence #300000, processed 6674077 words, keeping 79171 word types\n",
      "2019-07-28 17:03:14,101 : INFO : PROGRESS: at sentence #310000, processed 6899391 words, keeping 80480 word types\n",
      "2019-07-28 17:03:14,173 : INFO : PROGRESS: at sentence #320000, processed 7124278 words, keeping 81808 word types\n",
      "2019-07-28 17:03:14,241 : INFO : PROGRESS: at sentence #330000, processed 7346021 words, keeping 83030 word types\n",
      "2019-07-28 17:03:14,309 : INFO : PROGRESS: at sentence #340000, processed 7575533 words, keeping 84280 word types\n",
      "2019-07-28 17:03:14,383 : INFO : PROGRESS: at sentence #350000, processed 7798803 words, keeping 85425 word types\n",
      "2019-07-28 17:03:14,451 : INFO : PROGRESS: at sentence #360000, processed 8019427 words, keeping 86596 word types\n",
      "2019-07-28 17:03:14,527 : INFO : PROGRESS: at sentence #370000, processed 8246619 words, keeping 87708 word types\n",
      "2019-07-28 17:03:14,601 : INFO : PROGRESS: at sentence #380000, processed 8471766 words, keeping 88878 word types\n",
      "2019-07-28 17:03:14,672 : INFO : PROGRESS: at sentence #390000, processed 8701497 words, keeping 89907 word types\n",
      "2019-07-28 17:03:14,741 : INFO : PROGRESS: at sentence #400000, processed 8924446 words, keeping 90916 word types\n",
      "2019-07-28 17:03:14,809 : INFO : PROGRESS: at sentence #410000, processed 9145796 words, keeping 91880 word types\n",
      "2019-07-28 17:03:14,880 : INFO : PROGRESS: at sentence #420000, processed 9366876 words, keeping 92912 word types\n",
      "2019-07-28 17:03:14,952 : INFO : PROGRESS: at sentence #430000, processed 9594413 words, keeping 93932 word types\n",
      "2019-07-28 17:03:15,023 : INFO : PROGRESS: at sentence #440000, processed 9821166 words, keeping 94906 word types\n",
      "2019-07-28 17:03:15,091 : INFO : PROGRESS: at sentence #450000, processed 10044928 words, keeping 96036 word types\n",
      "2019-07-28 17:03:15,166 : INFO : PROGRESS: at sentence #460000, processed 10277688 words, keeping 97088 word types\n",
      "2019-07-28 17:03:15,236 : INFO : PROGRESS: at sentence #470000, processed 10505613 words, keeping 97933 word types\n",
      "2019-07-28 17:03:15,302 : INFO : PROGRESS: at sentence #480000, processed 10725997 words, keeping 98862 word types\n",
      "2019-07-28 17:03:15,377 : INFO : PROGRESS: at sentence #490000, processed 10952741 words, keeping 99871 word types\n",
      "2019-07-28 17:03:15,446 : INFO : PROGRESS: at sentence #500000, processed 11174397 words, keeping 100765 word types\n",
      "2019-07-28 17:03:15,513 : INFO : PROGRESS: at sentence #510000, processed 11399672 words, keeping 101699 word types\n",
      "2019-07-28 17:03:15,584 : INFO : PROGRESS: at sentence #520000, processed 11623020 words, keeping 102598 word types\n",
      "2019-07-28 17:03:15,651 : INFO : PROGRESS: at sentence #530000, processed 11847418 words, keeping 103400 word types\n",
      "2019-07-28 17:03:15,719 : INFO : PROGRESS: at sentence #540000, processed 12072033 words, keeping 104265 word types\n",
      "2019-07-28 17:03:15,789 : INFO : PROGRESS: at sentence #550000, processed 12297571 words, keeping 105133 word types\n",
      "2019-07-28 17:03:15,856 : INFO : PROGRESS: at sentence #560000, processed 12518861 words, keeping 105997 word types\n",
      "2019-07-28 17:03:15,925 : INFO : PROGRESS: at sentence #570000, processed 12747916 words, keeping 106787 word types\n",
      "2019-07-28 17:03:15,992 : INFO : PROGRESS: at sentence #580000, processed 12969412 words, keeping 107665 word types\n",
      "2019-07-28 17:03:16,061 : INFO : PROGRESS: at sentence #590000, processed 13194937 words, keeping 108501 word types\n",
      "2019-07-28 17:03:16,128 : INFO : PROGRESS: at sentence #600000, processed 13417135 words, keeping 109218 word types\n",
      "2019-07-28 17:03:16,194 : INFO : PROGRESS: at sentence #610000, processed 13638158 words, keeping 110092 word types\n",
      "2019-07-28 17:03:16,263 : INFO : PROGRESS: at sentence #620000, processed 13864483 words, keeping 110837 word types\n",
      "2019-07-28 17:03:16,332 : INFO : PROGRESS: at sentence #630000, processed 14088769 words, keeping 111610 word types\n",
      "2019-07-28 17:03:16,403 : INFO : PROGRESS: at sentence #640000, processed 14309552 words, keeping 112416 word types\n",
      "2019-07-28 17:03:16,478 : INFO : PROGRESS: at sentence #650000, processed 14535308 words, keeping 113196 word types\n",
      "2019-07-28 17:03:16,549 : INFO : PROGRESS: at sentence #660000, processed 14758098 words, keeping 113945 word types\n",
      "2019-07-28 17:03:16,621 : INFO : PROGRESS: at sentence #670000, processed 14981482 words, keeping 114643 word types\n",
      "2019-07-28 17:03:16,695 : INFO : PROGRESS: at sentence #680000, processed 15206314 words, keeping 115354 word types\n",
      "2019-07-28 17:03:16,764 : INFO : PROGRESS: at sentence #690000, processed 15428507 words, keeping 116131 word types\n",
      "2019-07-28 17:03:16,833 : INFO : PROGRESS: at sentence #700000, processed 15657213 words, keeping 116943 word types\n",
      "2019-07-28 17:03:16,905 : INFO : PROGRESS: at sentence #710000, processed 15880202 words, keeping 117596 word types\n",
      "2019-07-28 17:03:16,973 : INFO : PROGRESS: at sentence #720000, processed 16105489 words, keeping 118221 word types\n",
      "2019-07-28 17:03:17,042 : INFO : PROGRESS: at sentence #730000, processed 16331870 words, keeping 118954 word types\n",
      "2019-07-28 17:03:17,113 : INFO : PROGRESS: at sentence #740000, processed 16552903 words, keeping 119668 word types\n",
      "2019-07-28 17:03:17,183 : INFO : PROGRESS: at sentence #750000, processed 16771230 words, keeping 120295 word types\n",
      "2019-07-28 17:03:17,254 : INFO : PROGRESS: at sentence #760000, processed 16990622 words, keeping 120930 word types\n",
      "2019-07-28 17:03:17,328 : INFO : PROGRESS: at sentence #770000, processed 17217759 words, keeping 121703 word types\n",
      "2019-07-28 17:03:17,399 : INFO : PROGRESS: at sentence #780000, processed 17447905 words, keeping 122402 word types\n",
      "2019-07-28 17:03:17,470 : INFO : PROGRESS: at sentence #790000, processed 17674981 words, keeping 123066 word types\n",
      "2019-07-28 17:03:17,511 : INFO : collected 123504 word types from a corpus of 17798082 raw words and 795538 sentences\n",
      "2019-07-28 17:03:17,513 : INFO : Loading a fresh vocabulary\n",
      "2019-07-28 17:03:17,619 : INFO : effective_min_count=40 retains 16490 unique words (13% of original 123504, drops 107014)\n",
      "2019-07-28 17:03:17,620 : INFO : effective_min_count=40 leaves 17238940 word corpus (96% of original 17798082, drops 559142)\n",
      "2019-07-28 17:03:17,683 : INFO : deleting the raw counts dictionary of 123504 items\n",
      "2019-07-28 17:03:17,691 : INFO : sample=0.001 downsamples 48 most-common words\n",
      "2019-07-28 17:03:17,692 : INFO : downsampling leaves estimated 12749658 word corpus (74.0% of prior 17238940)\n",
      "2019-07-28 17:03:17,765 : INFO : estimated required memory for 16490 words and 300 dimensions: 47821000 bytes\n",
      "2019-07-28 17:03:17,767 : INFO : resetting layer weights\n",
      "2019-07-28 17:03:17,986 : INFO : training model with 4 workers on 16490 vocabulary and 300 features, using sg=0 hs=0 sample=0.001 negative=5 window=10\n",
      "2019-07-28 17:03:19,004 : INFO : EPOCH 1 - PROGRESS: at 2.34% examples, 298494 words/s, in_qsize 7, out_qsize 0\n",
      "2019-07-28 17:03:20,055 : INFO : EPOCH 1 - PROGRESS: at 4.87% examples, 302342 words/s, in_qsize 7, out_qsize 0\n",
      "2019-07-28 17:03:21,101 : INFO : EPOCH 1 - PROGRESS: at 7.42% examples, 304052 words/s, in_qsize 7, out_qsize 0\n",
      "2019-07-28 17:03:22,104 : INFO : EPOCH 1 - PROGRESS: at 9.98% examples, 308113 words/s, in_qsize 7, out_qsize 0\n",
      "2019-07-28 17:03:23,110 : INFO : EPOCH 1 - PROGRESS: at 12.34% examples, 306317 words/s, in_qsize 7, out_qsize 0\n",
      "2019-07-28 17:03:24,163 : INFO : EPOCH 1 - PROGRESS: at 14.89% examples, 306232 words/s, in_qsize 7, out_qsize 0\n",
      "2019-07-28 17:03:25,187 : INFO : EPOCH 1 - PROGRESS: at 17.46% examples, 307402 words/s, in_qsize 7, out_qsize 0\n",
      "2019-07-28 17:03:26,221 : INFO : EPOCH 1 - PROGRESS: at 20.00% examples, 307808 words/s, in_qsize 7, out_qsize 0\n",
      "2019-07-28 17:03:27,246 : INFO : EPOCH 1 - PROGRESS: at 22.53% examples, 308501 words/s, in_qsize 7, out_qsize 0\n",
      "2019-07-28 17:03:28,259 : INFO : EPOCH 1 - PROGRESS: at 25.00% examples, 308771 words/s, in_qsize 7, out_qsize 0\n",
      "2019-07-28 17:03:29,263 : INFO : EPOCH 1 - PROGRESS: at 27.42% examples, 308493 words/s, in_qsize 6, out_qsize 1\n",
      "2019-07-28 17:03:30,289 : INFO : EPOCH 1 - PROGRESS: at 29.88% examples, 308354 words/s, in_qsize 7, out_qsize 0\n",
      "2019-07-28 17:03:31,316 : INFO : EPOCH 1 - PROGRESS: at 32.46% examples, 308704 words/s, in_qsize 7, out_qsize 0\n",
      "2019-07-28 17:03:32,316 : INFO : EPOCH 1 - PROGRESS: at 34.88% examples, 308573 words/s, in_qsize 6, out_qsize 1\n",
      "2019-07-28 17:03:33,363 : INFO : EPOCH 1 - PROGRESS: at 37.34% examples, 308034 words/s, in_qsize 6, out_qsize 1\n",
      "2019-07-28 17:03:34,376 : INFO : EPOCH 1 - PROGRESS: at 39.86% examples, 308634 words/s, in_qsize 7, out_qsize 0\n",
      "2019-07-28 17:03:35,410 : INFO : EPOCH 1 - PROGRESS: at 42.30% examples, 308385 words/s, in_qsize 7, out_qsize 0\n",
      "2019-07-28 17:03:36,423 : INFO : EPOCH 1 - PROGRESS: at 44.79% examples, 308535 words/s, in_qsize 7, out_qsize 0\n",
      "2019-07-28 17:03:37,437 : INFO : EPOCH 1 - PROGRESS: at 47.22% examples, 308620 words/s, in_qsize 7, out_qsize 0\n",
      "2019-07-28 17:03:38,456 : INFO : EPOCH 1 - PROGRESS: at 49.66% examples, 308634 words/s, in_qsize 7, out_qsize 0\n",
      "2019-07-28 17:03:39,484 : INFO : EPOCH 1 - PROGRESS: at 52.21% examples, 308859 words/s, in_qsize 7, out_qsize 1\n",
      "2019-07-28 17:03:40,506 : INFO : EPOCH 1 - PROGRESS: at 54.65% examples, 308791 words/s, in_qsize 7, out_qsize 0\n",
      "2019-07-28 17:03:41,525 : INFO : EPOCH 1 - PROGRESS: at 57.10% examples, 308778 words/s, in_qsize 7, out_qsize 0\n",
      "2019-07-28 17:03:42,528 : INFO : EPOCH 1 - PROGRESS: at 59.51% examples, 308992 words/s, in_qsize 7, out_qsize 0\n",
      "2019-07-28 17:03:43,565 : INFO : EPOCH 1 - PROGRESS: at 61.97% examples, 308751 words/s, in_qsize 7, out_qsize 0\n",
      "2019-07-28 17:03:44,583 : INFO : EPOCH 1 - PROGRESS: at 64.44% examples, 308748 words/s, in_qsize 7, out_qsize 0\n",
      "2019-07-28 17:03:45,589 : INFO : EPOCH 1 - PROGRESS: at 66.74% examples, 308117 words/s, in_qsize 6, out_qsize 1\n",
      "2019-07-28 17:03:46,604 : INFO : EPOCH 1 - PROGRESS: at 69.19% examples, 308199 words/s, in_qsize 7, out_qsize 0\n",
      "2019-07-28 17:03:47,610 : INFO : EPOCH 1 - PROGRESS: at 71.65% examples, 308361 words/s, in_qsize 7, out_qsize 0\n",
      "2019-07-28 17:03:48,622 : INFO : EPOCH 1 - PROGRESS: at 74.12% examples, 308440 words/s, in_qsize 7, out_qsize 0\n",
      "2019-07-28 17:03:49,652 : INFO : EPOCH 1 - PROGRESS: at 76.60% examples, 308339 words/s, in_qsize 5, out_qsize 2\n",
      "2019-07-28 17:03:50,655 : INFO : EPOCH 1 - PROGRESS: at 79.06% examples, 308517 words/s, in_qsize 7, out_qsize 0\n",
      "2019-07-28 17:03:51,670 : INFO : EPOCH 1 - PROGRESS: at 81.53% examples, 308537 words/s, in_qsize 7, out_qsize 0\n",
      "2019-07-28 17:03:52,697 : INFO : EPOCH 1 - PROGRESS: at 83.89% examples, 308074 words/s, in_qsize 6, out_qsize 1\n",
      "2019-07-28 17:03:53,707 : INFO : EPOCH 1 - PROGRESS: at 86.37% examples, 308176 words/s, in_qsize 7, out_qsize 0\n",
      "2019-07-28 17:03:54,717 : INFO : EPOCH 1 - PROGRESS: at 88.70% examples, 307936 words/s, in_qsize 8, out_qsize 3\n",
      "2019-07-28 17:03:55,733 : INFO : EPOCH 1 - PROGRESS: at 91.20% examples, 308110 words/s, in_qsize 6, out_qsize 1\n",
      "2019-07-28 17:03:56,749 : INFO : EPOCH 1 - PROGRESS: at 93.68% examples, 308155 words/s, in_qsize 7, out_qsize 0\n",
      "2019-07-28 17:03:57,749 : INFO : EPOCH 1 - PROGRESS: at 96.14% examples, 308141 words/s, in_qsize 7, out_qsize 0\n",
      "2019-07-28 17:03:58,771 : INFO : EPOCH 1 - PROGRESS: at 98.56% examples, 308141 words/s, in_qsize 7, out_qsize 0\n",
      "2019-07-28 17:03:59,303 : INFO : worker thread finished; awaiting finish of 3 more threads\n",
      "2019-07-28 17:03:59,321 : INFO : worker thread finished; awaiting finish of 2 more threads\n",
      "2019-07-28 17:03:59,334 : INFO : worker thread finished; awaiting finish of 1 more threads\n",
      "2019-07-28 17:03:59,356 : INFO : worker thread finished; awaiting finish of 0 more threads\n",
      "2019-07-28 17:03:59,357 : INFO : EPOCH - 1 : training on 17798082 raw words (12749645 effective words) took 41.4s, 308263 effective words/s\n",
      "2019-07-28 17:04:00,402 : INFO : EPOCH 2 - PROGRESS: at 2.39% examples, 298891 words/s, in_qsize 7, out_qsize 0\n",
      "2019-07-28 17:04:01,407 : INFO : EPOCH 2 - PROGRESS: at 4.81% examples, 302201 words/s, in_qsize 7, out_qsize 0\n",
      "2019-07-28 17:04:02,429 : INFO : EPOCH 2 - PROGRESS: at 7.30% examples, 303807 words/s, in_qsize 7, out_qsize 0\n",
      "2019-07-28 17:04:03,480 : INFO : EPOCH 2 - PROGRESS: at 9.86% examples, 304450 words/s, in_qsize 7, out_qsize 0\n",
      "2019-07-28 17:04:04,527 : INFO : EPOCH 2 - PROGRESS: at 12.39% examples, 305132 words/s, in_qsize 7, out_qsize 0\n",
      "2019-07-28 17:04:05,566 : INFO : EPOCH 2 - PROGRESS: at 14.95% examples, 305882 words/s, in_qsize 7, out_qsize 0\n",
      "2019-07-28 17:04:06,599 : INFO : EPOCH 2 - PROGRESS: at 17.52% examples, 306720 words/s, in_qsize 7, out_qsize 0\n",
      "2019-07-28 17:04:07,603 : INFO : EPOCH 2 - PROGRESS: at 19.88% examples, 305744 words/s, in_qsize 7, out_qsize 0\n",
      "2019-07-28 17:04:08,634 : INFO : EPOCH 2 - PROGRESS: at 22.37% examples, 305739 words/s, in_qsize 7, out_qsize 0\n",
      "2019-07-28 17:04:09,640 : INFO : EPOCH 2 - PROGRESS: at 24.83% examples, 306473 words/s, in_qsize 7, out_qsize 0\n",
      "2019-07-28 17:04:10,688 : INFO : EPOCH 2 - PROGRESS: at 27.31% examples, 305865 words/s, in_qsize 7, out_qsize 0\n",
      "2019-07-28 17:04:11,714 : INFO : EPOCH 2 - PROGRESS: at 29.82% examples, 306501 words/s, in_qsize 7, out_qsize 0\n",
      "2019-07-28 17:04:12,742 : INFO : EPOCH 2 - PROGRESS: at 32.29% examples, 305897 words/s, in_qsize 6, out_qsize 1\n",
      "2019-07-28 17:04:13,763 : INFO : EPOCH 2 - PROGRESS: at 34.82% examples, 306519 words/s, in_qsize 7, out_qsize 0\n",
      "2019-07-28 17:04:14,786 : INFO : EPOCH 2 - PROGRESS: at 37.28% examples, 306600 words/s, in_qsize 7, out_qsize 0\n",
      "2019-07-28 17:04:15,810 : INFO : EPOCH 2 - PROGRESS: at 39.75% examples, 306630 words/s, in_qsize 7, out_qsize 0\n",
      "2019-07-28 17:04:16,811 : INFO : EPOCH 2 - PROGRESS: at 42.19% examples, 307084 words/s, in_qsize 7, out_qsize 0\n",
      "2019-07-28 17:04:17,820 : INFO : EPOCH 2 - PROGRESS: at 44.62% examples, 306943 words/s, in_qsize 7, out_qsize 0\n",
      "2019-07-28 17:04:18,831 : INFO : EPOCH 2 - PROGRESS: at 46.99% examples, 306776 words/s, in_qsize 7, out_qsize 0\n",
      "2019-07-28 17:04:19,888 : INFO : EPOCH 2 - PROGRESS: at 49.49% examples, 306671 words/s, in_qsize 7, out_qsize 0\n",
      "2019-07-28 17:04:20,899 : INFO : EPOCH 2 - PROGRESS: at 51.99% examples, 306906 words/s, in_qsize 7, out_qsize 0\n",
      "2019-07-28 17:04:21,919 : INFO : EPOCH 2 - PROGRESS: at 54.37% examples, 306650 words/s, in_qsize 7, out_qsize 0\n",
      "2019-07-28 17:04:22,926 : INFO : EPOCH 2 - PROGRESS: at 56.82% examples, 306866 words/s, in_qsize 7, out_qsize 0\n",
      "2019-07-28 17:04:23,940 : INFO : EPOCH 2 - PROGRESS: at 59.22% examples, 307002 words/s, in_qsize 7, out_qsize 0\n",
      "2019-07-28 17:04:24,978 : INFO : EPOCH 2 - PROGRESS: at 61.70% examples, 306851 words/s, in_qsize 7, out_qsize 0\n",
      "2019-07-28 17:04:25,990 : INFO : EPOCH 2 - PROGRESS: at 64.17% examples, 307005 words/s, in_qsize 7, out_qsize 0\n",
      "2019-07-28 17:04:27,001 : INFO : EPOCH 2 - PROGRESS: at 66.63% examples, 307179 words/s, in_qsize 7, out_qsize 0\n",
      "2019-07-28 17:04:28,013 : INFO : EPOCH 2 - PROGRESS: at 69.03% examples, 307075 words/s, in_qsize 7, out_qsize 0\n",
      "2019-07-28 17:04:29,031 : INFO : EPOCH 2 - PROGRESS: at 71.49% examples, 307143 words/s, in_qsize 7, out_qsize 0\n",
      "2019-07-28 17:04:30,051 : INFO : EPOCH 2 - PROGRESS: at 74.01% examples, 307430 words/s, in_qsize 7, out_qsize 0\n",
      "2019-07-28 17:04:31,062 : INFO : EPOCH 2 - PROGRESS: at 76.43% examples, 307319 words/s, in_qsize 7, out_qsize 0\n",
      "2019-07-28 17:04:32,074 : INFO : EPOCH 2 - PROGRESS: at 78.89% examples, 307436 words/s, in_qsize 6, out_qsize 1\n",
      "2019-07-28 17:04:33,098 : INFO : EPOCH 2 - PROGRESS: at 81.43% examples, 307640 words/s, in_qsize 7, out_qsize 0\n",
      "2019-07-28 17:04:34,115 : INFO : EPOCH 2 - PROGRESS: at 83.84% examples, 307490 words/s, in_qsize 7, out_qsize 0\n",
      "2019-07-28 17:04:35,121 : INFO : EPOCH 2 - PROGRESS: at 86.25% examples, 307451 words/s, in_qsize 7, out_qsize 0\n",
      "2019-07-28 17:04:36,148 : INFO : EPOCH 2 - PROGRESS: at 88.74% examples, 307612 words/s, in_qsize 7, out_qsize 0\n",
      "2019-07-28 17:04:37,182 : INFO : EPOCH 2 - PROGRESS: at 91.21% examples, 307509 words/s, in_qsize 7, out_qsize 0\n",
      "2019-07-28 17:04:38,203 : INFO : EPOCH 2 - PROGRESS: at 93.68% examples, 307527 words/s, in_qsize 7, out_qsize 0\n",
      "2019-07-28 17:04:39,239 : INFO : EPOCH 2 - PROGRESS: at 96.20% examples, 307432 words/s, in_qsize 7, out_qsize 0\n",
      "2019-07-28 17:04:40,250 : INFO : EPOCH 2 - PROGRESS: at 98.56% examples, 307361 words/s, in_qsize 6, out_qsize 1\n",
      "2019-07-28 17:04:40,768 : INFO : worker thread finished; awaiting finish of 3 more threads\n",
      "2019-07-28 17:04:40,797 : INFO : worker thread finished; awaiting finish of 2 more threads\n",
      "2019-07-28 17:04:40,799 : INFO : worker thread finished; awaiting finish of 1 more threads\n",
      "2019-07-28 17:04:40,820 : INFO : worker thread finished; awaiting finish of 0 more threads\n",
      "2019-07-28 17:04:40,822 : INFO : EPOCH - 2 : training on 17798082 raw words (12749975 effective words) took 41.5s, 307595 effective words/s\n",
      "2019-07-28 17:04:41,884 : INFO : EPOCH 3 - PROGRESS: at 2.39% examples, 292757 words/s, in_qsize 7, out_qsize 0\n",
      "2019-07-28 17:04:42,892 : INFO : EPOCH 3 - PROGRESS: at 4.92% examples, 305385 words/s, in_qsize 6, out_qsize 1\n",
      "2019-07-28 17:04:43,915 : INFO : EPOCH 3 - PROGRESS: at 7.42% examples, 305958 words/s, in_qsize 7, out_qsize 0\n",
      "2019-07-28 17:04:44,947 : INFO : EPOCH 3 - PROGRESS: at 9.98% examples, 307502 words/s, in_qsize 7, out_qsize 0\n",
      "2019-07-28 17:04:45,979 : INFO : EPOCH 3 - PROGRESS: at 12.40% examples, 305634 words/s, in_qsize 5, out_qsize 2\n",
      "2019-07-28 17:04:47,040 : INFO : EPOCH 3 - PROGRESS: at 15.01% examples, 306367 words/s, in_qsize 7, out_qsize 0\n",
      "2019-07-28 17:04:48,046 : INFO : EPOCH 3 - PROGRESS: at 17.59% examples, 308310 words/s, in_qsize 7, out_qsize 0\n",
      "2019-07-28 17:04:49,064 : INFO : EPOCH 3 - PROGRESS: at 20.05% examples, 308340 words/s, in_qsize 6, out_qsize 1\n",
      "2019-07-28 17:04:50,091 : INFO : EPOCH 3 - PROGRESS: at 22.59% examples, 308947 words/s, in_qsize 7, out_qsize 0\n",
      "2019-07-28 17:04:51,102 : INFO : EPOCH 3 - PROGRESS: at 25.10% examples, 309854 words/s, in_qsize 7, out_qsize 0\n",
      "2019-07-28 17:04:52,108 : INFO : EPOCH 3 - PROGRESS: at 27.52% examples, 309464 words/s, in_qsize 7, out_qsize 0\n",
      "2019-07-28 17:04:53,129 : INFO : EPOCH 3 - PROGRESS: at 30.04% examples, 309888 words/s, in_qsize 7, out_qsize 0\n",
      "2019-07-28 17:04:54,139 : INFO : EPOCH 3 - PROGRESS: at 32.57% examples, 309970 words/s, in_qsize 7, out_qsize 0\n",
      "2019-07-28 17:04:55,178 : INFO : EPOCH 3 - PROGRESS: at 35.10% examples, 309944 words/s, in_qsize 7, out_qsize 0\n",
      "2019-07-28 17:04:56,199 : INFO : EPOCH 3 - PROGRESS: at 37.62% examples, 310296 words/s, in_qsize 7, out_qsize 0\n",
      "2019-07-28 17:04:57,199 : INFO : EPOCH 3 - PROGRESS: at 40.02% examples, 310091 words/s, in_qsize 7, out_qsize 0\n",
      "2019-07-28 17:04:58,213 : INFO : EPOCH 3 - PROGRESS: at 42.47% examples, 310113 words/s, in_qsize 6, out_qsize 1\n",
      "2019-07-28 17:04:59,220 : INFO : EPOCH 3 - PROGRESS: at 45.00% examples, 310614 words/s, in_qsize 7, out_qsize 0\n",
      "2019-07-28 17:05:00,226 : INFO : EPOCH 3 - PROGRESS: at 47.45% examples, 310713 words/s, in_qsize 7, out_qsize 0\n",
      "2019-07-28 17:05:01,233 : INFO : EPOCH 3 - PROGRESS: at 49.88% examples, 310806 words/s, in_qsize 7, out_qsize 0\n",
      "2019-07-28 17:05:02,289 : INFO : EPOCH 3 - PROGRESS: at 52.48% examples, 310840 words/s, in_qsize 7, out_qsize 0\n",
      "2019-07-28 17:05:03,331 : INFO : EPOCH 3 - PROGRESS: at 54.99% examples, 310749 words/s, in_qsize 8, out_qsize 1\n",
      "2019-07-28 17:05:04,354 : INFO : EPOCH 3 - PROGRESS: at 57.52% examples, 311195 words/s, in_qsize 7, out_qsize 0\n",
      "2019-07-28 17:05:05,355 : INFO : EPOCH 3 - PROGRESS: at 59.89% examples, 311047 words/s, in_qsize 7, out_qsize 0\n",
      "2019-07-28 17:05:06,398 : INFO : EPOCH 3 - PROGRESS: at 62.48% examples, 311202 words/s, in_qsize 6, out_qsize 1\n",
      "2019-07-28 17:05:07,412 : INFO : EPOCH 3 - PROGRESS: at 65.01% examples, 311601 words/s, in_qsize 7, out_qsize 0\n",
      "2019-07-28 17:05:08,447 : INFO : EPOCH 3 - PROGRESS: at 67.57% examples, 311675 words/s, in_qsize 7, out_qsize 0\n",
      "2019-07-28 17:05:09,463 : INFO : EPOCH 3 - PROGRESS: at 70.05% examples, 311619 words/s, in_qsize 7, out_qsize 0\n",
      "2019-07-28 17:05:10,472 : INFO : EPOCH 3 - PROGRESS: at 72.54% examples, 311878 words/s, in_qsize 7, out_qsize 0\n",
      "2019-07-28 17:05:11,513 : INFO : EPOCH 3 - PROGRESS: at 75.08% examples, 311798 words/s, in_qsize 7, out_qsize 0\n",
      "2019-07-28 17:05:12,525 : INFO : EPOCH 3 - PROGRESS: at 77.60% examples, 311984 words/s, in_qsize 7, out_qsize 0\n",
      "2019-07-28 17:05:13,538 : INFO : EPOCH 3 - PROGRESS: at 80.02% examples, 311731 words/s, in_qsize 7, out_qsize 0\n",
      "2019-07-28 17:05:14,553 : INFO : EPOCH 3 - PROGRESS: at 82.50% examples, 311660 words/s, in_qsize 7, out_qsize 0\n",
      "2019-07-28 17:05:15,575 : INFO : EPOCH 3 - PROGRESS: at 84.94% examples, 311565 words/s, in_qsize 6, out_qsize 1\n",
      "2019-07-28 17:05:16,589 : INFO : EPOCH 3 - PROGRESS: at 87.48% examples, 311737 words/s, in_qsize 7, out_qsize 0\n",
      "2019-07-28 17:05:17,608 : INFO : EPOCH 3 - PROGRESS: at 89.97% examples, 311850 words/s, in_qsize 7, out_qsize 0\n",
      "2019-07-28 17:05:18,642 : INFO : EPOCH 3 - PROGRESS: at 92.50% examples, 311842 words/s, in_qsize 7, out_qsize 0\n",
      "2019-07-28 17:05:19,681 : INFO : EPOCH 3 - PROGRESS: at 95.06% examples, 311774 words/s, in_qsize 7, out_qsize 0\n",
      "2019-07-28 17:05:20,697 : INFO : EPOCH 3 - PROGRESS: at 97.51% examples, 311711 words/s, in_qsize 7, out_qsize 0\n",
      "2019-07-28 17:05:21,618 : INFO : worker thread finished; awaiting finish of 3 more threads\n",
      "2019-07-28 17:05:21,640 : INFO : worker thread finished; awaiting finish of 2 more threads\n",
      "2019-07-28 17:05:21,663 : INFO : worker thread finished; awaiting finish of 1 more threads\n",
      "2019-07-28 17:05:21,665 : INFO : worker thread finished; awaiting finish of 0 more threads\n",
      "2019-07-28 17:05:21,670 : INFO : EPOCH - 3 : training on 17798082 raw words (12748003 effective words) took 40.8s, 312161 effective words/s\n",
      "2019-07-28 17:05:22,701 : INFO : EPOCH 4 - PROGRESS: at 2.39% examples, 302076 words/s, in_qsize 7, out_qsize 0\n",
      "2019-07-28 17:05:23,707 : INFO : EPOCH 4 - PROGRESS: at 4.81% examples, 303762 words/s, in_qsize 7, out_qsize 0\n",
      "2019-07-28 17:05:24,761 : INFO : EPOCH 4 - PROGRESS: at 6.29% examples, 260044 words/s, in_qsize 7, out_qsize 0\n",
      "2019-07-28 17:05:25,831 : INFO : EPOCH 4 - PROGRESS: at 6.96% examples, 213619 words/s, in_qsize 7, out_qsize 1\n",
      "2019-07-28 17:05:26,837 : INFO : EPOCH 4 - PROGRESS: at 8.16% examples, 201071 words/s, in_qsize 7, out_qsize 0\n",
      "2019-07-28 17:05:27,872 : INFO : EPOCH 4 - PROGRESS: at 10.58% examples, 217143 words/s, in_qsize 7, out_qsize 0\n",
      "2019-07-28 17:05:28,873 : INFO : EPOCH 4 - PROGRESS: at 13.08% examples, 230765 words/s, in_qsize 7, out_qsize 0\n",
      "2019-07-28 17:05:29,886 : INFO : EPOCH 4 - PROGRESS: at 15.56% examples, 240651 words/s, in_qsize 7, out_qsize 0\n",
      "2019-07-28 17:05:30,941 : INFO : EPOCH 4 - PROGRESS: at 18.19% examples, 248748 words/s, in_qsize 7, out_qsize 0\n",
      "2019-07-28 17:05:31,949 : INFO : EPOCH 4 - PROGRESS: at 20.73% examples, 255675 words/s, in_qsize 7, out_qsize 0\n",
      "2019-07-28 17:05:32,991 : INFO : EPOCH 4 - PROGRESS: at 23.32% examples, 261209 words/s, in_qsize 7, out_qsize 0\n",
      "2019-07-28 17:05:33,996 : INFO : EPOCH 4 - PROGRESS: at 25.85% examples, 266043 words/s, in_qsize 7, out_qsize 0\n",
      "2019-07-28 17:05:34,997 : INFO : EPOCH 4 - PROGRESS: at 28.31% examples, 269635 words/s, in_qsize 7, out_qsize 0\n",
      "2019-07-28 17:05:36,000 : INFO : EPOCH 4 - PROGRESS: at 30.68% examples, 271708 words/s, in_qsize 7, out_qsize 0\n",
      "2019-07-28 17:05:37,027 : INFO : EPOCH 4 - PROGRESS: at 33.21% examples, 273992 words/s, in_qsize 5, out_qsize 2\n",
      "2019-07-28 17:05:38,053 : INFO : EPOCH 4 - PROGRESS: at 35.73% examples, 276477 words/s, in_qsize 7, out_qsize 0\n",
      "2019-07-28 17:05:39,054 : INFO : EPOCH 4 - PROGRESS: at 38.18% examples, 278664 words/s, in_qsize 7, out_qsize 0\n",
      "2019-07-28 17:05:40,055 : INFO : EPOCH 4 - PROGRESS: at 40.63% examples, 280612 words/s, in_qsize 8, out_qsize 0\n",
      "2019-07-28 17:05:41,091 : INFO : EPOCH 4 - PROGRESS: at 43.02% examples, 281491 words/s, in_qsize 7, out_qsize 0\n",
      "2019-07-28 17:05:42,120 : INFO : EPOCH 4 - PROGRESS: at 45.56% examples, 283045 words/s, in_qsize 7, out_qsize 0\n",
      "2019-07-28 17:05:43,124 : INFO : EPOCH 4 - PROGRESS: at 48.00% examples, 284462 words/s, in_qsize 7, out_qsize 0\n",
      "2019-07-28 17:05:44,126 : INFO : EPOCH 4 - PROGRESS: at 50.40% examples, 285488 words/s, in_qsize 6, out_qsize 1\n",
      "2019-07-28 17:05:45,133 : INFO : EPOCH 4 - PROGRESS: at 52.83% examples, 286338 words/s, in_qsize 6, out_qsize 1\n",
      "2019-07-28 17:05:46,146 : INFO : EPOCH 4 - PROGRESS: at 55.33% examples, 287641 words/s, in_qsize 7, out_qsize 0\n",
      "2019-07-28 17:05:47,171 : INFO : EPOCH 4 - PROGRESS: at 57.74% examples, 288402 words/s, in_qsize 7, out_qsize 0\n",
      "2019-07-28 17:05:48,224 : INFO : EPOCH 4 - PROGRESS: at 60.31% examples, 289366 words/s, in_qsize 7, out_qsize 0\n",
      "2019-07-28 17:05:49,239 : INFO : EPOCH 4 - PROGRESS: at 62.82% examples, 290386 words/s, in_qsize 7, out_qsize 0\n",
      "2019-07-28 17:05:50,242 : INFO : EPOCH 4 - PROGRESS: at 65.23% examples, 290966 words/s, in_qsize 6, out_qsize 1\n",
      "2019-07-28 17:05:51,249 : INFO : EPOCH 4 - PROGRESS: at 67.69% examples, 291693 words/s, in_qsize 7, out_qsize 0\n",
      "2019-07-28 17:05:52,270 : INFO : EPOCH 4 - PROGRESS: at 70.22% examples, 292491 words/s, in_qsize 7, out_qsize 0\n",
      "2019-07-28 17:05:53,300 : INFO : EPOCH 4 - PROGRESS: at 72.78% examples, 293373 words/s, in_qsize 7, out_qsize 0\n",
      "2019-07-28 17:05:54,325 : INFO : EPOCH 4 - PROGRESS: at 75.25% examples, 293803 words/s, in_qsize 7, out_qsize 0\n",
      "2019-07-28 17:05:55,369 : INFO : EPOCH 4 - PROGRESS: at 77.83% examples, 294460 words/s, in_qsize 7, out_qsize 0\n",
      "2019-07-28 17:05:56,385 : INFO : EPOCH 4 - PROGRESS: at 80.36% examples, 295118 words/s, in_qsize 7, out_qsize 0\n",
      "2019-07-28 17:05:57,387 : INFO : EPOCH 4 - PROGRESS: at 82.89% examples, 295859 words/s, in_qsize 8, out_qsize 0\n",
      "2019-07-28 17:05:58,431 : INFO : EPOCH 4 - PROGRESS: at 85.34% examples, 296018 words/s, in_qsize 7, out_qsize 0\n",
      "2019-07-28 17:05:59,434 : INFO : EPOCH 4 - PROGRESS: at 87.80% examples, 296500 words/s, in_qsize 6, out_qsize 1\n",
      "2019-07-28 17:06:00,492 : INFO : EPOCH 4 - PROGRESS: at 90.37% examples, 296887 words/s, in_qsize 7, out_qsize 0\n",
      "2019-07-28 17:06:01,498 : INFO : EPOCH 4 - PROGRESS: at 92.90% examples, 297468 words/s, in_qsize 7, out_qsize 0\n",
      "2019-07-28 17:06:02,504 : INFO : EPOCH 4 - PROGRESS: at 95.47% examples, 298011 words/s, in_qsize 7, out_qsize 0\n",
      "2019-07-28 17:06:03,539 : INFO : EPOCH 4 - PROGRESS: at 97.89% examples, 298153 words/s, in_qsize 7, out_qsize 0\n",
      "2019-07-28 17:06:04,289 : INFO : worker thread finished; awaiting finish of 3 more threads\n",
      "2019-07-28 17:06:04,326 : INFO : worker thread finished; awaiting finish of 2 more threads\n",
      "2019-07-28 17:06:04,328 : INFO : worker thread finished; awaiting finish of 1 more threads\n",
      "2019-07-28 17:06:04,339 : INFO : worker thread finished; awaiting finish of 0 more threads\n",
      "2019-07-28 17:06:04,340 : INFO : EPOCH - 4 : training on 17798082 raw words (12751394 effective words) took 42.7s, 298922 effective words/s\n",
      "2019-07-28 17:06:05,358 : INFO : EPOCH 5 - PROGRESS: at 2.34% examples, 298036 words/s, in_qsize 7, out_qsize 0\n",
      "2019-07-28 17:06:06,371 : INFO : EPOCH 5 - PROGRESS: at 4.87% examples, 307795 words/s, in_qsize 8, out_qsize 0\n",
      "2019-07-28 17:06:07,375 : INFO : EPOCH 5 - PROGRESS: at 7.30% examples, 307110 words/s, in_qsize 7, out_qsize 0\n",
      "2019-07-28 17:06:08,388 : INFO : EPOCH 5 - PROGRESS: at 9.86% examples, 309824 words/s, in_qsize 7, out_qsize 0\n",
      "2019-07-28 17:06:09,430 : INFO : EPOCH 5 - PROGRESS: at 12.39% examples, 309660 words/s, in_qsize 8, out_qsize 0\n",
      "2019-07-28 17:06:10,456 : INFO : EPOCH 5 - PROGRESS: at 14.95% examples, 310382 words/s, in_qsize 8, out_qsize 0\n",
      "2019-07-28 17:06:11,484 : INFO : EPOCH 5 - PROGRESS: at 17.52% examples, 310745 words/s, in_qsize 7, out_qsize 0\n",
      "2019-07-28 17:06:12,526 : INFO : EPOCH 5 - PROGRESS: at 20.11% examples, 311276 words/s, in_qsize 7, out_qsize 1\n",
      "2019-07-28 17:06:13,536 : INFO : EPOCH 5 - PROGRESS: at 22.65% examples, 312101 words/s, in_qsize 7, out_qsize 0\n",
      "2019-07-28 17:06:14,602 : INFO : EPOCH 5 - PROGRESS: at 25.28% examples, 312440 words/s, in_qsize 7, out_qsize 0\n",
      "2019-07-28 17:06:15,618 : INFO : EPOCH 5 - PROGRESS: at 27.85% examples, 313410 words/s, in_qsize 7, out_qsize 0\n",
      "2019-07-28 17:06:16,633 : INFO : EPOCH 5 - PROGRESS: at 30.32% examples, 313078 words/s, in_qsize 7, out_qsize 0\n",
      "2019-07-28 17:06:17,640 : INFO : EPOCH 5 - PROGRESS: at 32.86% examples, 312982 words/s, in_qsize 7, out_qsize 0\n",
      "2019-07-28 17:06:18,670 : INFO : EPOCH 5 - PROGRESS: at 35.39% examples, 312934 words/s, in_qsize 7, out_qsize 0\n",
      "2019-07-28 17:06:19,688 : INFO : EPOCH 5 - PROGRESS: at 37.84% examples, 312701 words/s, in_qsize 7, out_qsize 0\n",
      "2019-07-28 17:06:20,719 : INFO : EPOCH 5 - PROGRESS: at 40.35% examples, 312920 words/s, in_qsize 7, out_qsize 1\n",
      "2019-07-28 17:06:21,714 : INFO : EPOCH 5 - PROGRESS: at 42.86% examples, 313307 words/s, in_qsize 7, out_qsize 0\n",
      "2019-07-28 17:06:22,717 : INFO : EPOCH 5 - PROGRESS: at 45.29% examples, 312966 words/s, in_qsize 6, out_qsize 1\n",
      "2019-07-28 17:06:23,720 : INFO : EPOCH 5 - PROGRESS: at 47.73% examples, 313000 words/s, in_qsize 7, out_qsize 0\n",
      "2019-07-28 17:06:24,741 : INFO : EPOCH 5 - PROGRESS: at 50.16% examples, 312779 words/s, in_qsize 7, out_qsize 0\n",
      "2019-07-28 17:06:25,751 : INFO : EPOCH 5 - PROGRESS: at 52.73% examples, 313065 words/s, in_qsize 7, out_qsize 0\n",
      "2019-07-28 17:06:26,794 : INFO : EPOCH 5 - PROGRESS: at 55.20% examples, 312839 words/s, in_qsize 5, out_qsize 2\n",
      "2019-07-28 17:06:27,820 : INFO : EPOCH 5 - PROGRESS: at 57.73% examples, 313150 words/s, in_qsize 7, out_qsize 0\n",
      "2019-07-28 17:06:28,844 : INFO : EPOCH 5 - PROGRESS: at 60.31% examples, 313502 words/s, in_qsize 7, out_qsize 0\n",
      "2019-07-28 17:06:29,856 : INFO : EPOCH 5 - PROGRESS: at 62.77% examples, 313392 words/s, in_qsize 8, out_qsize 0\n",
      "2019-07-28 17:06:30,885 : INFO : EPOCH 5 - PROGRESS: at 65.29% examples, 313379 words/s, in_qsize 7, out_qsize 0\n",
      "2019-07-28 17:06:31,891 : INFO : EPOCH 5 - PROGRESS: at 67.80% examples, 313631 words/s, in_qsize 6, out_qsize 1\n",
      "2019-07-28 17:06:32,899 : INFO : EPOCH 5 - PROGRESS: at 70.28% examples, 313594 words/s, in_qsize 7, out_qsize 0\n",
      "2019-07-28 17:06:33,948 : INFO : EPOCH 5 - PROGRESS: at 72.84% examples, 313600 words/s, in_qsize 7, out_qsize 0\n",
      "2019-07-28 17:06:34,970 : INFO : EPOCH 5 - PROGRESS: at 75.36% examples, 313658 words/s, in_qsize 7, out_qsize 0\n",
      "2019-07-28 17:06:35,972 : INFO : EPOCH 5 - PROGRESS: at 77.89% examples, 313887 words/s, in_qsize 7, out_qsize 0\n",
      "2019-07-28 17:06:36,975 : INFO : EPOCH 5 - PROGRESS: at 80.31% examples, 313658 words/s, in_qsize 8, out_qsize 0\n",
      "2019-07-28 17:06:38,013 : INFO : EPOCH 5 - PROGRESS: at 82.89% examples, 313762 words/s, in_qsize 7, out_qsize 0\n",
      "2019-07-28 17:06:39,036 : INFO : EPOCH 5 - PROGRESS: at 85.34% examples, 313587 words/s, in_qsize 7, out_qsize 0\n",
      "2019-07-28 17:06:40,036 : INFO : EPOCH 5 - PROGRESS: at 87.80% examples, 313610 words/s, in_qsize 7, out_qsize 0\n",
      "2019-07-28 17:06:41,067 : INFO : EPOCH 5 - PROGRESS: at 90.37% examples, 313765 words/s, in_qsize 7, out_qsize 0\n",
      "2019-07-28 17:06:42,115 : INFO : EPOCH 5 - PROGRESS: at 93.01% examples, 313966 words/s, in_qsize 7, out_qsize 0\n",
      "2019-07-28 17:06:43,117 : INFO : EPOCH 5 - PROGRESS: at 95.47% examples, 313782 words/s, in_qsize 7, out_qsize 0\n",
      "2019-07-28 17:06:44,144 : INFO : EPOCH 5 - PROGRESS: at 97.89% examples, 313599 words/s, in_qsize 7, out_qsize 0\n",
      "2019-07-28 17:06:44,919 : INFO : worker thread finished; awaiting finish of 3 more threads\n",
      "2019-07-28 17:06:44,952 : INFO : worker thread finished; awaiting finish of 2 more threads\n",
      "2019-07-28 17:06:44,964 : INFO : worker thread finished; awaiting finish of 1 more threads\n",
      "2019-07-28 17:06:44,981 : INFO : worker thread finished; awaiting finish of 0 more threads\n",
      "2019-07-28 17:06:44,982 : INFO : EPOCH - 5 : training on 17798082 raw words (12750859 effective words) took 40.6s, 313809 effective words/s\n",
      "2019-07-28 17:06:44,984 : INFO : training on a 88990410 raw words (63749876 effective words) took 207.0s, 307976 effective words/s\n"
     ]
    }
   ],
   "source": [
    "print('Training model...')\n",
    "model = word2vec.Word2Vec(sentences,\n",
    "                          workers=num_workers,\n",
    "                          size=num_features,\n",
    "                          min_count=min_word_count,\n",
    "                          window=context,\n",
    "                          sample=downsampling)"
   ]
  },
  {
   "cell_type": "code",
   "execution_count": 14,
   "metadata": {
    "colab": {
     "base_uri": "https://localhost:8080/",
     "height": 34
    },
    "colab_type": "code",
    "id": "R8YaB_1F48uI",
    "outputId": "7b50fc81-efdc-49af-a5da-fb77d6b1a1bc"
   },
   "outputs": [
    {
     "name": "stderr",
     "output_type": "stream",
     "text": [
      "2019-07-28 17:06:44,998 : INFO : precomputing L2-norms of word weight vectors\n"
     ]
    }
   ],
   "source": [
    "# Keep only normalized vectors. Model is read-only after replacing (no training)\n",
    "\n",
    "model.init_sims(replace=True)"
   ]
  },
  {
   "cell_type": "code",
   "execution_count": 15,
   "metadata": {
    "colab": {
     "base_uri": "https://localhost:8080/",
     "height": 139
    },
    "colab_type": "code",
    "id": "fWjjEJsD5FDt",
    "outputId": "47da7c3c-4658-4e70-8193-f0dae2b6a205"
   },
   "outputs": [
    {
     "name": "stderr",
     "output_type": "stream",
     "text": [
      "2019-07-28 17:06:45,159 : INFO : saving Word2Vec object under 300features_40minwords_10context, separately None\n",
      "2019-07-28 17:06:45,168 : INFO : not storing attribute vectors_norm\n",
      "2019-07-28 17:06:45,177 : INFO : not storing attribute cum_table\n",
      "/usr/local/lib/python3.6/dist-packages/smart_open/smart_open_lib.py:398: UserWarning: This function is deprecated, use smart_open.open instead. See the migration notes for details: https://github.com/RaRe-Technologies/smart_open/blob/master/README.rst#migrating-to-the-new-open-function\n",
      "  'See the migration notes for details: %s' % _MIGRATION_NOTES_URL\n",
      "2019-07-28 17:06:45,863 : INFO : saved 300features_40minwords_10context\n"
     ]
    }
   ],
   "source": [
    "model_name = '300features_40minwords_10context'\n",
    "model.save(model_name)"
   ]
  },
  {
   "cell_type": "code",
   "execution_count": 16,
   "metadata": {
    "colab": {
     "base_uri": "https://localhost:8080/",
     "height": 34
    },
    "colab_type": "code",
    "id": "-7TvYvdL5n56",
    "outputId": "0f0cd6cc-eb05-4b16-f228-50db022c33bf"
   },
   "outputs": [
    {
     "data": {
      "text/plain": [
       "'kitchen'"
      ]
     },
     "execution_count": 16,
     "metadata": {
      "tags": []
     },
     "output_type": "execute_result"
    }
   ],
   "source": [
    "# Return most far word \n",
    "warnings.filterwarnings('ignore') # ignore future warnings\n",
    "model.wv.doesnt_match('man woman child kitchen'.split())"
   ]
  },
  {
   "cell_type": "code",
   "execution_count": 17,
   "metadata": {
    "colab": {
     "base_uri": "https://localhost:8080/",
     "height": 34
    },
    "colab_type": "code",
    "id": "tUUxDHVE70sa",
    "outputId": "99915e21-8904-46bd-ac9f-695547f5c5eb"
   },
   "outputs": [
    {
     "data": {
      "text/plain": [
       "'berlin'"
      ]
     },
     "execution_count": 17,
     "metadata": {
      "tags": []
     },
     "output_type": "execute_result"
    }
   ],
   "source": [
    "model.wv.doesnt_match('france england germany berlin'.split())"
   ]
  },
  {
   "cell_type": "code",
   "execution_count": 18,
   "metadata": {
    "colab": {
     "base_uri": "https://localhost:8080/",
     "height": 187
    },
    "colab_type": "code",
    "id": "zFRlWbaH73hO",
    "outputId": "aad62da4-730a-4a81-ebe1-250e2344cbbf"
   },
   "outputs": [
    {
     "data": {
      "text/plain": [
       "[('storyline', 0.8043239116668701),\n",
       " ('story', 0.6558642387390137),\n",
       " ('plots', 0.6404682397842407),\n",
       " ('premise', 0.6055775880813599),\n",
       " ('narrative', 0.5908520221710205),\n",
       " ('script', 0.5694664716720581),\n",
       " ('plotline', 0.5232638120651245),\n",
       " ('dialog', 0.5013354420661926),\n",
       " ('continuity', 0.49053072929382324),\n",
       " ('scenario', 0.48579367995262146)]"
      ]
     },
     "execution_count": 18,
     "metadata": {
      "tags": []
     },
     "output_type": "execute_result"
    }
   ],
   "source": [
    "# Return most similar words\n",
    "model.wv.most_similar('plot')"
   ]
  },
  {
   "cell_type": "code",
   "execution_count": 19,
   "metadata": {
    "colab": {
     "base_uri": "https://localhost:8080/",
     "height": 136
    },
    "colab_type": "code",
    "id": "NN4UB7qk75z-",
    "outputId": "69e6a93c-49a4-409f-afb1-8a39e8b04650"
   },
   "outputs": [
    {
     "name": "stderr",
     "output_type": "stream",
     "text": [
      "2019-07-28 17:06:48,560 : INFO : loading Word2Vec object from 300features_40minwords_10context\n",
      "2019-07-28 17:06:48,933 : INFO : loading wv recursively from 300features_40minwords_10context.wv.* with mmap=None\n",
      "2019-07-28 17:06:48,934 : INFO : setting ignored attribute vectors_norm to None\n",
      "2019-07-28 17:06:48,935 : INFO : loading vocabulary recursively from 300features_40minwords_10context.vocabulary.* with mmap=None\n",
      "2019-07-28 17:06:48,942 : INFO : loading trainables recursively from 300features_40minwords_10context.trainables.* with mmap=None\n",
      "2019-07-28 17:06:48,945 : INFO : setting ignored attribute cum_table to None\n",
      "2019-07-28 17:06:48,947 : INFO : loaded 300features_40minwords_10context\n"
     ]
    }
   ],
   "source": [
    "model = Word2Vec.load('300features_40minwords_10context')"
   ]
  },
  {
   "cell_type": "code",
   "execution_count": 20,
   "metadata": {
    "colab": {
     "base_uri": "https://localhost:8080/",
     "height": 34
    },
    "colab_type": "code",
    "id": "5414TRgZ8j7B",
    "outputId": "19444c7d-01e1-41a7-e784-ff75ee8ac149"
   },
   "outputs": [
    {
     "name": "stdout",
     "output_type": "stream",
     "text": [
      "<class 'gensim.models.keyedvectors.Word2VecKeyedVectors'>\n"
     ]
    }
   ],
   "source": [
    "# Mapping word-numpy array \n",
    "print(type(model.wv))"
   ]
  },
  {
   "cell_type": "code",
   "execution_count": 21,
   "metadata": {
    "colab": {
     "base_uri": "https://localhost:8080/",
     "height": 51
    },
    "colab_type": "code",
    "id": "C54QG3EA8lmX",
    "outputId": "6c0193e4-aa78-4882-db3e-e13e3a977aa4"
   },
   "outputs": [
    {
     "name": "stdout",
     "output_type": "stream",
     "text": [
      "<class 'numpy.ndarray'>\n",
      "(16490, 300)\n"
     ]
    }
   ],
   "source": [
    "# Feature vector for every word in vocabulary\n",
    "print(type(model.wv.vectors))\n",
    "print(model.wv.vectors.shape)\n",
    "#model.wv['cat'] # fearure vector for concrete word"
   ]
  },
  {
   "cell_type": "code",
   "execution_count": 22,
   "metadata": {
    "colab": {
     "base_uri": "https://localhost:8080/",
     "height": 51
    },
    "colab_type": "code",
    "id": "AJHopDHW8rxU",
    "outputId": "33a77c07-d29a-41db-a0b9-7380597d2dba"
   },
   "outputs": [
    {
     "name": "stdout",
     "output_type": "stream",
     "text": [
      "['the', 'and', 'a', 'of', 'to', 'is', 'it', 'in', 'i', 'this']\n",
      "Number of words in vocabulary: 16490\n"
     ]
    }
   ],
   "source": [
    "# List with words in vocabulary\n",
    "print(model.wv.index2word[:10])\n",
    "print('Number of words in vocabulary:', len(model.wv.index2word))"
   ]
  },
  {
   "cell_type": "code",
   "execution_count": 0,
   "metadata": {
    "colab": {},
    "colab_type": "code",
    "id": "pfqnRCMm9Fs-"
   },
   "outputs": [],
   "source": [
    "def make_feature_vector(words, model, num_features):\n",
    "    '''Average all word vectors in review'''\n",
    "  \n",
    "    feature_vector = np.zeros((num_features,), dtype='float32')\n",
    "    nwords = 0 # number of words to average\n",
    "  \n",
    "    # Convert list of vocabulary words to set\n",
    "    index2word_set = set(model.wv.index2word)\n",
    "  \n",
    "    # For all words in review\n",
    "    for word in words:\n",
    "        if word in index2word_set:\n",
    "        nwords += 1\n",
    "        # add feature vector of word to total\n",
    "        feature_vector = np.add(feature_vector, model.wv[word])\n",
    "      \n",
    "    # Get the average\n",
    "    feature_vector = np.divide(feature_vector, nwords)\n",
    "    return feature_vector"
   ]
  },
  {
   "cell_type": "code",
   "execution_count": 0,
   "metadata": {
    "colab": {},
    "colab_type": "code",
    "id": "DS-9Lve6_SXi"
   },
   "outputs": [],
   "source": [
    "def get_avg_feature_vectors(reviews, model, num_features):\n",
    "    '''Calculate average feature vector for each review'''\n",
    "    \n",
    "    counter = 0\n",
    "    review_feature_vectors = np.zeros((len(reviews), num_features), dtype='float32')\n",
    "  \n",
    "    for review in reviews:\n",
    "        if counter % 1000 == 0:\n",
    "        print('Review {0} of {1}'.format(counter, len(reviews)))\n",
    "      \n",
    "        # make average feature vectors for review\n",
    "        review_feature_vectors[counter] = make_feature_vector(review, model, num_features)\n",
    "        counter += 1\n",
    "    return review_feature_vectors"
   ]
  },
  {
   "cell_type": "code",
   "execution_count": 25,
   "metadata": {
    "colab": {
     "base_uri": "https://localhost:8080/",
     "height": 901
    },
    "colab_type": "code",
    "id": "ZL3eEn5EAkfp",
    "outputId": "f3ffc389-e7cc-44fa-e187-a326dcb38314"
   },
   "outputs": [
    {
     "name": "stdout",
     "output_type": "stream",
     "text": [
      "Creating feature vectors for train reviews...\n",
      "Review 0 of 25000\n",
      "Review 1000 of 25000\n",
      "Review 2000 of 25000\n",
      "Review 3000 of 25000\n",
      "Review 4000 of 25000\n",
      "Review 5000 of 25000\n",
      "Review 6000 of 25000\n",
      "Review 7000 of 25000\n",
      "Review 8000 of 25000\n",
      "Review 9000 of 25000\n",
      "Review 10000 of 25000\n",
      "Review 11000 of 25000\n",
      "Review 12000 of 25000\n",
      "Review 13000 of 25000\n",
      "Review 14000 of 25000\n",
      "Review 15000 of 25000\n",
      "Review 16000 of 25000\n",
      "Review 17000 of 25000\n",
      "Review 18000 of 25000\n",
      "Review 19000 of 25000\n",
      "Review 20000 of 25000\n",
      "Review 21000 of 25000\n",
      "Review 22000 of 25000\n",
      "Review 23000 of 25000\n",
      "Review 24000 of 25000\n",
      "Creating feature vectors for test reviews...\n",
      "Review 0 of 25000\n",
      "Review 1000 of 25000\n",
      "Review 2000 of 25000\n",
      "Review 3000 of 25000\n",
      "Review 4000 of 25000\n",
      "Review 5000 of 25000\n",
      "Review 6000 of 25000\n",
      "Review 7000 of 25000\n",
      "Review 8000 of 25000\n",
      "Review 9000 of 25000\n",
      "Review 10000 of 25000\n",
      "Review 11000 of 25000\n",
      "Review 12000 of 25000\n",
      "Review 13000 of 25000\n",
      "Review 14000 of 25000\n",
      "Review 15000 of 25000\n",
      "Review 16000 of 25000\n",
      "Review 17000 of 25000\n",
      "Review 18000 of 25000\n",
      "Review 19000 of 25000\n",
      "Review 20000 of 25000\n",
      "Review 21000 of 25000\n",
      "Review 22000 of 25000\n",
      "Review 23000 of 25000\n",
      "Review 24000 of 25000\n"
     ]
    }
   ],
   "source": [
    "# Calculate average feature vectors for reviews in train and test\n",
    "\n",
    "clean_train_reviews = []\n",
    "\n",
    "print('Creating feature vectors for train reviews...')\n",
    "\n",
    "for review in train['review']:\n",
    "    clean_train_reviews.append(review_to_wordlist(review, remove_stopwords=True))\n",
    "\n",
    "train_data_vectors = get_avg_feature_vectors(clean_train_reviews, model, num_features)\n",
    "\n",
    "print('Creating feature vectors for test reviews...')\n",
    "\n",
    "clean_test_reviews = []\n",
    "for review in test['review']:\n",
    "    clean_test_reviews.append(review_to_wordlist(review, remove_stopwords=True))\n",
    "    \n",
    "test_data_vectors = get_avg_feature_vectors(clean_test_reviews, model, num_features)"
   ]
  },
  {
   "cell_type": "code",
   "execution_count": 26,
   "metadata": {
    "colab": {
     "base_uri": "https://localhost:8080/",
     "height": 153
    },
    "colab_type": "code",
    "id": "AuYfiZapCBSq",
    "outputId": "fa74204c-b8bc-488b-f047-e7a7a0ba1993"
   },
   "outputs": [
    {
     "name": "stdout",
     "output_type": "stream",
     "text": [
      "Fitting a random forest to labeled training data...\n"
     ]
    },
    {
     "data": {
      "text/plain": [
       "RandomForestClassifier(bootstrap=True, class_weight=None, criterion='gini',\n",
       "                       max_depth=None, max_features='auto', max_leaf_nodes=None,\n",
       "                       min_impurity_decrease=0.0, min_impurity_split=None,\n",
       "                       min_samples_leaf=1, min_samples_split=2,\n",
       "                       min_weight_fraction_leaf=0.0, n_estimators=100,\n",
       "                       n_jobs=None, oob_score=False, random_state=None,\n",
       "                       verbose=0, warm_start=False)"
      ]
     },
     "execution_count": 26,
     "metadata": {
      "tags": []
     },
     "output_type": "execute_result"
    }
   ],
   "source": [
    "forest = RandomForestClassifier(n_estimators = 100)\n",
    "print('Fitting a random forest to labeled training data...')\n",
    "forest.fit(train_data_vectors, train['sentiment'])"
   ]
  },
  {
   "cell_type": "code",
   "execution_count": 0,
   "metadata": {
    "colab": {},
    "colab_type": "code",
    "id": "Au4k5IyIM-br"
   },
   "outputs": [],
   "source": [
    "result = forest.predict(test_data_vectors)"
   ]
  },
  {
   "cell_type": "code",
   "execution_count": 0,
   "metadata": {
    "colab": {},
    "colab_type": "code",
    "id": "R9QU7wjANKI1"
   },
   "outputs": [],
   "source": [
    "output = pd.DataFrame({'id': test['id'], 'sentiment': result})\n",
    "output.to_csv('Word2Vec_AverageVectors.csv', index=False, quoting=3) # 0.83672 roc auc"
   ]
  },
  {
   "cell_type": "markdown",
   "metadata": {
    "colab_type": "text",
    "id": "VCjpdHpHW60g"
   },
   "source": [
    "### Grouping vectors in clusters"
   ]
  },
  {
   "cell_type": "code",
   "execution_count": 0,
   "metadata": {
    "colab": {},
    "colab_type": "code",
    "id": "I7E-LWL7N-ao"
   },
   "outputs": [],
   "source": [
    "start = time.time()\n",
    "word_vectors = model.wv.vectors # vectors for words in vocabulary\n",
    "num_clusters = word_vectors.shape[0] // 5 # make (1/5 vocabulary size)) clusters"
   ]
  },
  {
   "cell_type": "code",
   "execution_count": 0,
   "metadata": {
    "colab": {},
    "colab_type": "code",
    "id": "GUHPUgq5XlAD"
   },
   "outputs": [],
   "source": [
    "kmeans = KMeans(n_clusters=num_clusters)\n",
    "idx = kmeans.fit_predict(word_vectors) # predict cluster centroid index for each word in vocabulary"
   ]
  },
  {
   "cell_type": "code",
   "execution_count": 31,
   "metadata": {
    "colab": {
     "base_uri": "https://localhost:8080/",
     "height": 85
    },
    "colab_type": "code",
    "id": "ljsjpuufZoj3",
    "outputId": "a0d210ad-1d78-4d6e-cfa7-56b46a01dc63"
   },
   "outputs": [
    {
     "name": "stdout",
     "output_type": "stream",
     "text": [
      "Time for k-Means clustering with 3298 clusters: 1680.4199352264404 seconds\n",
      "KMeans(algorithm='auto', copy_x=True, init='k-means++', max_iter=300,\n",
      "       n_clusters=3298, n_init=10, n_jobs=None, precompute_distances='auto',\n",
      "       random_state=None, tol=0.0001, verbose=0)\n"
     ]
    }
   ],
   "source": [
    "end = time.time()\n",
    "elapsed = end - start\n",
    "print('Time for k-Means clustering with {0} clusters: {1} seconds'.format(num_clusters,\n",
    "                                                                         elapsed))\n",
    "print(kmeans)"
   ]
  },
  {
   "cell_type": "code",
   "execution_count": 0,
   "metadata": {
    "colab": {},
    "colab_type": "code",
    "id": "GvENJ-9Qatj5"
   },
   "outputs": [],
   "source": [
    "# Create a dictionary with key -> word from vocabulary and value -> number of cluster centroid\n",
    "\n",
    "word_centroid_map = dict(zip(model.wv.index2word, idx))"
   ]
  },
  {
   "cell_type": "code",
   "execution_count": 33,
   "metadata": {
    "colab": {
     "base_uri": "https://localhost:8080/",
     "height": 377
    },
    "colab_type": "code",
    "id": "mZuXKS5njU8O",
    "outputId": "3c8380af-37d1-43f7-b146-26ae2400178b"
   },
   "outputs": [
    {
     "name": "stdout",
     "output_type": "stream",
     "text": [
      "Cluster # 0\n",
      "['james', 'sir', 'ian', 'craig', 'ned', 'olivier', 'liam', 'everett', 'reliable', 'sterling', 'rupert', 'scrooge', 'laurence', 'laughton', 'granger', 'alain', 'rea', 'jackman', 'oates', 'fishburne', 'holm', 'mcshane']\n",
      "Cluster # 1\n",
      "['industrial', 'traditions', 'freely', 'customs']\n",
      "Cluster # 2\n",
      "['horse', 'bike']\n",
      "Cluster # 3\n",
      "['achieves', 'avoids', 'entertains', 'defines', 'renders', 'ensures', 'elevates', 'accomplishes', 'provokes']\n",
      "Cluster # 4\n",
      "['ahem', 'decrepit']\n",
      "Cluster # 5\n",
      "['casino', 'mines', 'ivory', 'rightful']\n",
      "Cluster # 6\n",
      "['bart', 'kolchak', 'joss', 'crockett', 'fatty']\n",
      "Cluster # 7\n",
      "['dropping', 'vomiting']\n",
      "Cluster # 8\n",
      "['steam', 'pi', 'stroll', 'crawls', 'slammed', 'slides', 'bounces']\n",
      "Cluster # 9\n",
      "['sweet', 'gentle', 'passionate', 'tender']\n"
     ]
    }
   ],
   "source": [
    "# Explore the first 10 clusters\n",
    "\n",
    "for cluster in range(10):\n",
    "    print('Cluster #', cluster)\n",
    "  \n",
    "    words = []\n",
    "    for cluster_number in range(len(word_centroid_map.values())):\n",
    "        if list(word_centroid_map.values())[cluster_number] == cluster:\n",
    "        words.append(list(word_centroid_map.keys())[cluster_number])\n",
    "    print(words)"
   ]
  },
  {
   "cell_type": "code",
   "execution_count": 0,
   "metadata": {
    "colab": {},
    "colab_type": "code",
    "id": "xFJndBVgkqQ8"
   },
   "outputs": [],
   "source": [
    "# Create bags of centroids\n",
    "\n",
    "def create_bag_of_centroids(wordlist, word_centroid_map):\n",
    "    bag_of_centroids = np.zeros((num_clusters,), dtype='float32') # (3298,)\n",
    "  \n",
    "    for word in wordlist:\n",
    "        if word in word_centroid_map:\n",
    "        index = word_centroid_map[word]\n",
    "        bag_of_centroids[index] += 1\n",
    "      \n",
    "    return bag_of_centroids # array (num_clusters,)  "
   ]
  },
  {
   "cell_type": "code",
   "execution_count": 0,
   "metadata": {
    "colab": {},
    "colab_type": "code",
    "id": "_A3lFe7tsItS"
   },
   "outputs": [],
   "source": [
    "# Bags of centroids for train and test set\n",
    "\n",
    "train_centroids = np.zeros((train['review'].shape[0], num_clusters), dtype='float32')\n",
    "counter = 0\n",
    "for review in clean_train_reviews:\n",
    "    train_centroids[counter] = create_bag_of_centroids(review, word_centroid_map)\n",
    "    counter += 1\n",
    "\n",
    "test_centroids = np.zeros((test['review'].shape[0], num_clusters), dtype='float32')\n",
    "counter = 0\n",
    "for review in clean_test_reviews:\n",
    "    test_centroids[counter] = create_bag_of_centroids(review, word_centroid_map)\n",
    "    counter += 1"
   ]
  },
  {
   "cell_type": "code",
   "execution_count": 36,
   "metadata": {
    "colab": {
     "base_uri": "https://localhost:8080/",
     "height": 34
    },
    "colab_type": "code",
    "id": "d-qsgsYGv12N",
    "outputId": "4fd20f61-1c88-40b1-9550-f0968d033f00"
   },
   "outputs": [
    {
     "name": "stdout",
     "output_type": "stream",
     "text": [
      "Fitting a random forest to labeled training data...\n"
     ]
    }
   ],
   "source": [
    "forest = RandomForestClassifier(n_estimators = 100)\n",
    "\n",
    "print('Fitting a random forest to labeled training data...')\n",
    "forest = forest.fit(train_centroids, train['sentiment'])\n",
    "result = forest.predict(test_centroids)"
   ]
  },
  {
   "cell_type": "code",
   "execution_count": 0,
   "metadata": {
    "colab": {},
    "colab_type": "code",
    "id": "L3HsOi77wF8P"
   },
   "outputs": [],
   "source": [
    "output = pd.DataFrame({'id': test['id'], 'sentiment': result})\n",
    "output.to_csv('BagOfCentroids.csv', index=False, quoting=3) # 0.84496 roc auc"
   ]
  }
 ],
 "metadata": {
  "colab": {
   "name": "Word2Vec examples.ipynb",
   "provenance": [],
   "version": "0.3.2"
  },
  "kernelspec": {
   "display_name": "Python 3",
   "language": "python",
   "name": "python3"
  },
  "language_info": {
   "codemirror_mode": {
    "name": "ipython",
    "version": 3
   },
   "file_extension": ".py",
   "mimetype": "text/x-python",
   "name": "python",
   "nbconvert_exporter": "python",
   "pygments_lexer": "ipython3",
   "version": "3.6.8"
  }
 },
 "nbformat": 4,
 "nbformat_minor": 1
}
