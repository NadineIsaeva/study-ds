{
 "cells": [
  {
   "cell_type": "markdown",
   "metadata": {},
   "source": [
    "### Univariate Statistics:\n",
    "+ consider each feature individually\n",
    "+ discard feature in case it is predictive in combination with another feature\n",
    "+ don't require building a model --> fast to compute\n",
    "\n",
    "\n",
    "**For regression**: f_regression, mutual_info_regression.\n",
    "\n",
    "**For classification**: chi2, f_classif, mutual_info_classif"
   ]
  },
  {
   "cell_type": "code",
   "execution_count": 1,
   "metadata": {},
   "outputs": [],
   "source": [
    "from sklearn.datasets import load_breast_cancer\n",
    "from sklearn.feature_selection import SelectPercentile\n",
    "from sklearn.model_selection import train_test_split\n",
    "from sklearn.linear_model import LogisticRegression\n",
    "import numpy as np\n",
    "import matplotlib.pyplot as plt"
   ]
  },
  {
   "cell_type": "code",
   "execution_count": 2,
   "metadata": {},
   "outputs": [
    {
     "name": "stdout",
     "output_type": "stream",
     "text": [
      "Noise features shape: (569, 50)\n",
      "Original features shape: (569, 30)\n",
      "\n",
      "With noise X_train shape: (284, 80)\n",
      "Selected X_train shape: (284, 40)\n",
      "\n",
      "{'percentile': 50, 'score_func': <function f_classif at 0x7f81334f1d90>}\n"
     ]
    }
   ],
   "source": [
    "cancer = load_breast_cancer()\n",
    "\n",
    "# Deterministic random numbers\n",
    "rng = np.random.RandomState(42)\n",
    "noise = rng.normal(size=(len(cancer.data), 50))\n",
    "print('Noise features shape: {}'.format(noise.shape))\n",
    "print('Original features shape: {}\\n'.format(cancer.data.shape))\n",
    "X_w_noise = np.hstack([cancer.data, noise])\n",
    "\n",
    "X_train, X_test, y_train, y_test = train_test_split(X_w_noise, cancer.target,\n",
    "                                                    random_state=42, test_size=0.5)\n",
    "\n",
    "# Select 50% of features\n",
    "select = SelectPercentile(percentile=50)\n",
    "select.fit(X_train, y_train)\n",
    "X_train_selected = select.transform(X_train)\n",
    "print('With noise X_train shape: {}'.format(X_train.shape))\n",
    "print('Selected X_train shape: {}\\n'.format(X_train_selected.shape))\n",
    "print(select.get_params())"
   ]
  },
  {
   "cell_type": "code",
   "execution_count": 3,
   "metadata": {},
   "outputs": [
    {
     "name": "stdout",
     "output_type": "stream",
     "text": [
      "[ True  True  True  True  True  True  True  True  True  True  True False\n",
      "  True  True False  True  True  True False False  True  True  True  True\n",
      "  True  True  True  True  True  True False False False  True False  True\n",
      " False False False False False False False  True False False False  True\n",
      " False False False False False False  True False False False  True False\n",
      " False False  True False False False  True  True  True False False False\n",
      "  True  True False False False False  True  True]\n"
     ]
    },
    {
     "data": {
      "text/plain": [
       "Text(0.5, 0, 'Index')"
      ]
     },
     "execution_count": 3,
     "metadata": {},
     "output_type": "execute_result"
    },
    {
     "data": {
      "image/png": "[encoded data removed]",
      "text/plain": [
       "<Figure size 1152x144 with 1 Axes>"
      ]
     },
     "metadata": {
      "needs_background": "light"
     },
     "output_type": "display_data"
    }
   ],
   "source": [
    "# Find out selected features\n",
    "mask = select.get_support()\n",
    "print(mask)\n",
    "# Black - true, white - false\n",
    "plt.matshow(mask.reshape(1, -1), cmap='gray_r')\n",
    "plt.xlabel('Index')\n",
    "\n",
    "# Not perfect recovery of original features"
   ]
  },
  {
   "cell_type": "code",
   "execution_count": 4,
   "metadata": {},
   "outputs": [
    {
     "name": "stdout",
     "output_type": "stream",
     "text": [
      "Score with noise features: 0.961\n",
      "Score with selected 40 feat.: 0.965\n"
     ]
    }
   ],
   "source": [
    "X_test_selected = select.transform(X_test)\n",
    "lr = LogisticRegression(solver='lbfgs', max_iter=100000)\n",
    "lr.fit(X_train, y_train)\n",
    "print('Score with noise features: {:.3f}'.format(lr.score(X_test, y_test)))\n",
    "\n",
    "lr.fit(X_train_selected, y_train)\n",
    "print('Score with selected 40 feat.: {:.3f}'.format(lr.score(X_test_selected, y_test)))\n",
    "# Score improved"
   ]
  },
  {
   "cell_type": "markdown",
   "metadata": {},
   "source": [
    "### Model-Based Feature Selection\n",
    "\n",
    "Intuition: keep the most important features found by supervised models.\n",
    "1. Tree-based -->  feature_importances_\n",
    "2. Linear models --> coef_"
   ]
  },
  {
   "cell_type": "code",
   "execution_count": 5,
   "metadata": {},
   "outputs": [],
   "source": [
    "from sklearn.feature_selection import SelectFromModel\n",
    "from sklearn.ensemble import RandomForestClassifier"
   ]
  },
  {
   "cell_type": "code",
   "execution_count": 6,
   "metadata": {},
   "outputs": [
    {
     "name": "stdout",
     "output_type": "stream",
     "text": [
      "Before selection: (284, 80)\n",
      "After selection: (284, 40)\n",
      "\n",
      "{'estimator__bootstrap': True, 'estimator__class_weight': None, 'estimator__criterion': 'gini', 'estimator__max_depth': None, 'estimator__max_features': 'auto', 'estimator__max_leaf_nodes': None, 'estimator__min_impurity_decrease': 0.0, 'estimator__min_impurity_split': None, 'estimator__min_samples_leaf': 1, 'estimator__min_samples_split': 2, 'estimator__min_weight_fraction_leaf': 0.0, 'estimator__n_estimators': 100, 'estimator__n_jobs': None, 'estimator__oob_score': False, 'estimator__random_state': 42, 'estimator__verbose': 0, 'estimator__warm_start': False, 'estimator': RandomForestClassifier(bootstrap=True, class_weight=None, criterion='gini',\n",
      "                       max_depth=None, max_features='auto', max_leaf_nodes=None,\n",
      "                       min_impurity_decrease=0.0, min_impurity_split=None,\n",
      "                       min_samples_leaf=1, min_samples_split=2,\n",
      "                       min_weight_fraction_leaf=0.0, n_estimators=100,\n",
      "                       n_jobs=None, oob_score=False, random_state=42, verbose=0,\n",
      "                       warm_start=False), 'max_features': None, 'norm_order': 1, 'prefit': False, 'threshold': 'median'}\n"
     ]
    }
   ],
   "source": [
    "# Select all features that have importances greater than threshold\n",
    "# RF model to compute feature importances\n",
    "# Median threshold - select half of features\n",
    "\n",
    "select = SelectFromModel(RandomForestClassifier(n_estimators=100, random_state=42),\n",
    "                         threshold='median')\n",
    "\n",
    "select.fit(X_train, y_train) # train\n",
    "X_train_sel = select.transform(X_train) # select\n",
    "print('Before selection: {}'.format(X_train.shape))\n",
    "print('After selection: {}\\n'.format(X_train_sel.shape))\n",
    "print(select.get_params())"
   ]
  },
  {
   "cell_type": "code",
   "execution_count": 7,
   "metadata": {},
   "outputs": [
    {
     "data": {
      "text/plain": [
       "Text(0.5, 0, 'Index')"
      ]
     },
     "execution_count": 7,
     "metadata": {},
     "output_type": "execute_result"
    },
    {
     "data": {
      "image/png": "[encoded data removed]",
      "text/plain": [
       "<Figure size 1152x144 with 1 Axes>"
      ]
     },
     "metadata": {
      "needs_background": "light"
     },
     "output_type": "display_data"
    }
   ],
   "source": [
    "# Find out selected features\n",
    "\n",
    "mask = select.get_support()\n",
    "plt.matshow(mask.reshape(1, -1), cmap='gray_r')\n",
    "plt.xlabel('Index')\n",
    "\n",
    "# More original features selected!"
   ]
  },
  {
   "cell_type": "code",
   "execution_count": 8,
   "metadata": {},
   "outputs": [
    {
     "name": "stdout",
     "output_type": "stream",
     "text": [
      "Score before selection: 0.940\n",
      "Score after selection: 0.958\n"
     ]
    }
   ],
   "source": [
    "# Check performance\n",
    "\n",
    "X_test_sel = select.transform(X_test) # select\n",
    "print('Score before selection: {:.3f}'.format(LogisticRegression(solver='liblinear',\n",
    "                                                                max_iter=100000).fit(X_train,\n",
    "                                                                                     y_train).score(X_test,\n",
    "                                                                                                    y_test)))\n",
    "print('Score after selection: {:.3f}'.format(LogisticRegression(solver='liblinear',\n",
    "                                                                max_iter=100000).fit(X_train_sel,\n",
    "                                                                                     y_train).score(X_test_sel,\n",
    "                                                                                                    y_test)))\n",
    "# Accuracy improved"
   ]
  },
  {
   "cell_type": "code",
   "execution_count": 9,
   "metadata": {},
   "outputs": [
    {
     "name": "stdout",
     "output_type": "stream",
     "text": [
      "Solver newton-cg, accuracy before selection 0.961\n",
      "Solver newton-cg, accuracy after selection 0.951\n",
      "\n",
      "Solver lbfgs, accuracy before selection 0.961\n",
      "Solver lbfgs, accuracy after selection 0.951\n",
      "\n",
      "Solver liblinear, accuracy before selection 0.940\n",
      "Solver liblinear, accuracy after selection 0.958\n",
      "\n",
      "Solver sag, accuracy before selection 0.944\n",
      "Solver sag, accuracy after selection 0.944\n",
      "\n",
      "Solver saga, accuracy before selection 0.944\n",
      "Solver saga, accuracy after selection 0.944\n",
      "\n"
     ]
    }
   ],
   "source": [
    "for solver in ['newton-cg', 'lbfgs', 'liblinear', 'sag', 'saga']:\n",
    "    lr = LogisticRegression(solver=solver, max_iter=100000)\n",
    "    lr.fit(X_train, y_train)\n",
    "    print('Solver {}, accuracy before selection {:.3f}'.format(solver, lr.score(X_test, y_test)))\n",
    "    lr.fit(X_train_sel, y_train)\n",
    "    print('Solver {}, accuracy after selection {:.3f}\\n'.format(solver, lr.score(X_test_sel, y_test)))"
   ]
  },
  {
   "cell_type": "markdown",
   "metadata": {},
   "source": [
    "### Iterative Feature Selection\n",
    "\n",
    "1. Start with no features and add features one by one until stopping criterion is reached.\n",
    "2. Start with all features and remove features one by one until some stopping criterion is reached."
   ]
  },
  {
   "cell_type": "code",
   "execution_count": 10,
   "metadata": {},
   "outputs": [],
   "source": [
    "from sklearn.feature_selection import RFE, RFECV"
   ]
  },
  {
   "cell_type": "code",
   "execution_count": 11,
   "metadata": {},
   "outputs": [
    {
     "name": "stdout",
     "output_type": "stream",
     "text": [
      "Fitting estimator with 80 features.\n",
      "Fitting estimator with 79 features.\n",
      "Fitting estimator with 78 features.\n",
      "Fitting estimator with 77 features.\n",
      "Fitting estimator with 76 features.\n",
      "Fitting estimator with 75 features.\n",
      "Fitting estimator with 74 features.\n",
      "Fitting estimator with 73 features.\n",
      "Fitting estimator with 72 features.\n",
      "Fitting estimator with 71 features.\n",
      "Fitting estimator with 70 features.\n",
      "Fitting estimator with 69 features.\n",
      "Fitting estimator with 68 features.\n",
      "Fitting estimator with 67 features.\n",
      "Fitting estimator with 66 features.\n",
      "Fitting estimator with 65 features.\n",
      "Fitting estimator with 64 features.\n",
      "Fitting estimator with 63 features.\n",
      "Fitting estimator with 62 features.\n",
      "Fitting estimator with 61 features.\n",
      "Fitting estimator with 60 features.\n",
      "Fitting estimator with 59 features.\n",
      "Fitting estimator with 58 features.\n",
      "Fitting estimator with 57 features.\n",
      "Fitting estimator with 56 features.\n",
      "Fitting estimator with 55 features.\n",
      "Fitting estimator with 54 features.\n",
      "Fitting estimator with 53 features.\n",
      "Fitting estimator with 52 features.\n",
      "Fitting estimator with 51 features.\n",
      "Fitting estimator with 50 features.\n",
      "Fitting estimator with 49 features.\n",
      "Fitting estimator with 48 features.\n",
      "Fitting estimator with 47 features.\n",
      "Fitting estimator with 46 features.\n",
      "Fitting estimator with 45 features.\n",
      "Fitting estimator with 44 features.\n",
      "Fitting estimator with 43 features.\n",
      "Fitting estimator with 42 features.\n",
      "Fitting estimator with 41 features.\n"
     ]
    },
    {
     "data": {
      "text/plain": [
       "Text(0.5, 0, 'Index')"
      ]
     },
     "execution_count": 11,
     "metadata": {},
     "output_type": "execute_result"
    },
    {
     "data": {
      "image/png": "[encoded data removed]",
      "text/plain": [
       "<Figure size 1152x144 with 1 Axes>"
      ]
     },
     "metadata": {
      "needs_background": "light"
     },
     "output_type": "display_data"
    }
   ],
   "source": [
    "select = RFE(RandomForestClassifier(n_estimators=100, random_state=42), n_features_to_select=40, verbose=8)\n",
    "\n",
    "select.fit(X_train, y_train)\n",
    "\n",
    "mask = select.get_support()\n",
    "plt.matshow(mask.reshape(1, -1), cmap='gray_r')\n",
    "plt.xlabel('Index')"
   ]
  },
  {
   "cell_type": "code",
   "execution_count": 12,
   "metadata": {},
   "outputs": [
    {
     "name": "stdout",
     "output_type": "stream",
     "text": [
      "Test score: 0.958\n"
     ]
    }
   ],
   "source": [
    "X_train_rfe = select.transform(X_train)\n",
    "X_test_rfe = select.transform(X_test)\n",
    "score = LogisticRegression(solver='lbfgs', max_iter=100000).fit(X_train_rfe, y_train).score(X_test_rfe, y_test)\n",
    "print('Test score: {:.3f}'.format(score))"
   ]
  }
 ],
 "metadata": {
  "kernelspec": {
   "display_name": "Python 3",
   "language": "python",
   "name": "python3"
  },
  "language_info": {
   "codemirror_mode": {
    "name": "ipython",
    "version": 3
   },
   "file_extension": ".py",
   "mimetype": "text/x-python",
   "name": "python",
   "nbconvert_exporter": "python",
   "pygments_lexer": "ipython3",
   "version": "3.6.8"
  }
 },
 "nbformat": 4,
 "nbformat_minor": 2
}
