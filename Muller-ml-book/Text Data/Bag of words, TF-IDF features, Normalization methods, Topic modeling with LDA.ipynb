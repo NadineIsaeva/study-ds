{
 "cells": [
  {
   "cell_type": "code",
   "execution_count": 2,
   "metadata": {},
   "outputs": [],
   "source": [
    "import numpy as np\n",
    "import mglearn\n",
    "import matplotlib.pyplot as plt\n",
    "from sklearn.datasets import load_files\n",
    "from sklearn.feature_extraction.text import CountVectorizer, ENGLISH_STOP_WORDS, TfidfVectorizer\n",
    "from sklearn.model_selection import cross_val_score, GridSearchCV\n",
    "from sklearn.linear_model import LogisticRegression\n",
    "from sklearn.pipeline import make_pipeline"
   ]
  },
  {
   "cell_type": "code",
   "execution_count": 3,
   "metadata": {},
   "outputs": [],
   "source": [
    "# http://ai.stanford.edu/~amaas/data/sentiment/\n",
    "reviews_train = load_files('aclImdb/train')\n",
    "reviews_test = load_files('aclImdb/test')"
   ]
  },
  {
   "cell_type": "code",
   "execution_count": 4,
   "metadata": {},
   "outputs": [
    {
     "name": "stdout",
     "output_type": "stream",
     "text": [
      "<class 'list'>\n",
      "25000\n",
      "b'Words can\\'t describe how bad this movie is. I can\\'t explain it by writing only. You have too see it for yourself to get at grip of how horrible a movie really can be. Not that I recommend you to do that. There are so many clich\\xc3\\xa9s, mistakes (and all other negative things you can imagine) here that will just make you cry. To start with the technical first, there are a LOT of mistakes regarding the airplane. I won\\'t list them here, but just mention the coloring of the plane. They didn\\'t even manage to show an airliner in the colors of a fictional airline, but instead used a 747 painted in the original Boeing livery. Very bad. The plot is stupid and has been done many times before, only much, much better. There are so many ridiculous moments here that i lost count of it really early. Also, I was on the bad guys\\' side all the time in the movie, because the good guys were so stupid. \"Executive Decision\" should without a doubt be you\\'re choice over this one, even the \"Turbulence\"-movies are better. In fact, every other movie in the world is better than this one.'\n"
     ]
    }
   ],
   "source": [
    "text_train, y_train = reviews_train.data, reviews_train.target\n",
    "print(type(text_train))\n",
    "print(len(text_train))\n",
    "print(text_train[1])"
   ]
  },
  {
   "cell_type": "code",
   "execution_count": 5,
   "metadata": {},
   "outputs": [
    {
     "name": "stdout",
     "output_type": "stream",
     "text": [
      "Number of pos/neg reviews: [12500 12500]\n"
     ]
    }
   ],
   "source": [
    "text_train = [doc.replace(b'<br />', b' ') for doc in text_train]\n",
    "print('Number of pos/neg reviews: {}'.format(np.bincount(y_train)))\n",
    "# Balanced dataset"
   ]
  },
  {
   "cell_type": "code",
   "execution_count": 6,
   "metadata": {},
   "outputs": [
    {
     "name": "stdout",
     "output_type": "stream",
     "text": [
      "25000\n",
      "Number of pos/neg reviews (test): [12500 12500]\n",
      "b'I don\\'t know how this movie has received so many positive comments. One can call it \"artistic\" and \"beautifully filmed\", but those things don\\'t make up for the empty plot that was filled with sexual innuendos. I wish I had not wasted my time to watch this movie. Rather than being biographical, it was a poor excuse for promoting strange and lewd behavior. It was just another Hollywood attempt to convince us that that kind of life is normal and OK. From the very beginning I asked my self what was the point of this movie,and I continued watching, hoping that it would change and was quite disappointed that it continued in the same vein. I am so glad I did not spend the money to see this in a theater!'\n"
     ]
    }
   ],
   "source": [
    "text_test, y_test = reviews_test.data, reviews_test.target\n",
    "print(len(text_test))\n",
    "print('Number of pos/neg reviews (test): {}'.format(np.bincount(y_test)))\n",
    "print(text_test[1])\n",
    "text_test = [doc.replace(b'<br />', b' ') for doc in text_test]"
   ]
  },
  {
   "cell_type": "markdown",
   "metadata": {},
   "source": [
    "**Bag of words** - representation strategy, discards structure in text.\n",
    "Count how often each word appears in each text in corpus (dataset).\n",
    "\n",
    "1. Tokenize - split each document into words that appear in it (split on whitespace or punctuation).\n",
    "2. Build vocabulary - collect all words that appear in all documents and number them.\n",
    "3. Encode - for each document count how often each word from vocabulary appears in each document."
   ]
  },
  {
   "cell_type": "code",
   "execution_count": 7,
   "metadata": {},
   "outputs": [
    {
     "name": "stdout",
     "output_type": "stream",
     "text": [
      "Vocabulary size: 13\n",
      "Vocab content: {'the': 9, 'fool': 3, 'doth': 2, 'think': 10, 'he': 4, 'is': 6, 'wise': 12, 'but': 1, 'man': 8, 'knows': 7, 'himself': 5, 'to': 11, 'be': 0}\n"
     ]
    }
   ],
   "source": [
    "# Example bag of words\n",
    "bards_words =[\"The fool doth think he is wise,\",\n",
    "              \"but the wise man knows himself to be a fool\"]\n",
    "vect = CountVectorizer() # sklearn bag-of-words representation\n",
    "vect.fit(bards_words) # tokenize and build vocabulary\n",
    "print('Vocabulary size: {}'.format(len(vect.vocabulary_)))\n",
    "print('Vocab content: {}'.format(vect.vocabulary_))"
   ]
  },
  {
   "cell_type": "code",
   "execution_count": 8,
   "metadata": {},
   "outputs": [
    {
     "name": "stdout",
     "output_type": "stream",
     "text": [
      "<2x13 sparse matrix of type '<class 'numpy.int64'>'\n",
      "\twith 16 stored elements in Compressed Sparse Row format>\n"
     ]
    },
    {
     "data": {
      "text/plain": [
       "array([[0, 0, 1, 1, 1, 0, 1, 0, 0, 1, 1, 0, 1],\n",
       "       [1, 1, 0, 1, 0, 1, 0, 1, 1, 1, 0, 1, 1]])"
      ]
     },
     "execution_count": 8,
     "metadata": {},
     "output_type": "execute_result"
    }
   ],
   "source": [
    "bag_of_words = vect.transform(bards_words) # encode to bag of words representation\n",
    "print(repr(bag_of_words)) # SciPy sparse matrix\n",
    "bag_of_words.toarray() # convert to array to view content"
   ]
  },
  {
   "cell_type": "code",
   "execution_count": 9,
   "metadata": {},
   "outputs": [
    {
     "name": "stdout",
     "output_type": "stream",
     "text": [
      "<25000x74849 sparse matrix of type '<class 'numpy.int64'>'\n",
      "\twith 3431196 stored elements in Compressed Sparse Row format>\n"
     ]
    }
   ],
   "source": [
    "# Bag of words imdb\n",
    "vect = CountVectorizer()\n",
    "vect.fit(text_train) # tokenize and build vocabulary\n",
    "X_train = vect.transform(text_train) # encode to bag of words representation\n",
    "print(repr(X_train))"
   ]
  },
  {
   "cell_type": "code",
   "execution_count": 10,
   "metadata": {},
   "outputs": [
    {
     "name": "stdout",
     "output_type": "stream",
     "text": [
      "Number of features: 74849\n",
      "\n",
      "First 20 features: ['00', '000', '0000000000001', '00001', '00015', '000s', '001', '003830', '006', '007', '0079', '0080', '0083', '0093638', '00am', '00pm', '00s', '01', '01pm', '02']\n",
      "\n",
      "20010 to 20030 features: ['dratted', 'draub', 'draught', 'draughts', 'draughtswoman', 'draw', 'drawback', 'drawbacks', 'drawer', 'drawers', 'drawing', 'drawings', 'drawl', 'drawled', 'drawling', 'drawn', 'draws', 'draza', 'dre', 'drea']\n",
      "\n",
      "Every 2000th feature: ['00', 'aesir', 'aquarian', 'barking', 'blustering', 'bête', 'chicanery', 'condensing', 'cunning', 'detox', 'draper', 'enshrined', 'favorit', 'freezer', 'goldman', 'hasan', 'huitieme', 'intelligible', 'kantrowitz', 'lawful', 'maars', 'megalunged', 'mostey', 'norrland', 'padilla', 'pincher', 'promisingly', 'receptionist', 'rivals', 'schnaas', 'shunning', 'sparse', 'subset', 'temptations', 'treatises', 'unproven', 'walkman', 'xylophonist']\n"
     ]
    }
   ],
   "source": [
    "feature_names = vect.get_feature_names() # get vocabulary in form of list\n",
    "print('Number of features: {}\\n'.format(len(feature_names)))\n",
    "print('First 20 features: {}\\n'.format(feature_names[:20]))\n",
    "print('20010 to 20030 features: {}\\n'.format(feature_names[20010:20030]))\n",
    "print('Every 2000th feature: {}'.format(feature_names[::2000]))"
   ]
  },
  {
   "cell_type": "code",
   "execution_count": 11,
   "metadata": {},
   "outputs": [
    {
     "name": "stdout",
     "output_type": "stream",
     "text": [
      "Mean CV accuracy: 0.88\n"
     ]
    }
   ],
   "source": [
    "scores = cross_val_score(LogisticRegression(solver='lbfgs', max_iter=100000), X_train, y_train, cv=5)\n",
    "print('Mean CV accuracy: {:.2f}'.format(np.mean(scores)))"
   ]
  },
  {
   "cell_type": "code",
   "execution_count": 12,
   "metadata": {},
   "outputs": [
    {
     "name": "stdout",
     "output_type": "stream",
     "text": [
      "Test score: 0.87\n"
     ]
    }
   ],
   "source": [
    "X_test = vect.transform(text_test)\n",
    "lr = LogisticRegression(solver='lbfgs', max_iter=100000).fit(X_train, y_train)\n",
    "print('Test score: {:.2f}'.format(lr.score(X_test, y_test)))"
   ]
  },
  {
   "cell_type": "code",
   "execution_count": 13,
   "metadata": {},
   "outputs": [
    {
     "name": "stdout",
     "output_type": "stream",
     "text": [
      "Best CV score: 0.89\n",
      "Best parameters: {'C': 0.1}\n"
     ]
    }
   ],
   "source": [
    "# Tune C\n",
    "param_grid = {'C': [0.001, 0.01, 0.1, 1, 10]}\n",
    "grid = GridSearchCV(LogisticRegression(solver='lbfgs', max_iter=100000), param_grid, cv=5)\n",
    "grid.fit(X_train, y_train)\n",
    "print('Best CV score: {:.2f}'.format(grid.best_score_))\n",
    "print('Best parameters: {}'.format(grid.best_params_))"
   ]
  },
  {
   "cell_type": "code",
   "execution_count": 14,
   "metadata": {},
   "outputs": [
    {
     "name": "stdout",
     "output_type": "stream",
     "text": [
      "Test score: 0.88\n"
     ]
    }
   ],
   "source": [
    "X_test = vect.transform(text_test)\n",
    "print('Test score: {:.2f}'.format(grid.score(X_test, y_test)))"
   ]
  },
  {
   "cell_type": "code",
   "execution_count": 15,
   "metadata": {},
   "outputs": [
    {
     "name": "stdout",
     "output_type": "stream",
     "text": [
      "<25000x27271 sparse matrix of type '<class 'numpy.int64'>'\n",
      "\twith 3354014 stored elements in Compressed Sparse Row format>\n"
     ]
    }
   ],
   "source": [
    "# Set minimum number of documents token needs to appear in\n",
    "vect = CountVectorizer(min_df=5)\n",
    "\n",
    "# Tokenize and build vocabulary\n",
    "vect.fit(text_train)\n",
    "\n",
    "# Encode\n",
    "X_train = vect.transform(text_train)\n",
    "print(repr(X_train))\n",
    "\n",
    "# Reduced number of features"
   ]
  },
  {
   "cell_type": "code",
   "execution_count": 16,
   "metadata": {},
   "outputs": [
    {
     "name": "stdout",
     "output_type": "stream",
     "text": [
      "Number of features: 27271\n",
      "\n",
      "First 20 features: ['00', '000', '007', '00s', '01', '02', '03', '04', '05', '06', '07', '08', '09', '10', '100', '1000', '100th', '101', '102', '103']\n",
      "\n",
      "20010 to 20030 features: ['repentance', 'repercussions', 'repertoire', 'repetition', 'repetitions', 'repetitious', 'repetitive', 'rephrase', 'replace', 'replaced', 'replacement', 'replaces', 'replacing', 'replay', 'replayable', 'replayed', 'replaying', 'replays', 'replete', 'replica']\n",
      "\n",
      "Every 1000th feature: ['00', 'alternatively', 'baked', 'bothersome', 'centipede', 'complicity', 'cutlery', 'disgraceful', 'elton', 'fatal', 'gaining', 'hamburgers', 'ideals', 'ivory', 'leering', 'martin', 'moxy', 'opportunist', 'picasso', 'prudish', 'repartee', 'sas', 'silvers', 'standup', 'talkative', 'trend', 'verisimilitude', 'wreaking']\n"
     ]
    }
   ],
   "source": [
    "feature_names = vect.get_feature_names()\n",
    "print('Number of features: {}\\n'.format(len(feature_names)))\n",
    "print('First 20 features: {}\\n'.format(feature_names[:20]))\n",
    "print('20010 to 20030 features: {}\\n'.format(feature_names[20010:20030]))\n",
    "print('Every 1000th feature: {}'.format(feature_names[::1000]))"
   ]
  },
  {
   "cell_type": "code",
   "execution_count": 17,
   "metadata": {},
   "outputs": [
    {
     "name": "stdout",
     "output_type": "stream",
     "text": [
      "Best CV score: 0.89\n",
      "Best parameters: {'C': 0.1}\n"
     ]
    }
   ],
   "source": [
    "grid = GridSearchCV(LogisticRegression(solver='lbfgs', max_iter=100000), param_grid, cv=5)\n",
    "grid.fit(X_train, y_train)\n",
    "print('Best CV score: {:.2f}'.format(grid.best_score_))\n",
    "print('Best parameters: {}'.format(grid.best_params_))\n",
    "\n",
    "# Less number of features didn't improve accuracy"
   ]
  },
  {
   "cell_type": "code",
   "execution_count": 18,
   "metadata": {},
   "outputs": [
    {
     "name": "stdout",
     "output_type": "stream",
     "text": [
      "Number of stopwords: 318\n",
      "\n",
      "Every 10th stopword: ['no', 'whereafter', 'namely', 'become', 'already', 'both', 'yourselves', 'him', 'why', 'cannot', 'together', 'until', 'of', 'this', 'was', 'within', 'whatever', 'due', 'had', 'few', 'so', 'one', 'anything', 'some', 'beforehand', 'besides', 'nowhere', 'yet', 'amongst', 'because', 'without', 'whether']\n"
     ]
    }
   ],
   "source": [
    "# Built-in list of English stopwords \n",
    "print('Number of stopwords: {}\\n'.format(len(ENGLISH_STOP_WORDS)))\n",
    "print('Every 10th stopword: {}'.format(list(ENGLISH_STOP_WORDS)[::10]))"
   ]
  },
  {
   "cell_type": "code",
   "execution_count": 19,
   "metadata": {},
   "outputs": [
    {
     "name": "stdout",
     "output_type": "stream",
     "text": [
      "Number of features: 26966\n"
     ]
    }
   ],
   "source": [
    "vect = CountVectorizer(min_df=5, stop_words='english')\n",
    "vect.fit(text_train)\n",
    "X_train = vect.transform(text_train)\n",
    "print('Number of features: {}'.format(len(vect.get_feature_names())))"
   ]
  },
  {
   "cell_type": "code",
   "execution_count": 20,
   "metadata": {},
   "outputs": [
    {
     "name": "stdout",
     "output_type": "stream",
     "text": [
      "Best CV score: 0.88\n",
      "Best parameters: {'C': 0.1}\n"
     ]
    }
   ],
   "source": [
    "grid = GridSearchCV(LogisticRegression(solver='lbfgs', max_iter=100000), param_grid, cv=5)\n",
    "grid.fit(X_train, y_train)\n",
    "print('Best CV score: {:.2f}'.format(grid.best_score_))\n",
    "print('Best parameters: {}'.format(grid.best_params_))\n",
    "# Less number of features didn't improve accuracy"
   ]
  },
  {
   "cell_type": "code",
   "execution_count": 21,
   "metadata": {},
   "outputs": [
    {
     "name": "stdout",
     "output_type": "stream",
     "text": [
      "Number of features: 155410\n"
     ]
    }
   ],
   "source": [
    "# Discard frequently appearing words with max_df (corpus-specific stop words)\n",
    "# Consider bigrams\n",
    "vect = CountVectorizer(min_df=5, max_df=0.5, ngram_range=(1, 2))\n",
    "vect.fit(text_train)\n",
    "X_train = vect.transform(text_train)\n",
    "print('Number of features: {}'.format(len(vect.get_feature_names())))"
   ]
  },
  {
   "cell_type": "code",
   "execution_count": 22,
   "metadata": {},
   "outputs": [
    {
     "name": "stdout",
     "output_type": "stream",
     "text": [
      "Best CV score: 0.90\n",
      "Best parameters: {'C': 0.1}\n"
     ]
    }
   ],
   "source": [
    "grid = GridSearchCV(LogisticRegression(solver='lbfgs', max_iter=100000), param_grid, cv=5)\n",
    "grid.fit(X_train, y_train)\n",
    "print('Best CV score: {:.2f}'.format(grid.best_score_))\n",
    "print('Best parameters: {}'.format(grid.best_params_))\n",
    "# Using ngrams improves accuracy"
   ]
  },
  {
   "cell_type": "code",
   "execution_count": 23,
   "metadata": {},
   "outputs": [
    {
     "data": {
      "text/plain": [
       "GridSearchCV(cv=5, error_score='raise-deprecating',\n",
       "             estimator=Pipeline(memory=None,\n",
       "                                steps=[('tfidfvectorizer',\n",
       "                                        TfidfVectorizer(analyzer='word',\n",
       "                                                        binary=False,\n",
       "                                                        decode_error='strict',\n",
       "                                                        dtype=<class 'numpy.float64'>,\n",
       "                                                        encoding='utf-8',\n",
       "                                                        input='content',\n",
       "                                                        lowercase=True,\n",
       "                                                        max_df=1.0,\n",
       "                                                        max_features=None,\n",
       "                                                        min_df=5,\n",
       "                                                        ngram_range=(1, 1),\n",
       "                                                        norm=None,\n",
       "                                                        preprocessor=None,\n",
       "                                                        smooth_idf=True...\n",
       "                                                           fit_intercept=True,\n",
       "                                                           intercept_scaling=1,\n",
       "                                                           l1_ratio=None,\n",
       "                                                           max_iter=100000,\n",
       "                                                           multi_class='warn',\n",
       "                                                           n_jobs=None,\n",
       "                                                           penalty='l2',\n",
       "                                                           random_state=None,\n",
       "                                                           solver='lbfgs',\n",
       "                                                           tol=0.0001,\n",
       "                                                           verbose=0,\n",
       "                                                           warm_start=False))],\n",
       "                                verbose=False),\n",
       "             iid='warn', n_jobs=None,\n",
       "             param_grid={'logisticregression__C': [0.001, 0.01, 0.1, 1, 10]},\n",
       "             pre_dispatch='2*n_jobs', refit=True, return_train_score=False,\n",
       "             scoring=None, verbose=0)"
      ]
     },
     "execution_count": 23,
     "metadata": {},
     "output_type": "execute_result"
    }
   ],
   "source": [
    "# Try TF-IDF\n",
    "\n",
    "# TfidfTransformer: take in the sparse matrix produced by CountVectorizer and transform it\n",
    "# TfidfVectorizer: take text data, do bag-of words feature extraction and tf-idf transform\n",
    "\n",
    "pipe = make_pipeline(TfidfVectorizer(min_df=5, norm=None), LogisticRegression(solver='lbfgs', max_iter=100000))\n",
    "param_grid = {'logisticregression__C': [0.001, 0.01, 0.1, 1, 10]}\n",
    "grid = GridSearchCV(pipe, param_grid, cv=5)\n",
    "grid.fit(text_train, y_train)"
   ]
  },
  {
   "cell_type": "code",
   "execution_count": 24,
   "metadata": {},
   "outputs": [
    {
     "name": "stdout",
     "output_type": "stream",
     "text": [
      "Best CV score: 0.89\n",
      "Best parameters: {'logisticregression__C': 0.001}\n"
     ]
    }
   ],
   "source": [
    "print('Best CV score: {:.2f}'.format(grid.best_score_))\n",
    "print('Best parameters: {}'.format(grid.best_params_))"
   ]
  },
  {
   "cell_type": "code",
   "execution_count": 25,
   "metadata": {},
   "outputs": [
    {
     "name": "stdout",
     "output_type": "stream",
     "text": [
      "Features with lowest TF-IDF: ['poignant' 'disagree' 'instantly' 'importantly' 'lacked' 'occurred'\n",
      " 'currently' 'altogether' 'nearby' 'undoubtedly' 'directs' 'fond'\n",
      " 'stinker' 'avoided' 'emphasis' 'commented' 'disappoint' 'realizing'\n",
      " 'downhill' 'inane']\n",
      "\n",
      "Feature with highest TF-IDF: ['coop' 'homer' 'dillinger' 'hackenstein' 'gadget' 'taker' 'macarthur'\n",
      " 'vargas' 'jesse' 'basket' 'dominick' 'the' 'victor' 'bridget' 'victoria'\n",
      " 'khouri' 'zizek' 'rob' 'timon' 'titanic']\n",
      "\n"
     ]
    }
   ],
   "source": [
    "# Extract TfidfVectorizer from pipeline\n",
    "vectorizer = grid.best_estimator_.named_steps['tfidfvectorizer']\n",
    "\n",
    "# Transform train set\n",
    "X_train = vectorizer.transform(text_train)\n",
    "\n",
    "# Get maximum value for each feature over train data\n",
    "max_value = X_train.max(axis=0).toarray().ravel()\n",
    "sorted_by_tfidf = max_value.argsort() # indices of sorted values\n",
    "\n",
    "# Get feature names\n",
    "feature_names = np.array(vectorizer.get_feature_names())\n",
    "\n",
    "# Important features by TF-IDF\n",
    "print('Features with lowest TF-IDF: {}\\n'.format(feature_names[sorted_by_tfidf[:20]]))\n",
    "print('Feature with highest TF-IDF: {}\\n'.format(feature_names[sorted_by_tfidf[-20:]]))"
   ]
  },
  {
   "cell_type": "code",
   "execution_count": 26,
   "metadata": {},
   "outputs": [
    {
     "name": "stdout",
     "output_type": "stream",
     "text": [
      "['the' 'and' 'of' 'to' 'this' 'is' 'it' 'in' 'that' 'but' 'for' 'with'\n",
      " 'was' 'as' 'on' 'movie' 'not' 'have' 'one' 'be' 'film' 'are' 'you' 'all'\n",
      " 'at' 'an' 'by' 'so' 'from' 'like' 'who' 'they' 'there' 'if' 'his' 'out'\n",
      " 'just' 'about' 'he' 'or' 'has' 'what' 'some' 'good' 'can' 'more' 'when'\n",
      " 'time' 'up' 'very' 'even' 'only' 'no' 'would' 'my' 'see' 'really' 'story'\n",
      " 'which' 'well' 'had' 'me' 'than' 'much' 'their' 'get' 'were' 'other'\n",
      " 'been' 'do' 'most' 'don' 'her' 'also' 'into' 'first' 'made' 'how' 'great'\n",
      " 'because' 'will' 'people' 'make' 'way' 'could' 'we' 'bad' 'after' 'any'\n",
      " 'too' 'then' 'them' 'she' 'watch' 'think' 'acting' 'movies' 'seen' 'its'\n",
      " 'him']\n"
     ]
    }
   ],
   "source": [
    "# Features with low IDF - appear frequently in all documents ==> less important\n",
    "sorted_by_idf = np.argsort(vectorizer.idf_)\n",
    "print(feature_names[sorted_by_idf[:100]])"
   ]
  },
  {
   "cell_type": "code",
   "execution_count": 27,
   "metadata": {},
   "outputs": [
    {
     "data": {
      "image/png": "[encoded data removed]",
      "text/plain": [
       "<Figure size 1080x360 with 1 Axes>"
      ]
     },
     "metadata": {
      "needs_background": "light"
     },
     "output_type": "display_data"
    }
   ],
   "source": [
    "# Visualize coefficients learned by model with tf-idf features\n",
    "mglearn.tools.visualize_coefficients(grid.best_estimator_.named_steps['logisticregression'].coef_,\n",
    "                                     feature_names, n_top_features=40)\n",
    "\n",
    "# https://github.com/amueller/mglearn/blob/master/mglearn/tools.py"
   ]
  },
  {
   "cell_type": "code",
   "execution_count": 28,
   "metadata": {},
   "outputs": [
    {
     "name": "stdout",
     "output_type": "stream",
     "text": [
      "['The fool doth think he is wise,', 'but the wise man knows himself to be a fool']\n",
      "Vocabulary length: 13\n",
      "Vocabulary: ['be', 'but', 'doth', 'fool', 'he', 'himself', 'is', 'knows', 'man', 'the', 'think', 'to', 'wise']\n"
     ]
    }
   ],
   "source": [
    "# Using n-grams\n",
    "print(bards_words)\n",
    "\n",
    "# Default is creating unigrams\n",
    "vect = CountVectorizer(ngram_range=(1, 1))\n",
    "vect.fit(bards_words)\n",
    "vocab = vect.vocabulary_\n",
    "print('Vocabulary length: {}'.format(len(vocab)))\n",
    "print('Vocabulary: {}'.format(vect.get_feature_names()))"
   ]
  },
  {
   "cell_type": "code",
   "execution_count": 29,
   "metadata": {},
   "outputs": [
    {
     "name": "stdout",
     "output_type": "stream",
     "text": [
      "Vocab length: 14\n",
      "Vocab: ['be fool', 'but the', 'doth think', 'fool doth', 'he is', 'himself to', 'is wise', 'knows himself', 'man knows', 'the fool', 'the wise', 'think he', 'to be', 'wise man']\n"
     ]
    }
   ],
   "source": [
    "# Create Only bigrams\n",
    "vect = CountVectorizer(ngram_range=(2, 2))\n",
    "vect.fit(bards_words)\n",
    "vocab = vect.vocabulary_\n",
    "feature_names = vect.get_feature_names()\n",
    "print('Vocab length: {}'.format(len(vocab)))\n",
    "print('Vocab: {}'.format(feature_names))"
   ]
  },
  {
   "cell_type": "code",
   "execution_count": 30,
   "metadata": {},
   "outputs": [
    {
     "name": "stdout",
     "output_type": "stream",
     "text": [
      "[[0 0 1 1 1 0 1 0 0 1 0 1 0 0]\n",
      " [1 1 0 0 0 1 0 1 1 0 1 0 1 1]]\n"
     ]
    }
   ],
   "source": [
    "# More specific features (no common bigrams)\n",
    "print(vect.transform(bards_words).toarray())"
   ]
  },
  {
   "cell_type": "code",
   "execution_count": 31,
   "metadata": {},
   "outputs": [
    {
     "name": "stdout",
     "output_type": "stream",
     "text": [
      "Vocab length: 39\n",
      "Vocab: ['be', 'be fool', 'but', 'but the', 'but the wise', 'doth', 'doth think', 'doth think he', 'fool', 'fool doth', 'fool doth think', 'he', 'he is', 'he is wise', 'himself', 'himself to', 'himself to be', 'is', 'is wise', 'knows', 'knows himself', 'knows himself to', 'man', 'man knows', 'man knows himself', 'the', 'the fool', 'the fool doth', 'the wise', 'the wise man', 'think', 'think he', 'think he is', 'to', 'to be', 'to be fool', 'wise', 'wise man', 'wise man knows']\n"
     ]
    }
   ],
   "source": [
    "# Unigrams, bigrams and trigrams\n",
    "vect = CountVectorizer(ngram_range=(1, 3))\n",
    "vect.fit(bards_words)\n",
    "vocab = vect.vocabulary_\n",
    "feature_names = vect.get_feature_names()\n",
    "print('Vocab length: {}'.format(len(vocab)))\n",
    "print('Vocab: {}'.format(feature_names))"
   ]
  },
  {
   "cell_type": "markdown",
   "metadata": {},
   "source": [
    "#### Normalization:\n",
    "1. Stemming.\n",
    "2. Lemmatization."
   ]
  },
  {
   "cell_type": "code",
   "execution_count": 32,
   "metadata": {},
   "outputs": [],
   "source": [
    "import spacy\n",
    "import nltk\n",
    "import re\n",
    "from sklearn.model_selection import StratifiedShuffleSplit"
   ]
  },
  {
   "cell_type": "code",
   "execution_count": 33,
   "metadata": {},
   "outputs": [
    {
     "name": "stdout",
     "output_type": "stream",
     "text": [
      "Lemmatization:\n",
      "['-PRON-', 'meeting', 'today', 'be', 'bad', 'than', 'yesterday', ',', '-PRON-', 'be', 'scared', 'of', 'meet', 'the', 'client', 'tomorrow', '.']\n",
      "Stemming:\n",
      "['our', 'meet', 'today', 'wa', 'wors', 'than', 'yesterday', ',', 'i', 'am', 'scare', 'of', 'meet', 'the', 'client', 'tomorrow', '.']\n"
     ]
    }
   ],
   "source": [
    "# Load spacy English language models\n",
    "en_nlp = spacy.load('en')\n",
    "\n",
    "# Nltk Porter Stemmer\n",
    "stemmer = nltk.stem.PorterStemmer()\n",
    "\n",
    "# Function to compare lemmatization in spacy with stemming in nltk\n",
    "def compare_normalization(doc):\n",
    "    # tokenize document in spacy\n",
    "    doc_spacy = en_nlp(doc)\n",
    "    \n",
    "    # print lemmas found by spacy\n",
    "    print('Lemmatization:')\n",
    "    print([token.lemma_ for token in doc_spacy])\n",
    "    \n",
    "    # print tokens found by Porter stemmer\n",
    "    print('Stemming:')\n",
    "    print([stemmer.stem(token.norm_.lower()) for token in doc_spacy])\n",
    "    \n",
    "compare_normalization(u\"Our meeting today was worse than yesterday, \"\n",
    "                      \"I'm scared of meeting the clients tomorrow.\")"
   ]
  },
  {
   "cell_type": "code",
   "execution_count": 34,
   "metadata": {},
   "outputs": [
    {
     "name": "stdout",
     "output_type": "stream",
     "text": [
      "Lemmatization:\n",
      "['happy', 'family', 'be', 'all', 'alike', ';', 'every', 'unhappy', 'family', 'be', 'unhappy', 'in', '-PRON-', 'own', 'way', '.', 'Everything', 'be', 'in', 'confusion', 'in', 'the', 'Oblonskys', \"'\", 'house', '.']\n",
      "Stemming:\n",
      "['happi', 'famili', 'are', 'all', 'alik', ';', 'everi', 'unhappi', 'famili', 'is', 'unhappi', 'in', 'it', 'own', 'way', '.', 'everyth', 'wa', 'in', 'confus', 'in', 'the', 'oblonski', \"'\", 'hous', '.']\n"
     ]
    }
   ],
   "source": [
    "compare_normalization(\"Happy families are all alike; every unhappy family is unhappy in its own way.\"\n",
    "                     \"Everything was in confusion in the Oblonskys' house. \")"
   ]
  },
  {
   "cell_type": "code",
   "execution_count": 35,
   "metadata": {},
   "outputs": [
    {
     "name": "stdout",
     "output_type": "stream",
     "text": [
      "(25000, 21571)\n",
      "(25000, 27271)\n"
     ]
    }
   ],
   "source": [
    "# Specify tokenizer for CountVectorizer (parameter of the same name)\n",
    "# New tokenizer: default regexp tokenizer + lemmatization from spacy\n",
    "# ==> replace spacy tokenizer with regexp-based tokenization\n",
    "\n",
    "# Default regexp from CountVectorizer\n",
    "regexp = re.compile('(?u)\\\\b\\\\w\\\\w+\\\\b') # regexp object with findall method\n",
    "\n",
    "# Load spacy language model\n",
    "en_nlp = spacy.load('en', disable=['parser', 'ner']) # spacy.lang.en.English\n",
    "\n",
    "# Save old tokenizer\n",
    "old_tokenizer = en_nlp.tokenizer # spacy.tokenizer.Tokenizer\n",
    "\n",
    "# Replace tokenizer with regexp\n",
    "en_nlp.tokenizer = lambda string: old_tokenizer.tokens_from_list(regexp.findall(string))\n",
    "\n",
    "# Custom tokenizer\n",
    "def custom_tokenizer(document):\n",
    "    doc_spacy = en_nlp(document)\n",
    "    return [token.lemma_ for token in doc_spacy]\n",
    "\n",
    "# Count vectorizer with custom tokenizer\n",
    "lemma_vect = CountVectorizer(tokenizer=custom_tokenizer, min_df=5)\n",
    "\n",
    "# Transform train data\n",
    "X_train_lemma = lemma_vect.fit_transform(text_train)\n",
    "print(X_train_lemma.shape)\n",
    "\n",
    "# Standard Count vectorizer\n",
    "vect = CountVectorizer(min_df=5)\n",
    "vect.fit(text_train)\n",
    "X_train = vect.transform(text_train)\n",
    "print(X_train.shape)\n",
    "\n",
    "# Lemmatization reduced number of features"
   ]
  },
  {
   "cell_type": "code",
   "execution_count": 36,
   "metadata": {},
   "outputs": [
    {
     "name": "stdout",
     "output_type": "stream",
     "text": [
      "Best CV score (CountVectorizer): 0.723\n",
      "Best CV score with lemmatization: 0.735\n"
     ]
    }
   ],
   "source": [
    "# Check scores\n",
    "param_grid = {'C': [0.001, 0.01, 0.1, 1, 10]}\n",
    "\n",
    "# 1% for training\n",
    "cv = StratifiedShuffleSplit(n_splits=5, test_size=0.99, train_size=0.01, random_state=0)\n",
    "grid = GridSearchCV(LogisticRegression(solver='saga', max_iter=100000), param_grid, cv=cv)\n",
    "\n",
    "# Standard CountVectorizer\n",
    "grid.fit(X_train, y_train)\n",
    "print('Best CV score (CountVectorizer): {:.3f}'.format(grid.best_score_))\n",
    "\n",
    "# With lemmatization\n",
    "grid.fit(X_train_lemma, y_train)\n",
    "print('Best CV score with lemmatization: {:.3f}'.format(grid.best_score_))\n",
    "\n",
    "# Performance improved with lemmatization"
   ]
  },
  {
   "cell_type": "markdown",
   "metadata": {},
   "source": [
    "## Topic modeling\n",
    "\n",
    "**Topic modeling** - task of assigning each document to one or multiple topics, usually without supervision.\n",
    "\n",
    "If each document is assigned a single topic - the task of **clustering the documents**.\n",
    "\n",
    "If each document can have more than one topic - the task of **decomposition.** Each component corresponds to 1 topic. Coefficients of components in the document representation - show how strongly document is related to topics.\n",
    "\n",
    "### Latent Dirichlet Allocation (LDA)\n",
    "\n",
    "Decomposition method.\n",
    "\n",
    "**Intuition**: find groups of words (topics) that appear together frequently.\n",
    "\n",
    "**Assumption**: each document can be understood as a mixture of a subset of the topics.\n",
    "\n",
    "**Notes**:\n",
    "1. Topic may not have semantic meaning.\n",
    "2. It is better to remove common words as they might dominate the analysis.\n",
    "3. Topics don’t have an inherent ordering.\n",
    "4. Changing the number of topics will change all topics.\n",
    "5. Changing random_state may lead to different outcomes.\n",
    "6. Topics produced by the LDA.transform method can be used as compact representation for supervised learning."
   ]
  },
  {
   "cell_type": "code",
   "execution_count": 37,
   "metadata": {},
   "outputs": [],
   "source": [
    "from sklearn.decomposition import LatentDirichletAllocation\n",
    "\n",
    "# Limit vocabulary to 10000 most frequent words\n",
    "# Ignore words that appear in at least 15% of documents\n",
    "vect = CountVectorizer(max_features=10000, max_df=0.15)\n",
    "X = vect.fit_transform(text_train)"
   ]
  },
  {
   "cell_type": "code",
   "execution_count": 38,
   "metadata": {},
   "outputs": [],
   "source": [
    "# Extract 10 topics\n",
    "lda = LatentDirichletAllocation(n_components=10, learning_method='batch',\n",
    "                                max_iter=25, random_state=0)\n",
    "\n",
    "document_topics = lda.fit_transform(X)"
   ]
  },
  {
   "cell_type": "code",
   "execution_count": 39,
   "metadata": {},
   "outputs": [
    {
     "name": "stdout",
     "output_type": "stream",
     "text": [
      "(10, 10000)\n",
      "(25000, 10)\n",
      "<class 'numpy.ndarray'>\n"
     ]
    }
   ],
   "source": [
    "# Components_ attribute stores how important each word is for each topic\n",
    "# (n_topics, n_words)\n",
    "print(lda.components_.shape)\n",
    "\n",
    "# Each document is represented by 10 components - 1 for each topic\n",
    "print(document_topics.shape)\n",
    "print(type(document_topics))"
   ]
  },
  {
   "cell_type": "code",
   "execution_count": 40,
   "metadata": {},
   "outputs": [
    {
     "name": "stdout",
     "output_type": "stream",
     "text": [
      "topic 0       topic 1       topic 2       topic 3       topic 4       \n",
      "--------      --------      --------      --------      --------      \n",
      "between       war           funny         show          didn          \n",
      "young         world         worst         series        saw           \n",
      "family        us            comedy        episode       am            \n",
      "real          our           thing         tv            thought       \n",
      "performance   american      guy           episodes      years         \n",
      "beautiful     documentary   re            shows         book          \n",
      "work          history       stupid        season        watched       \n",
      "each          new           actually      new           now           \n",
      "both          own           nothing       television    dvd           \n",
      "director      point         want          years         got           \n",
      "\n",
      "\n",
      "topic 5       topic 6       topic 7       topic 8       topic 9       \n",
      "--------      --------      --------      --------      --------      \n",
      "horror        kids          cast          performance   house         \n",
      "action        action        role          role          woman         \n",
      "effects       animation     john          john          gets          \n",
      "budget        game          version       actor         killer        \n",
      "nothing       fun           novel         oscar         girl          \n",
      "original      disney        both          cast          wife          \n",
      "director      children      director      plays         horror        \n",
      "minutes       10            played        jack          young         \n",
      "pretty        kid           performance   joe           goes          \n",
      "doesn         old           mr            performances  around        \n",
      "\n",
      "\n"
     ]
    }
   ],
   "source": [
    "# Look at the most important words for each topic\n",
    "# Each topic - row in lda.components_\n",
    "\n",
    "# Sort features for each topic\n",
    "sorting = np.argsort(lda.components_, axis=1)[:, ::-1]\n",
    "\n",
    "# Get feature names\n",
    "feature_names = np.array(vect.get_feature_names())\n",
    "\n",
    "# https://github.com/amueller/mglearn/blob/master/mglearn/tools.py\n",
    "mglearn.tools.print_topics(topics=range(10), feature_names=feature_names,\n",
    "                           sorting=sorting, topics_per_chunk=5, n_words=10)"
   ]
  },
  {
   "cell_type": "code",
   "execution_count": 41,
   "metadata": {},
   "outputs": [
    {
     "name": "stdout",
     "output_type": "stream",
     "text": [
      "(25000,) \n",
      "\n",
      "b\"I've seen plenty of Sci-Fi Channel Original movies ever since I started watching them back in 2002 (My first one was Sabretooth - which actually is one of the more entertaining Sci-Fi Channel features in my opinion). Their quality varies.\" \n",
      "\n",
      "b'I don\\'t know whether to recommend this movie to the fans of \" Tetsuo \" or not . Why \" Tetsuo \" ? Because you can easily label some things about this movie as a very obvious \" Tetsuo \" rip - off .' \n",
      "\n",
      "b\"I really tried to like this movie but in the end it just didn't work for me. I have seen most of Kitamura's output and have found it to be very variable.\" \n",
      "\n"
     ]
    }
   ],
   "source": [
    "# Example, inspect topic 5\n",
    "horror = np.argsort(document_topics[:, 5])[::-1] # indices of sorted reviews belonging to 5th topic\n",
    "print(horror.shape, '\\n')\n",
    "# Print reviews related to horror topic\n",
    "for i in horror[:3]:\n",
    "    print(b'.'.join(text_train[i].split(b'.')[:2]) + b'.', '\\n')"
   ]
  },
  {
   "cell_type": "code",
   "execution_count": 42,
   "metadata": {},
   "outputs": [
    {
     "data": {
      "image/png": "[encoded data removed]",
      "text/plain": [
       "<Figure size 720x288 with 2 Axes>"
      ]
     },
     "metadata": {
      "needs_background": "light"
     },
     "output_type": "display_data"
    }
   ],
   "source": [
    "# How much weight each topic gets overall in corpus\n",
    "# Sum document_topics over all reviews\n",
    "\n",
    "fig, ax = plt.subplots(1, 2, figsize=(10, 4))\n",
    "\n",
    "# Name each topic by 2 most common words\n",
    "topic_names = ['{:>2} '.format(i) + ' '.join(words) for i, words in enumerate(feature_names[sorting[:, :2]])]\n",
    "\n",
    "for col in [0, 1]:\n",
    "    start = col * 5\n",
    "    end = (col + 1) * 5\n",
    "    ax[col].barh(np.arange(5), np.sum(document_topics, axis=0)[start:end], height=0.3)\n",
    "    ax[col].set_yticks(np.arange(5))\n",
    "    ax[col].set_yticklabels(topic_names[start:end], ha='left', va='top')\n",
    "    ax[col].invert_yaxis()\n",
    "    ax[col].set_xlim(0, 6000)\n",
    "    yax = ax[col].get_yaxis()\n",
    "    yax.set_tick_params(pad=100)\n",
    "plt.tight_layout()"
   ]
  }
 ],
 "metadata": {
  "kernelspec": {
   "display_name": "Python 3",
   "language": "python",
   "name": "python3"
  },
  "language_info": {
   "codemirror_mode": {
    "name": "ipython",
    "version": 3
   },
   "file_extension": ".py",
   "mimetype": "text/x-python",
   "name": "python",
   "nbconvert_exporter": "python",
   "pygments_lexer": "ipython3",
   "version": "3.6.8"
  }
 },
 "nbformat": 4,
 "nbformat_minor": 2
}
